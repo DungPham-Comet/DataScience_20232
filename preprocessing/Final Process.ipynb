{
 "cells": [
  {
   "cell_type": "code",
   "execution_count": 1,
   "id": "65834970",
   "metadata": {},
   "outputs": [],
   "source": [
    "import pandas as pd"
   ]
  },
  {
   "cell_type": "code",
   "execution_count": 2,
   "id": "8fb6cd4a",
   "metadata": {},
   "outputs": [],
   "source": [
    "hacom = pd.read_csv('hacom.csv')\n",
    "phucanh = pd.read_csv('phucanh.csv')\n",
    "ltworld_gm = pd.read_csv('laptopworld_gaming.csv')\n",
    "ltworld_vp = pd.read_csv('laptopworld_vp.csv')"
   ]
  },
  {
   "cell_type": "code",
   "execution_count": 11,
   "id": "d87f7c23",
   "metadata": {},
   "outputs": [],
   "source": [
    "laptopworld = pd.concat([ltworld_gm, ltworld_vp], ignore_index=True)"
   ]
  },
  {
   "cell_type": "code",
   "execution_count": 16,
   "id": "4253b54a",
   "metadata": {},
   "outputs": [
    {
     "data": {
      "text/html": [
       "<div>\n",
       "<style scoped>\n",
       "    .dataframe tbody tr th:only-of-type {\n",
       "        vertical-align: middle;\n",
       "    }\n",
       "\n",
       "    .dataframe tbody tr th {\n",
       "        vertical-align: top;\n",
       "    }\n",
       "\n",
       "    .dataframe thead th {\n",
       "        text-align: right;\n",
       "    }\n",
       "</style>\n",
       "<table border=\"1\" class=\"dataframe\">\n",
       "  <thead>\n",
       "    <tr style=\"text-align: right;\">\n",
       "      <th></th>\n",
       "      <th>Unnamed: 0</th>\n",
       "      <th>name</th>\n",
       "      <th>brand</th>\n",
       "      <th>chipset</th>\n",
       "      <th>chipset_gen</th>\n",
       "      <th>ram</th>\n",
       "      <th>ram_max</th>\n",
       "      <th>vga</th>\n",
       "      <th>storage_type</th>\n",
       "      <th>storage</th>\n",
       "      <th>os</th>\n",
       "      <th>screen_size</th>\n",
       "      <th>screen_revolution</th>\n",
       "      <th>battery</th>\n",
       "      <th>webcam</th>\n",
       "      <th>weight</th>\n",
       "      <th>price</th>\n",
       "      <th>screen_pixels</th>\n",
       "    </tr>\n",
       "  </thead>\n",
       "  <tbody>\n",
       "    <tr>\n",
       "      <th>16</th>\n",
       "      <td>16</td>\n",
       "      <td>Laptop Asus Gaming TUF FA507UV-LP090W (R9 8945...</td>\n",
       "      <td>Asus</td>\n",
       "      <td>AMD</td>\n",
       "      <td>Ryzen 9</td>\n",
       "      <td>16</td>\n",
       "      <td>32</td>\n",
       "      <td>nvidia</td>\n",
       "      <td>SSD</td>\n",
       "      <td>512</td>\n",
       "      <td>Windows 11</td>\n",
       "      <td>15.6</td>\n",
       "      <td>FHD</td>\n",
       "      <td>90</td>\n",
       "      <td>1</td>\n",
       "      <td>2.2</td>\n",
       "      <td>16299000</td>\n",
       "      <td>1920x1080</td>\n",
       "    </tr>\n",
       "  </tbody>\n",
       "</table>\n",
       "</div>"
      ],
      "text/plain": [
       "    Unnamed: 0                                               name brand  \\\n",
       "16          16  Laptop Asus Gaming TUF FA507UV-LP090W (R9 8945...  Asus   \n",
       "\n",
       "   chipset chipset_gen  ram  ram_max     vga storage_type  storage  \\\n",
       "16     AMD     Ryzen 9   16       32  nvidia          SSD      512   \n",
       "\n",
       "            os  screen_size screen_revolution  battery  webcam  weight  \\\n",
       "16  Windows 11         15.6               FHD       90       1     2.2   \n",
       "\n",
       "       price screen_pixels  \n",
       "16  16299000     1920x1080  "
      ]
     },
     "execution_count": 16,
     "metadata": {},
     "output_type": "execute_result"
    }
   ],
   "source": [
    "hacom.sample(1)"
   ]
  },
  {
   "cell_type": "code",
   "execution_count": 17,
   "id": "15571126",
   "metadata": {},
   "outputs": [
    {
     "data": {
      "text/html": [
       "<div>\n",
       "<style scoped>\n",
       "    .dataframe tbody tr th:only-of-type {\n",
       "        vertical-align: middle;\n",
       "    }\n",
       "\n",
       "    .dataframe tbody tr th {\n",
       "        vertical-align: top;\n",
       "    }\n",
       "\n",
       "    .dataframe thead th {\n",
       "        text-align: right;\n",
       "    }\n",
       "</style>\n",
       "<table border=\"1\" class=\"dataframe\">\n",
       "  <thead>\n",
       "    <tr style=\"text-align: right;\">\n",
       "      <th></th>\n",
       "      <th>Unnamed: 0</th>\n",
       "      <th>name</th>\n",
       "      <th>brand</th>\n",
       "      <th>chipset</th>\n",
       "      <th>chipset_gen</th>\n",
       "      <th>ram</th>\n",
       "      <th>ram_max</th>\n",
       "      <th>vga</th>\n",
       "      <th>storage_type</th>\n",
       "      <th>storage</th>\n",
       "      <th>...</th>\n",
       "      <th>screen_size</th>\n",
       "      <th>screen_width</th>\n",
       "      <th>screen_height</th>\n",
       "      <th>screen_revolution</th>\n",
       "      <th>battery</th>\n",
       "      <th>webcam</th>\n",
       "      <th>weight</th>\n",
       "      <th>price</th>\n",
       "      <th>screen_resolution</th>\n",
       "      <th>screen_full</th>\n",
       "    </tr>\n",
       "  </thead>\n",
       "  <tbody>\n",
       "    <tr>\n",
       "      <th>47</th>\n",
       "      <td>47</td>\n",
       "      <td>Laptop Asus ROG Zephyrus G14 GA402XV (Ryzen 9-...</td>\n",
       "      <td>Asus</td>\n",
       "      <td>Intel</td>\n",
       "      <td>i7</td>\n",
       "      <td>16</td>\n",
       "      <td>16.0</td>\n",
       "      <td>nvidia</td>\n",
       "      <td>SSD</td>\n",
       "      <td>512</td>\n",
       "      <td>...</td>\n",
       "      <td>14.0</td>\n",
       "      <td>2560.0</td>\n",
       "      <td>1440.0</td>\n",
       "      <td>NaN</td>\n",
       "      <td>76</td>\n",
       "      <td>1</td>\n",
       "      <td>1.65</td>\n",
       "      <td>35990000.0</td>\n",
       "      <td>2K</td>\n",
       "      <td>2560 x 1440</td>\n",
       "    </tr>\n",
       "  </tbody>\n",
       "</table>\n",
       "<p>1 rows × 21 columns</p>\n",
       "</div>"
      ],
      "text/plain": [
       "    Unnamed: 0                                               name brand  \\\n",
       "47          47  Laptop Asus ROG Zephyrus G14 GA402XV (Ryzen 9-...  Asus   \n",
       "\n",
       "   chipset chipset_gen  ram  ram_max     vga storage_type  storage  ...  \\\n",
       "47   Intel          i7   16     16.0  nvidia          SSD      512  ...   \n",
       "\n",
       "   screen_size  screen_width  screen_height  screen_revolution  battery  \\\n",
       "47        14.0        2560.0         1440.0                NaN       76   \n",
       "\n",
       "    webcam  weight       price  screen_resolution  screen_full  \n",
       "47       1    1.65  35990000.0                 2K  2560 x 1440  \n",
       "\n",
       "[1 rows x 21 columns]"
      ]
     },
     "execution_count": 17,
     "metadata": {},
     "output_type": "execute_result"
    }
   ],
   "source": [
    "laptopworld.sample(1)"
   ]
  },
  {
   "cell_type": "code",
   "execution_count": 18,
   "id": "3966e12e",
   "metadata": {},
   "outputs": [
    {
     "data": {
      "text/html": [
       "<div>\n",
       "<style scoped>\n",
       "    .dataframe tbody tr th:only-of-type {\n",
       "        vertical-align: middle;\n",
       "    }\n",
       "\n",
       "    .dataframe tbody tr th {\n",
       "        vertical-align: top;\n",
       "    }\n",
       "\n",
       "    .dataframe thead th {\n",
       "        text-align: right;\n",
       "    }\n",
       "</style>\n",
       "<table border=\"1\" class=\"dataframe\">\n",
       "  <thead>\n",
       "    <tr style=\"text-align: right;\">\n",
       "      <th></th>\n",
       "      <th>Unnamed: 0</th>\n",
       "      <th>name</th>\n",
       "      <th>brand</th>\n",
       "      <th>chipset</th>\n",
       "      <th>chipset_gen</th>\n",
       "      <th>ram</th>\n",
       "      <th>ram_max</th>\n",
       "      <th>vga</th>\n",
       "      <th>storage_type</th>\n",
       "      <th>storage</th>\n",
       "      <th>os</th>\n",
       "      <th>screen_size</th>\n",
       "      <th>webcam</th>\n",
       "      <th>weight</th>\n",
       "      <th>price</th>\n",
       "    </tr>\n",
       "  </thead>\n",
       "  <tbody>\n",
       "    <tr>\n",
       "      <th>178</th>\n",
       "      <td>178</td>\n",
       "      <td>Laptop Asus TUF Gaming A15 FA507NV-LP031W (Ryz...</td>\n",
       "      <td>Asus</td>\n",
       "      <td>AMD</td>\n",
       "      <td>Ryzen 7</td>\n",
       "      <td>16.0</td>\n",
       "      <td>32.0</td>\n",
       "      <td>nvidia</td>\n",
       "      <td>SSD</td>\n",
       "      <td>512</td>\n",
       "      <td>Windows 11</td>\n",
       "      <td>15.0</td>\n",
       "      <td>1</td>\n",
       "      <td>2.2</td>\n",
       "      <td>20990000</td>\n",
       "    </tr>\n",
       "  </tbody>\n",
       "</table>\n",
       "</div>"
      ],
      "text/plain": [
       "     Unnamed: 0                                               name brand  \\\n",
       "178         178  Laptop Asus TUF Gaming A15 FA507NV-LP031W (Ryz...  Asus   \n",
       "\n",
       "    chipset chipset_gen   ram  ram_max     vga storage_type  storage  \\\n",
       "178     AMD     Ryzen 7  16.0     32.0  nvidia          SSD      512   \n",
       "\n",
       "             os  screen_size  webcam  weight     price  \n",
       "178  Windows 11         15.0       1     2.2  20990000  "
      ]
     },
     "execution_count": 18,
     "metadata": {},
     "output_type": "execute_result"
    }
   ],
   "source": [
    "phucanh.sample(1)"
   ]
  },
  {
   "cell_type": "code",
   "execution_count": 13,
   "id": "f2ed87d4",
   "metadata": {},
   "outputs": [
    {
     "data": {
      "text/plain": [
       "Index(['Unnamed: 0', 'name', 'brand', 'chipset', 'chipset_gen', 'ram',\n",
       "       'ram_max', 'vga', 'storage_type', 'storage', 'os', 'screen_size',\n",
       "       'screen_revolution', 'battery', 'webcam', 'weight', 'price',\n",
       "       'screen_pixels'],\n",
       "      dtype='object')"
      ]
     },
     "execution_count": 13,
     "metadata": {},
     "output_type": "execute_result"
    }
   ],
   "source": [
    "hacom.columns"
   ]
  },
  {
   "cell_type": "code",
   "execution_count": 14,
   "id": "9430f451",
   "metadata": {},
   "outputs": [
    {
     "data": {
      "text/plain": [
       "Index(['Unnamed: 0', 'name', 'brand', 'chipset', 'chipset_gen', 'ram',\n",
       "       'ram_max', 'vga', 'storage_type', 'storage', 'os', 'screen_size',\n",
       "       'screen_width', 'screen_height', 'screen_revolution', 'battery',\n",
       "       'webcam', 'weight', 'price', 'screen_resolution', 'screen_full'],\n",
       "      dtype='object')"
      ]
     },
     "execution_count": 14,
     "metadata": {},
     "output_type": "execute_result"
    }
   ],
   "source": [
    "laptopworld.columns"
   ]
  },
  {
   "cell_type": "code",
   "execution_count": 15,
   "id": "2b6ffde1",
   "metadata": {},
   "outputs": [
    {
     "data": {
      "text/plain": [
       "Index(['Unnamed: 0', 'name', 'brand', 'chipset', 'chipset_gen', 'ram',\n",
       "       'ram_max', 'vga', 'storage_type', 'storage', 'os', 'screen_size',\n",
       "       'webcam', 'weight', 'price'],\n",
       "      dtype='object')"
      ]
     },
     "execution_count": 15,
     "metadata": {},
     "output_type": "execute_result"
    }
   ],
   "source": [
    "phucanh.columns"
   ]
  },
  {
   "cell_type": "code",
   "execution_count": 13,
   "id": "b75137c6",
   "metadata": {},
   "outputs": [
    {
     "data": {
      "text/plain": [
       "screen_resolution\n",
       "FHD      522\n",
       "WUXGA     87\n",
       "QHD       54\n",
       "2.8K      26\n",
       "2.5K      20\n",
       "3K        18\n",
       "3.5K      13\n",
       "2K         8\n",
       "2.2K       8\n",
       "3.2K       3\n",
       "Name: count, dtype: int64"
      ]
     },
     "execution_count": 13,
     "metadata": {},
     "output_type": "execute_result"
    }
   ],
   "source": [
    "laptopworld['screen_resolution'].value_counts()"
   ]
  },
  {
   "cell_type": "code",
   "execution_count": null,
   "id": "a155640f",
   "metadata": {},
   "outputs": [],
   "source": []
  }
 ],
 "metadata": {
  "kernelspec": {
   "display_name": "Python 3 (ipykernel)",
   "language": "python",
   "name": "python3"
  },
  "language_info": {
   "codemirror_mode": {
    "name": "ipython",
    "version": 3
   },
   "file_extension": ".py",
   "mimetype": "text/x-python",
   "name": "python",
   "nbconvert_exporter": "python",
   "pygments_lexer": "ipython3",
   "version": "3.11.5"
  }
 },
 "nbformat": 4,
 "nbformat_minor": 5
}
