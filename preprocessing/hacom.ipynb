{
 "cells": [
  {
   "cell_type": "code",
   "execution_count": 115,
   "id": "36226be0-2339-4b55-a446-ad817a4eb3e5",
   "metadata": {},
   "outputs": [],
   "source": [
    "import numpy as np \n",
    "import pandas as pd \n",
    "from matplotlib import pyplot as plt\n",
    "import plotly.express as px\n",
    "import seaborn as sns\n",
    "import re"
   ]
  },
  {
   "cell_type": "code",
   "execution_count": 116,
   "id": "36042ca4-8a42-48cc-974d-42f4de6596d7",
   "metadata": {},
   "outputs": [],
   "source": [
    "df = pd.read_json(\"hacom.json\")"
   ]
  },
  {
   "cell_type": "code",
   "execution_count": 117,
   "id": "62099bca-a47c-4709-84eb-f3893325ddf8",
   "metadata": {},
   "outputs": [
    {
     "data": {
      "text/html": [
       "<div>\n",
       "<style scoped>\n",
       "    .dataframe tbody tr th:only-of-type {\n",
       "        vertical-align: middle;\n",
       "    }\n",
       "\n",
       "    .dataframe tbody tr th {\n",
       "        vertical-align: top;\n",
       "    }\n",
       "\n",
       "    .dataframe thead th {\n",
       "        text-align: right;\n",
       "    }\n",
       "</style>\n",
       "<table border=\"1\" class=\"dataframe\">\n",
       "  <thead>\n",
       "    <tr style=\"text-align: right;\">\n",
       "      <th></th>\n",
       "      <th>Hãng sản xuất</th>\n",
       "      <th>Chủng loại</th>\n",
       "      <th>Part Number</th>\n",
       "      <th>Mầu sắc</th>\n",
       "      <th>Bộ vi xử lý</th>\n",
       "      <th>Chipset</th>\n",
       "      <th>Bộ nhớ trong</th>\n",
       "      <th>Expansion Slot(includes used)</th>\n",
       "      <th>Dung lượng tối đa</th>\n",
       "      <th>VGA</th>\n",
       "      <th>...</th>\n",
       "      <th>Khe mở rộng (Bao gồm cả khe đang sử dụng)</th>\n",
       "      <th>Màu sắc</th>\n",
       "      <th>Bluetooth 5.2</th>\n",
       "      <th>1x Type C USB 4 support DisplayPort™ / G-SYNC</th>\n",
       "      <th>Công nghệ, bảo mật</th>\n",
       "      <th>Bảo mật, công nghệ</th>\n",
       "      <th>Màn hình</th>\n",
       "      <th>Webcam</th>\n",
       "      <th>Mầu sắc, chat liệu</th>\n",
       "      <th>GPU</th>\n",
       "    </tr>\n",
       "  </thead>\n",
       "  <tbody>\n",
       "    <tr>\n",
       "      <th>0</th>\n",
       "      <td>Asus</td>\n",
       "      <td></td>\n",
       "      <td>X1504VA-NJ069W</td>\n",
       "      <td></td>\n",
       "      <td>Intel® Core™ i3-1315U Processor 1.2 GHz (10MB ...</td>\n",
       "      <td>N/A</td>\n",
       "      <td>DDR4 8GB</td>\n",
       "      <td>1x DDR4 SO-DIMM slot</td>\n",
       "      <td></td>\n",
       "      <td>N/A</td>\n",
       "      <td>...</td>\n",
       "      <td>NaN</td>\n",
       "      <td>NaN</td>\n",
       "      <td>NaN</td>\n",
       "      <td>NaN</td>\n",
       "      <td>NaN</td>\n",
       "      <td>NaN</td>\n",
       "      <td>NaN</td>\n",
       "      <td>NaN</td>\n",
       "      <td>NaN</td>\n",
       "      <td>NaN</td>\n",
       "    </tr>\n",
       "    <tr>\n",
       "      <th>1</th>\n",
       "      <td>Apple</td>\n",
       "      <td>Macbook Air 13 M3</td>\n",
       "      <td>MRXT3SA/A</td>\n",
       "      <td>Trắng (Starlight)</td>\n",
       "      <td>Apple M3 chip with 8-core CPU and 10-core GPU,...</td>\n",
       "      <td>·</td>\n",
       "      <td>8GB</td>\n",
       "      <td>NaN</td>\n",
       "      <td>16GB</td>\n",
       "      <td>Apple GPU with 8-core</td>\n",
       "      <td>...</td>\n",
       "      <td>NaN</td>\n",
       "      <td>NaN</td>\n",
       "      <td>NaN</td>\n",
       "      <td>NaN</td>\n",
       "      <td>NaN</td>\n",
       "      <td>NaN</td>\n",
       "      <td>NaN</td>\n",
       "      <td>NaN</td>\n",
       "      <td>NaN</td>\n",
       "      <td>NaN</td>\n",
       "    </tr>\n",
       "    <tr>\n",
       "      <th>2</th>\n",
       "      <td>Dell</td>\n",
       "      <td>Inspiron 3530  – Bảo hành tận nơi</td>\n",
       "      <td>NaN</td>\n",
       "      <td>Đen</td>\n",
       "      <td>Intel Core i3 1305U (upto 4.5Ghz/10MB cache)</td>\n",
       "      <td>Intel</td>\n",
       "      <td>8GB DDR4 2666Mhz (1*8GB)</td>\n",
       "      <td>NaN</td>\n",
       "      <td>32GB</td>\n",
       "      <td>Intel UHD</td>\n",
       "      <td>...</td>\n",
       "      <td>NaN</td>\n",
       "      <td>NaN</td>\n",
       "      <td>NaN</td>\n",
       "      <td>NaN</td>\n",
       "      <td>NaN</td>\n",
       "      <td>NaN</td>\n",
       "      <td>NaN</td>\n",
       "      <td>NaN</td>\n",
       "      <td>NaN</td>\n",
       "      <td>NaN</td>\n",
       "    </tr>\n",
       "    <tr>\n",
       "      <th>3</th>\n",
       "      <td>Dell</td>\n",
       "      <td>Inspiron 5630 – Bảo hành tận nơi</td>\n",
       "      <td>NaN</td>\n",
       "      <td>NaN</td>\n",
       "      <td>Intel Core i5 1340P (Upto 4.6Ghz/12MB cache)</td>\n",
       "      <td>Intel</td>\n",
       "      <td>16GB LPDDR5 onboard</td>\n",
       "      <td>NaN</td>\n",
       "      <td></td>\n",
       "      <td>Nvidia Geforce RTX 2050 4G DDR6</td>\n",
       "      <td>...</td>\n",
       "      <td>NaN</td>\n",
       "      <td>NaN</td>\n",
       "      <td>NaN</td>\n",
       "      <td>NaN</td>\n",
       "      <td>NaN</td>\n",
       "      <td>NaN</td>\n",
       "      <td>NaN</td>\n",
       "      <td>NaN</td>\n",
       "      <td>NaN</td>\n",
       "      <td>NaN</td>\n",
       "    </tr>\n",
       "    <tr>\n",
       "      <th>4</th>\n",
       "      <td>Dell</td>\n",
       "      <td>Inspiron 3530  – Bảo hành tận nơi</td>\n",
       "      <td>NaN</td>\n",
       "      <td>Đen</td>\n",
       "      <td>Intel Core i5 1335U (upto 4.6Ghz/12MB cache)</td>\n",
       "      <td>Intel</td>\n",
       "      <td>8GB DDR4 2666Mhz (1*8GB)</td>\n",
       "      <td>NaN</td>\n",
       "      <td>32 GB</td>\n",
       "      <td>Intel UHD</td>\n",
       "      <td>...</td>\n",
       "      <td>NaN</td>\n",
       "      <td>NaN</td>\n",
       "      <td>NaN</td>\n",
       "      <td>NaN</td>\n",
       "      <td>NaN</td>\n",
       "      <td>NaN</td>\n",
       "      <td>NaN</td>\n",
       "      <td>NaN</td>\n",
       "      <td>NaN</td>\n",
       "      <td>NaN</td>\n",
       "    </tr>\n",
       "    <tr>\n",
       "      <th>...</th>\n",
       "      <td>...</td>\n",
       "      <td>...</td>\n",
       "      <td>...</td>\n",
       "      <td>...</td>\n",
       "      <td>...</td>\n",
       "      <td>...</td>\n",
       "      <td>...</td>\n",
       "      <td>...</td>\n",
       "      <td>...</td>\n",
       "      <td>...</td>\n",
       "      <td>...</td>\n",
       "      <td>...</td>\n",
       "      <td>...</td>\n",
       "      <td>...</td>\n",
       "      <td>...</td>\n",
       "      <td>...</td>\n",
       "      <td>...</td>\n",
       "      <td>...</td>\n",
       "      <td>...</td>\n",
       "      <td>...</td>\n",
       "      <td>...</td>\n",
       "    </tr>\n",
       "    <tr>\n",
       "      <th>233</th>\n",
       "      <td>NaN</td>\n",
       "      <td>NaN</td>\n",
       "      <td>NaN</td>\n",
       "      <td>NaN</td>\n",
       "      <td>NaN</td>\n",
       "      <td>NaN</td>\n",
       "      <td>NaN</td>\n",
       "      <td>NaN</td>\n",
       "      <td>NaN</td>\n",
       "      <td>NaN</td>\n",
       "      <td>...</td>\n",
       "      <td>NaN</td>\n",
       "      <td>NaN</td>\n",
       "      <td>NaN</td>\n",
       "      <td>NaN</td>\n",
       "      <td>NaN</td>\n",
       "      <td>NaN</td>\n",
       "      <td>NaN</td>\n",
       "      <td>NaN</td>\n",
       "      <td>NaN</td>\n",
       "      <td>NaN</td>\n",
       "    </tr>\n",
       "    <tr>\n",
       "      <th>234</th>\n",
       "      <td>Acer</td>\n",
       "      <td>Aspire 7 A715-76-53PJ – model giải trí, gaming</td>\n",
       "      <td>NH.QGESV.007</td>\n",
       "      <td>Đen (Charcoal Black)</td>\n",
       "      <td>Intel® Core™ i5-12450H (3.3GHz upto 4.4Ghz/12M...</td>\n",
       "      <td></td>\n",
       "      <td>16GB DDR4 3200Mhz (8GB * 2)</td>\n",
       "      <td>NaN</td>\n",
       "      <td></td>\n",
       "      <td>Intel® UHD Graphics</td>\n",
       "      <td>...</td>\n",
       "      <td>NaN</td>\n",
       "      <td>NaN</td>\n",
       "      <td>NaN</td>\n",
       "      <td>NaN</td>\n",
       "      <td>NaN</td>\n",
       "      <td>NaN</td>\n",
       "      <td>NaN</td>\n",
       "      <td>NaN</td>\n",
       "      <td>NaN</td>\n",
       "      <td>NaN</td>\n",
       "    </tr>\n",
       "    <tr>\n",
       "      <th>235</th>\n",
       "      <td>Asus</td>\n",
       "      <td></td>\n",
       "      <td>A1505VA-L1114W</td>\n",
       "      <td></td>\n",
       "      <td>Intel® Core™ i5-13500H Processor 2.6 GHz (18MB...</td>\n",
       "      <td>N/A</td>\n",
       "      <td>DDR4 16GB</td>\n",
       "      <td>1x DDR4 SO-DIMM slot</td>\n",
       "      <td></td>\n",
       "      <td>N/A</td>\n",
       "      <td>...</td>\n",
       "      <td>NaN</td>\n",
       "      <td>NaN</td>\n",
       "      <td>NaN</td>\n",
       "      <td>NaN</td>\n",
       "      <td>NaN</td>\n",
       "      <td>NaN</td>\n",
       "      <td>NaN</td>\n",
       "      <td>NaN</td>\n",
       "      <td>NaN</td>\n",
       "      <td>NaN</td>\n",
       "    </tr>\n",
       "    <tr>\n",
       "      <th>236</th>\n",
       "      <td>NaN</td>\n",
       "      <td>NaN</td>\n",
       "      <td>NaN</td>\n",
       "      <td>NaN</td>\n",
       "      <td>NaN</td>\n",
       "      <td>NaN</td>\n",
       "      <td>NaN</td>\n",
       "      <td>NaN</td>\n",
       "      <td>NaN</td>\n",
       "      <td>NaN</td>\n",
       "      <td>...</td>\n",
       "      <td>NaN</td>\n",
       "      <td>NaN</td>\n",
       "      <td>NaN</td>\n",
       "      <td>NaN</td>\n",
       "      <td>NaN</td>\n",
       "      <td>NaN</td>\n",
       "      <td>NaN</td>\n",
       "      <td>NaN</td>\n",
       "      <td>NaN</td>\n",
       "      <td>NaN</td>\n",
       "    </tr>\n",
       "    <tr>\n",
       "      <th>237</th>\n",
       "      <td>Acer</td>\n",
       "      <td>Acer Aspire 3 A315-510P-34XZ</td>\n",
       "      <td>NX.KDHSV.006</td>\n",
       "      <td>Bạc (Pure Silver)</td>\n",
       "      <td>Intel® Core™ i3-N305 (up to 3.8GHz)</td>\n",
       "      <td>Intel</td>\n",
       "      <td>8 GB LPDDR5 Memory 4800MHz</td>\n",
       "      <td>NaN</td>\n",
       "      <td></td>\n",
       "      <td>Intel® UHD Graphics</td>\n",
       "      <td>...</td>\n",
       "      <td>NaN</td>\n",
       "      <td>NaN</td>\n",
       "      <td>NaN</td>\n",
       "      <td>NaN</td>\n",
       "      <td>NaN</td>\n",
       "      <td>NaN</td>\n",
       "      <td>NaN</td>\n",
       "      <td>NaN</td>\n",
       "      <td>NaN</td>\n",
       "      <td>NaN</td>\n",
       "    </tr>\n",
       "  </tbody>\n",
       "</table>\n",
       "<p>238 rows × 130 columns</p>\n",
       "</div>"
      ],
      "text/plain": [
       "    Hãng sản xuất                                      Chủng loại  \\\n",
       "0            Asus                                                   \n",
       "1           Apple                               Macbook Air 13 M3   \n",
       "2            Dell               Inspiron 3530  – Bảo hành tận nơi   \n",
       "3            Dell                Inspiron 5630 – Bảo hành tận nơi   \n",
       "4            Dell               Inspiron 3530  – Bảo hành tận nơi   \n",
       "..            ...                                             ...   \n",
       "233           NaN                                             NaN   \n",
       "234          Acer  Aspire 7 A715-76-53PJ – model giải trí, gaming   \n",
       "235          Asus                                                   \n",
       "236           NaN                                             NaN   \n",
       "237          Acer                    Acer Aspire 3 A315-510P-34XZ   \n",
       "\n",
       "        Part Number               Mầu sắc  \\\n",
       "0    X1504VA-NJ069W                         \n",
       "1         MRXT3SA/A     Trắng (Starlight)   \n",
       "2               NaN                   Đen   \n",
       "3               NaN                   NaN   \n",
       "4               NaN                   Đen   \n",
       "..              ...                   ...   \n",
       "233             NaN                   NaN   \n",
       "234    NH.QGESV.007  Đen (Charcoal Black)   \n",
       "235  A1505VA-L1114W                         \n",
       "236             NaN                   NaN   \n",
       "237    NX.KDHSV.006     Bạc (Pure Silver)   \n",
       "\n",
       "                                           Bộ vi xử lý      Chipset  \\\n",
       "0    Intel® Core™ i3-1315U Processor 1.2 GHz (10MB ...          N/A   \n",
       "1    Apple M3 chip with 8-core CPU and 10-core GPU,...  ·             \n",
       "2         Intel Core i3 1305U (upto 4.5Ghz/10MB cache)        Intel   \n",
       "3         Intel Core i5 1340P (Upto 4.6Ghz/12MB cache)        Intel   \n",
       "4         Intel Core i5 1335U (upto 4.6Ghz/12MB cache)        Intel   \n",
       "..                                                 ...          ...   \n",
       "233                                                NaN          NaN   \n",
       "234  Intel® Core™ i5-12450H (3.3GHz upto 4.4Ghz/12M...                \n",
       "235  Intel® Core™ i5-13500H Processor 2.6 GHz (18MB...          N/A   \n",
       "236                                                NaN          NaN   \n",
       "237                Intel® Core™ i3-N305 (up to 3.8GHz)        Intel   \n",
       "\n",
       "                    Bộ nhớ trong Expansion Slot(includes used)  \\\n",
       "0                       DDR4 8GB          1x DDR4 SO-DIMM slot   \n",
       "1                            8GB                           NaN   \n",
       "2       8GB DDR4 2666Mhz (1*8GB)                           NaN   \n",
       "3            16GB LPDDR5 onboard                           NaN   \n",
       "4       8GB DDR4 2666Mhz (1*8GB)                           NaN   \n",
       "..                           ...                           ...   \n",
       "233                          NaN                           NaN   \n",
       "234  16GB DDR4 3200Mhz (8GB * 2)                           NaN   \n",
       "235                    DDR4 16GB          1x DDR4 SO-DIMM slot   \n",
       "236                          NaN                           NaN   \n",
       "237   8 GB LPDDR5 Memory 4800MHz                           NaN   \n",
       "\n",
       "    Dung lượng tối đa                              VGA  ...  \\\n",
       "0                                                  N/A  ...   \n",
       "1                16GB            Apple GPU with 8-core  ...   \n",
       "2                32GB                        Intel UHD  ...   \n",
       "3                      Nvidia Geforce RTX 2050 4G DDR6  ...   \n",
       "4               32 GB                        Intel UHD  ...   \n",
       "..                ...                              ...  ...   \n",
       "233               NaN                              NaN  ...   \n",
       "234                                Intel® UHD Graphics  ...   \n",
       "235                                                N/A  ...   \n",
       "236               NaN                              NaN  ...   \n",
       "237                                Intel® UHD Graphics  ...   \n",
       "\n",
       "    Khe mở rộng (Bao gồm cả khe đang sử dụng) Màu sắc Bluetooth 5.2  \\\n",
       "0                                         NaN     NaN           NaN   \n",
       "1                                         NaN     NaN           NaN   \n",
       "2                                         NaN     NaN           NaN   \n",
       "3                                         NaN     NaN           NaN   \n",
       "4                                         NaN     NaN           NaN   \n",
       "..                                        ...     ...           ...   \n",
       "233                                       NaN     NaN           NaN   \n",
       "234                                       NaN     NaN           NaN   \n",
       "235                                       NaN     NaN           NaN   \n",
       "236                                       NaN     NaN           NaN   \n",
       "237                                       NaN     NaN           NaN   \n",
       "\n",
       "    1x Type C USB 4 support DisplayPort™ / G-SYNC Công nghệ, bảo mật  \\\n",
       "0                                             NaN                NaN   \n",
       "1                                             NaN                NaN   \n",
       "2                                             NaN                NaN   \n",
       "3                                             NaN                NaN   \n",
       "4                                             NaN                NaN   \n",
       "..                                            ...                ...   \n",
       "233                                           NaN                NaN   \n",
       "234                                           NaN                NaN   \n",
       "235                                           NaN                NaN   \n",
       "236                                           NaN                NaN   \n",
       "237                                           NaN                NaN   \n",
       "\n",
       "    Bảo mật, công nghệ  Màn hình   Webcam  Mầu sắc, chat liệu  GPU  \n",
       "0                   NaN        NaN     NaN                NaN  NaN  \n",
       "1                   NaN        NaN     NaN                NaN  NaN  \n",
       "2                   NaN        NaN     NaN                NaN  NaN  \n",
       "3                   NaN        NaN     NaN                NaN  NaN  \n",
       "4                   NaN        NaN     NaN                NaN  NaN  \n",
       "..                  ...        ...     ...                ...  ...  \n",
       "233                 NaN        NaN     NaN                NaN  NaN  \n",
       "234                 NaN        NaN     NaN                NaN  NaN  \n",
       "235                 NaN        NaN     NaN                NaN  NaN  \n",
       "236                 NaN        NaN     NaN                NaN  NaN  \n",
       "237                 NaN        NaN     NaN                NaN  NaN  \n",
       "\n",
       "[238 rows x 130 columns]"
      ]
     },
     "execution_count": 117,
     "metadata": {},
     "output_type": "execute_result"
    }
   ],
   "source": [
    "df"
   ]
  },
  {
   "cell_type": "code",
   "execution_count": 118,
   "id": "a6bc7e02-d27d-4a27-91ff-e942e1c14dce",
   "metadata": {},
   "outputs": [
    {
     "data": {
      "text/plain": [
       "Index(['Hãng sản xuất', 'Chủng loại', 'Part Number', 'Mầu sắc', 'Bộ vi xử lý',\n",
       "       'Chipset', 'Bộ nhớ trong', 'Expansion Slot(includes used)',\n",
       "       'Dung lượng tối đa', 'VGA',\n",
       "       ...\n",
       "       'Khe mở rộng (Bao gồm cả khe đang sử dụng)', 'Màu sắc', 'Bluetooth 5.2',\n",
       "       '1x Type C USB 4 support DisplayPort™ / G-SYNC', 'Công nghệ, bảo mật',\n",
       "       'Bảo mật, công nghệ ', 'Màn hình  ', 'Webcam ', 'Mầu sắc, chat liệu',\n",
       "       'GPU'],\n",
       "      dtype='object', length=130)"
      ]
     },
     "execution_count": 118,
     "metadata": {},
     "output_type": "execute_result"
    }
   ],
   "source": [
    "df.columns"
   ]
  },
  {
   "cell_type": "code",
   "execution_count": 119,
   "id": "7e9f0c76-456f-4757-98b3-49bb02cbf8ee",
   "metadata": {},
   "outputs": [],
   "source": [
    "df_new = pd.DataFrame(columns=[\n",
    " 'name',\n",
    " 'brand',\n",
    " 'chipset',\n",
    " 'chipset_gen',\n",
    " 'ram', \n",
    " 'ram_max', \n",
    " 'vga',\n",
    " 'storage_type',\n",
    " 'storage', \n",
    " 'os',\n",
    " 'screen_size',\n",
    " 'screen_revolution',\n",
    " 'battery',\n",
    " 'webcam',\n",
    " 'weight', \n",
    " 'price'\n",
    "])"
   ]
  },
  {
   "cell_type": "code",
   "execution_count": 120,
   "id": "d0c4bfe1-3ba3-4e56-9ea5-065311cf66cc",
   "metadata": {},
   "outputs": [],
   "source": [
    "df_new['name'] = df['name']"
   ]
  },
  {
   "cell_type": "code",
   "execution_count": 121,
   "id": "26a6ab69-6eaa-4136-9661-eef4b3b3d24f",
   "metadata": {},
   "outputs": [],
   "source": [
    "df_new['brand'] = df['Hãng sản xuất']"
   ]
  },
  {
   "cell_type": "code",
   "execution_count": 122,
   "id": "d43e4d2e-1bcd-4be1-8dc0-cf06331766ff",
   "metadata": {},
   "outputs": [
    {
     "data": {
      "text/plain": [
       "brand\n",
       "MSI         36\n",
       "Acer        35\n",
       "Asus        32\n",
       "Dell        29\n",
       "Lenovo      19\n",
       "Apple       12\n",
       "Gigabyte    11\n",
       "LG           4\n",
       "Acer         2\n",
       "HP           1\n",
       "ASUS         1\n",
       "Name: count, dtype: int64"
      ]
     },
     "execution_count": 122,
     "metadata": {},
     "output_type": "execute_result"
    }
   ],
   "source": [
    "df_new['brand'].value_counts()"
   ]
  },
  {
   "cell_type": "code",
   "execution_count": 123,
   "id": "f1519571-5f26-475e-ba16-39ae81cd46dc",
   "metadata": {},
   "outputs": [],
   "source": [
    "df_new.loc[df_new['brand'].isin(['Asus', 'ASUS']), 'brand'] = 'Asus'"
   ]
  },
  {
   "cell_type": "code",
   "execution_count": 124,
   "id": "9203ad99-0b70-45e9-8684-b1d40c68a505",
   "metadata": {},
   "outputs": [],
   "source": [
    "df_new.loc[df_new['brand'].isin(['Acer', 'Acer ']), 'brand'] = 'Acer'"
   ]
  },
  {
   "cell_type": "code",
   "execution_count": 125,
   "id": "6e91c526-ad09-45d9-9b06-1e977bdb36d8",
   "metadata": {},
   "outputs": [
    {
     "data": {
      "text/plain": [
       "brand\n",
       "MSI         36\n",
       "Acer        35\n",
       "Asus        33\n",
       "Dell        29\n",
       "Lenovo      19\n",
       "Apple       12\n",
       "Gigabyte    11\n",
       "LG           4\n",
       "Acer         2\n",
       "HP           1\n",
       "Name: count, dtype: int64"
      ]
     },
     "execution_count": 125,
     "metadata": {},
     "output_type": "execute_result"
    }
   ],
   "source": [
    "df_new['brand'].value_counts()"
   ]
  },
  {
   "cell_type": "code",
   "execution_count": 126,
   "id": "3450fc60-7e5d-404f-bc2d-27e4832ff5c3",
   "metadata": {},
   "outputs": [],
   "source": [
    "for i in range(len(df['VGA'])):\n",
    "    if type(df['VGA'][i]) == str:\n",
    "        continue\n",
    "    else:\n",
    "        df.loc[i, 'VGA'] = df.iloc[i, 68]"
   ]
  },
  {
   "cell_type": "code",
   "execution_count": 127,
   "id": "a5369c50-1f6a-4aeb-bd08-77bc982c794b",
   "metadata": {},
   "outputs": [],
   "source": [
    "df_new['vga'] = df[\"VGA\"].str.lower().str.extract(r'(intel|amd|nvidia|apple)')"
   ]
  },
  {
   "cell_type": "code",
   "execution_count": 128,
   "id": "f352f07f-3da1-4881-94ff-b8b565f9b147",
   "metadata": {},
   "outputs": [
    {
     "data": {
      "text/plain": [
       "0         NaN\n",
       "1       apple\n",
       "2       intel\n",
       "3      nvidia\n",
       "4       intel\n",
       "        ...  \n",
       "233       NaN\n",
       "234     intel\n",
       "235       NaN\n",
       "236       NaN\n",
       "237     intel\n",
       "Name: vga, Length: 238, dtype: object"
      ]
     },
     "execution_count": 128,
     "metadata": {},
     "output_type": "execute_result"
    }
   ],
   "source": [
    "df_new['vga']"
   ]
  },
  {
   "cell_type": "code",
   "execution_count": 129,
   "id": "afef4e37-5939-4432-a1d5-d820692414af",
   "metadata": {},
   "outputs": [
    {
     "data": {
      "text/plain": [
       "vga\n",
       "nvidia    94\n",
       "intel     26\n",
       "apple     12\n",
       "amd        4\n",
       "Name: count, dtype: int64"
      ]
     },
     "execution_count": 129,
     "metadata": {},
     "output_type": "execute_result"
    }
   ],
   "source": [
    "df_new['vga'].value_counts()"
   ]
  },
  {
   "cell_type": "code",
   "execution_count": 130,
   "id": "deaa3256-1e1c-4554-ab61-89dc9937ebf4",
   "metadata": {},
   "outputs": [],
   "source": [
    "df_new['price'] = df['giá gốc'].str.replace(\"₫\", \"\")"
   ]
  },
  {
   "cell_type": "code",
   "execution_count": 131,
   "id": "7cf4614b-51eb-454a-9fc0-e68f0d10db2c",
   "metadata": {},
   "outputs": [
    {
     "data": {
      "text/plain": [
       "0      10.499.000\n",
       "1            None\n",
       "2      12.299.000\n",
       "3      24.799.000\n",
       "4      16.299.000\n",
       "          ...    \n",
       "233          None\n",
       "234    16.299.000\n",
       "235    18.299.000\n",
       "236    20.849.000\n",
       "237     9.499.000\n",
       "Name: price, Length: 238, dtype: object"
      ]
     },
     "execution_count": 131,
     "metadata": {},
     "output_type": "execute_result"
    }
   ],
   "source": [
    "df_new['price']"
   ]
  },
  {
   "cell_type": "code",
   "execution_count": 132,
   "id": "32632a35-2038-44f1-ab40-3904cead319e",
   "metadata": {},
   "outputs": [],
   "source": [
    "df_new['price'] = df_new['price'].str.replace(\".\", \"\")"
   ]
  },
  {
   "cell_type": "code",
   "execution_count": 133,
   "id": "1df80bf2-6efa-41b0-b8ae-4613d74209af",
   "metadata": {},
   "outputs": [
    {
     "data": {
      "text/plain": [
       "92"
      ]
     },
     "execution_count": 133,
     "metadata": {},
     "output_type": "execute_result"
    }
   ],
   "source": [
    "df_new['price'].isna().sum()"
   ]
  },
  {
   "cell_type": "code",
   "execution_count": 134,
   "id": "f1c450b9-ff69-4c3e-8962-7a7873e784ea",
   "metadata": {},
   "outputs": [],
   "source": [
    "df_new = df_new.dropna(subset=['price'])"
   ]
  },
  {
   "cell_type": "code",
   "execution_count": 135,
   "id": "6261349c-12f8-40c4-9fd8-6eb23470754a",
   "metadata": {},
   "outputs": [
    {
     "data": {
      "text/plain": [
       "0"
      ]
     },
     "execution_count": 135,
     "metadata": {},
     "output_type": "execute_result"
    }
   ],
   "source": [
    "df_new['price'].isna().sum()"
   ]
  },
  {
   "cell_type": "code",
   "execution_count": 136,
   "id": "e278233b-b5c0-4788-8dcf-51e918e8650b",
   "metadata": {},
   "outputs": [],
   "source": [
    "df_new['chipset'] = df['Bộ vi xử lý'].str.extract(r'(Intel|AMD|Apple)')"
   ]
  },
  {
   "cell_type": "code",
   "execution_count": 137,
   "id": "5b09ff64-deb4-428a-b78e-13e99e531911",
   "metadata": {},
   "outputs": [
    {
     "data": {
      "text/plain": [
       "chipset\n",
       "Intel    90\n",
       "AMD      15\n",
       "Name: count, dtype: int64"
      ]
     },
     "execution_count": 137,
     "metadata": {},
     "output_type": "execute_result"
    }
   ],
   "source": [
    "df_new['chipset'].value_counts()"
   ]
  },
  {
   "cell_type": "code",
   "execution_count": 138,
   "id": "0fc51b31-1245-4f25-bf7d-e8f16a2ad7dd",
   "metadata": {},
   "outputs": [],
   "source": [
    "for i in range(len(df['Bộ nhớ trong'])):\n",
    "    if type(df['Bộ nhớ trong'][i]) == str:\n",
    "        continue\n",
    "    else:\n",
    "        df.loc[i, 'Bộ nhớ trong'] = df.iloc[i, 99]"
   ]
  },
  {
   "cell_type": "code",
   "execution_count": 139,
   "id": "9d713a46-f1cf-45a1-b9d1-cfb0f9e8eab5",
   "metadata": {},
   "outputs": [],
   "source": [
    "for i in range(len(df['Bộ nhớ trong'])):\n",
    "    if type(df['Bộ nhớ trong'][i]) == str:\n",
    "        continue\n",
    "    else:\n",
    "        df.loc[i, 'Bộ nhớ trong'] = df.iloc[i, 52]"
   ]
  },
  {
   "cell_type": "code",
   "execution_count": 140,
   "id": "b4a29ad3-78af-419d-b167-9716157f6984",
   "metadata": {},
   "outputs": [],
   "source": [
    "for i in range(len(df['Bộ nhớ trong'])):\n",
    "    if type(df['Bộ nhớ trong'][i]) == str:\n",
    "        continue\n",
    "    else:\n",
    "        df.loc[i, 'Bộ nhớ trong'] = df.iloc[i, 65]"
   ]
  },
  {
   "cell_type": "code",
   "execution_count": 141,
   "id": "63ca3cd5-73e1-47af-833c-8e241fd6de87",
   "metadata": {},
   "outputs": [],
   "source": [
    "df_new['ram'] = df[\"Bộ nhớ trong\"].str.extract(r'(\\d*.GB|\\d*.G)')\n",
    "df_new['ram'] = df_new['ram'].str.replace(' ', '')\n",
    "df_new['ram'] = df_new['ram'].str.replace('G', 'GB')\n",
    "df_new['ram'] = df_new['ram'].str.replace('GBB', 'GB')\n",
    "df_new['ram'] = df_new['ram'].str.replace('GB', '')"
   ]
  },
  {
   "cell_type": "code",
   "execution_count": 142,
   "id": "29994f07-fee5-4d92-8fcc-40af0547c9ef",
   "metadata": {},
   "outputs": [],
   "source": [
    "for i in range(len(df['Dung lượng tối đa'])):\n",
    "    if type(df['Dung lượng tối đa'][i]) == str:\n",
    "        continue\n",
    "    else:\n",
    "        df.loc[i, 'Dung lượng tối đa'] = df.iloc[i, 54]"
   ]
  },
  {
   "cell_type": "code",
   "execution_count": 143,
   "id": "f7a7fbb5-d45d-4c24-90f6-688ba4e32dac",
   "metadata": {},
   "outputs": [],
   "source": [
    "for i in range(len(df['Dung lượng tối đa'])):\n",
    "    if type(df['Dung lượng tối đa'][i]) == str:\n",
    "        continue\n",
    "    else:\n",
    "        df.loc[i, 'Dung lượng tối đa'] = df.iloc[i, 102]"
   ]
  },
  {
   "cell_type": "code",
   "execution_count": 144,
   "id": "5af55456-5a9a-413a-a9d3-3ac69d8e7e4a",
   "metadata": {},
   "outputs": [],
   "source": [
    "for i in range(len(df['Dung lượng tối đa'])):\n",
    "    if type(df['Dung lượng tối đa'][i]) == str:\n",
    "        continue\n",
    "    else:\n",
    "        df.loc[i, 'Dung lượng tối đa'] = df.iloc[i, 67]"
   ]
  },
  {
   "cell_type": "code",
   "execution_count": 145,
   "id": "f29c0d8c-2ff2-44f7-83e3-56abf6bb450e",
   "metadata": {},
   "outputs": [
    {
     "data": {
      "text/plain": [
       "Dung lượng tối đa \n",
       "32GB     1\n",
       "         1\n",
       "Name: count, dtype: int64"
      ]
     },
     "execution_count": 145,
     "metadata": {},
     "output_type": "execute_result"
    }
   ],
   "source": [
    "df.iloc[:, 67].value_counts()"
   ]
  },
  {
   "cell_type": "code",
   "execution_count": 146,
   "id": "fab0d8ee-023f-4fa1-8884-a62b64ff9d3b",
   "metadata": {},
   "outputs": [],
   "source": [
    "df_new['ram_max'] = df['Dung lượng tối đa'].str.extract(r'(\\d+)GB*')"
   ]
  },
  {
   "cell_type": "code",
   "execution_count": 147,
   "id": "7cfaa03a-f4b8-48fb-bbef-ffab3a2656f0",
   "metadata": {},
   "outputs": [
    {
     "data": {
      "text/plain": [
       "'32'"
      ]
     },
     "execution_count": 147,
     "metadata": {},
     "output_type": "execute_result"
    }
   ],
   "source": [
    "df_new['ram_max'][71]"
   ]
  },
  {
   "cell_type": "code",
   "execution_count": 148,
   "id": "64a72311-85dd-45fa-84b7-fd35e5b0e172",
   "metadata": {},
   "outputs": [],
   "source": [
    "for i in range(len(df['Ổ cứng'])):\n",
    "    if type(df['Ổ cứng'][i]) == str:\n",
    "        continue\n",
    "    else:\n",
    "        df.loc[i, 'Ổ cứng'] = df.iloc[i, 69]"
   ]
  },
  {
   "cell_type": "code",
   "execution_count": 149,
   "id": "46e9ae87-0c5f-4975-98a7-91a3a0165279",
   "metadata": {},
   "outputs": [],
   "source": [
    "for i in range(len(df['Ổ cứng'])):\n",
    "    if type(df['Ổ cứng'][i]) == str:\n",
    "        continue\n",
    "    else:\n",
    "        df.loc[i, 'Ổ cứng'] = df.iloc[i, 103]"
   ]
  },
  {
   "cell_type": "code",
   "execution_count": 150,
   "id": "7ea10a9c-64ef-4f33-9ded-c5adc06a91f7",
   "metadata": {},
   "outputs": [
    {
     "data": {
      "text/plain": [
       "Hệ điều hành \n",
       "Windows 11 Home     1\n",
       "Win 11 Home         1\n",
       "Name: count, dtype: int64"
      ]
     },
     "execution_count": 150,
     "metadata": {},
     "output_type": "execute_result"
    }
   ],
   "source": [
    "df.iloc[:, 83].value_counts()"
   ]
  },
  {
   "cell_type": "code",
   "execution_count": 151,
   "id": "344fa2bc-7201-43ec-aed5-09453d6d7b56",
   "metadata": {},
   "outputs": [],
   "source": [
    "df_new['storage_type'] = df['Ổ cứng'].str.extract(r'(SSD|HDD)')"
   ]
  },
  {
   "cell_type": "code",
   "execution_count": 152,
   "id": "30b7ece2-18d7-4fa0-8e8f-71e51cdbc3ba",
   "metadata": {},
   "outputs": [],
   "source": [
    "size_info = df['Ổ cứng'].str.extract(r'(\\d+)TB|(\\d+)GB')"
   ]
  },
  {
   "cell_type": "code",
   "execution_count": 153,
   "id": "1b2ba8f2-52e7-4e41-a980-8eb1e5c897fe",
   "metadata": {},
   "outputs": [],
   "source": [
    "df_new['storage'] = size_info.apply(lambda row: int(row[0]) * 1024 if pd.notna(row[0]) else (int(row[1]) if pd.notna(row[1]) else 512), axis=1)"
   ]
  },
  {
   "cell_type": "code",
   "execution_count": 154,
   "id": "972d8f08-84a3-4934-9e35-189efb5094d6",
   "metadata": {},
   "outputs": [],
   "source": [
    "for i in range(len(df['Hệ điều hành'])):\n",
    "    if type(df['Hệ điều hành'][i]) == str:\n",
    "        continue\n",
    "    else:\n",
    "        df.loc[i, 'Hệ điều hành'] = df.iloc[i, 83]"
   ]
  },
  {
   "cell_type": "code",
   "execution_count": 155,
   "id": "ee73c931-b3a5-4fbe-befb-6c6c90e5662c",
   "metadata": {},
   "outputs": [],
   "source": [
    "df_new['os'] = df[\"Hệ điều hành\"].str.extract(r'(Window.\\d\\d|Window. \\d\\d|Win \\d\\d|Dos|Ubuntu|Mac OS|No OS|Fedora)')"
   ]
  },
  {
   "cell_type": "code",
   "execution_count": 156,
   "id": "1df5ed66-b875-41e6-87d2-55aa20abeefc",
   "metadata": {},
   "outputs": [
    {
     "data": {
      "text/plain": [
       "os\n",
       "Win 11        39\n",
       "Windows 11    33\n",
       "Windows11     11\n",
       "Ubuntu         6\n",
       "Window 11      4\n",
       "Dos            2\n",
       "Windows10      2\n",
       "Win 10         1\n",
       "Name: count, dtype: int64"
      ]
     },
     "execution_count": 156,
     "metadata": {},
     "output_type": "execute_result"
    }
   ],
   "source": [
    "df_new['os'].value_counts()"
   ]
  },
  {
   "cell_type": "code",
   "execution_count": 157,
   "id": "46d2a63f-20f3-423c-b63a-0bf2bd960b9c",
   "metadata": {},
   "outputs": [],
   "source": [
    "df_new.loc[df_new['os'].isin(['Windows 11', 'Win 11', 'Windows11', 'Window 11']), 'os'] = 'Windows 11'\n",
    "df_new.loc[df_new['os'].isin(['Windows10', 'Win 10']), 'os'] = 'Windows 10'"
   ]
  },
  {
   "cell_type": "code",
   "execution_count": 158,
   "id": "de326884-7de9-49ca-b88a-7248797c7c6c",
   "metadata": {},
   "outputs": [
    {
     "data": {
      "text/plain": [
       "os\n",
       "Windows 11    87\n",
       "Ubuntu         6\n",
       "Windows 10     3\n",
       "Dos            2\n",
       "Name: count, dtype: int64"
      ]
     },
     "execution_count": 158,
     "metadata": {},
     "output_type": "execute_result"
    }
   ],
   "source": [
    "df_new['os'].value_counts()"
   ]
  },
  {
   "cell_type": "code",
   "execution_count": 159,
   "id": "18df776f-23b1-4cce-96f9-ce3b413e9fcb",
   "metadata": {},
   "outputs": [],
   "source": [
    "def get_battery_capacity(string):\n",
    "    # Check if the input string is None\n",
    "    if not isinstance(string, str):\n",
    "        return None\n",
    "    \n",
    "    # Regular expression to match battery capacity\n",
    "    pattern = r'(\\d+(\\.\\d+)?)\\s*Wh?'\n",
    "    \n",
    "    # Search for the pattern in the string\n",
    "    match = re.search(pattern, string)\n",
    "    \n",
    "    if match:\n",
    "        # Extract the matched capacity\n",
    "        capacity = float(match.group(1))\n",
    "        return capacity\n",
    "    else:\n",
    "        return None"
   ]
  },
  {
   "cell_type": "code",
   "execution_count": 160,
   "id": "603136a2-20ee-4b24-80ba-4735c3fd936b",
   "metadata": {},
   "outputs": [],
   "source": [
    "df_new['battery'] = df['Pin']\n",
    "df_new['battery'] = df_new['battery'].apply(get_battery_capacity)"
   ]
  },
  {
   "cell_type": "code",
   "execution_count": 161,
   "id": "f0d2f465-98fe-4f0f-8f38-5a83d668c8be",
   "metadata": {},
   "outputs": [],
   "source": [
    "df_new['screen_size'] = df['Màn hình'].str.extract(r'(\\d*\\.*\\d+-inch|\\d*\\.*\\d+ *inch|\\d*\\.*\\d+-Inch|\\d*\\.*\\d+ *Inch|\\d*\\.*\\d+\")')\n",
    "df_new['screen_revolution'] = df['Màn hình'].str.extract(r'(FHD|2.5K|4K|WUXGA|QHD|Full HD)')\n",
    "df_new['screen_pixels'] = df['Màn hình'].str.extract(r'(\\d+ *x *\\d+|\\d+ *\\* *\\d+|\\d+ *X *\\d+)')\n",
    "\n",
    "df_new['screen_size'] = df_new['screen_size'].str.replace('-inch', '')\n",
    "df_new['screen_size'] = df_new['screen_size'].str.replace('inch', '')\n",
    "df_new['screen_size'] = df_new['screen_size'].str.replace('Inch', '')\n",
    "df_new['screen_size'] = df_new['screen_size'].str.replace('\"', '')\n",
    "df_new['screen_size'] = df_new['screen_size'].str.replace(' ', '')\n",
    "df_new['screen_revolution'] = df_new['screen_revolution'].str.replace('Full HD', 'FHD')\n",
    "df_new['screen_pixels'] = df_new['screen_pixels'].str.replace(' ', '')\n",
    "df_new['screen_pixels'] = df_new['screen_pixels'].str.replace('*', 'x')\n",
    "df_new['screen_pixels'] = df_new['screen_pixels'].str.replace('X', 'x')"
   ]
  },
  {
   "cell_type": "code",
   "execution_count": 162,
   "id": "b369ae18-21b7-49f9-811d-8b6b40b0e9c9",
   "metadata": {},
   "outputs": [],
   "source": [
    "df_new[['screen_width', 'screen_height']] = df_new['screen_pixels'].str.extract(r'(\\d+)\\s*[xX×]\\s*(\\d+)')"
   ]
  },
  {
   "cell_type": "code",
   "execution_count": 163,
   "id": "d9513717-18f9-408a-9c77-8e924feda821",
   "metadata": {},
   "outputs": [],
   "source": [
    "df_new['weight'] = df['Cân nặng'].str.extract(r'(\\d*\\.*\\d* *kg|\\d*\\.*\\d* *Kg)')\n",
    "df_new['weight'] = df_new['weight'].str.replace(\"Kg\", '')\n",
    "df_new['weight'] = df_new['weight'].str.replace(\"kg\", '')"
   ]
  },
  {
   "cell_type": "code",
   "execution_count": 164,
   "id": "9ed3f36c-7c0f-4eee-87ea-9ca202e0fe21",
   "metadata": {},
   "outputs": [],
   "source": [
    "df_new.loc[df_new['weight'] == 72, 'weight'] = 1.72"
   ]
  },
  {
   "cell_type": "code",
   "execution_count": 165,
   "id": "700b73ab-710c-4294-a4f4-86eba8970037",
   "metadata": {},
   "outputs": [],
   "source": [
    "df_new['webcam'] = df['Webcam'].notnull().astype(int)"
   ]
  },
  {
   "cell_type": "code",
   "execution_count": 166,
   "id": "cb8588dc-b13e-4a28-a2d0-86643ff32ee7",
   "metadata": {},
   "outputs": [],
   "source": [
    "df_new['chipset_gen'] = df['Bộ vi xử lý'].str.extract(r'(I\\d.\\w+|i\\d.\\w+|AMD.* *\\d* *\\w*|Apple \\w*)')"
   ]
  },
  {
   "cell_type": "code",
   "execution_count": 167,
   "id": "513bd510-e0ea-45e8-b5f4-12f9aa76b223",
   "metadata": {},
   "outputs": [
    {
     "data": {
      "text/plain": [
       "0                                               i3-1315U\n",
       "2                                               i3 1305U\n",
       "3                                               i5 1340P\n",
       "4                                               i5 1335U\n",
       "5                                           AMD R5 7530U\n",
       "                             ...                        \n",
       "232    AMD Ryzen™ 7 7730U Mobile Processor 2.0GHz (8-...\n",
       "234                                            i5-12450H\n",
       "235                                            i5-13500H\n",
       "236                                                  NaN\n",
       "237                                              i3-N305\n",
       "Name: chipset_gen, Length: 146, dtype: object"
      ]
     },
     "execution_count": 167,
     "metadata": {},
     "output_type": "execute_result"
    }
   ],
   "source": [
    "df_new['chipset_gen']"
   ]
  },
  {
   "cell_type": "code",
   "execution_count": 168,
   "id": "7d8a0efd-5543-4715-837d-a51c1fb11846",
   "metadata": {},
   "outputs": [],
   "source": [
    "amd_df = df_new.loc[df_new['chipset'] == 'AMD']"
   ]
  },
  {
   "cell_type": "code",
   "execution_count": 169,
   "id": "4523b507-6c61-47db-a56b-1dd815980d8c",
   "metadata": {},
   "outputs": [],
   "source": [
    "amd_df.loc[:, 'chipset_gen'] = amd_df['chipset_gen'].str.extract(r'(\\d+)', expand=False)"
   ]
  },
  {
   "cell_type": "code",
   "execution_count": 170,
   "id": "c3f26e9f-d9a7-427e-a427-d37c22e2aea9",
   "metadata": {},
   "outputs": [],
   "source": [
    "amd_df.loc[:, 'chipset_gen'] = 'Ryzen ' + amd_df['chipset_gen']"
   ]
  },
  {
   "cell_type": "code",
   "execution_count": 171,
   "id": "516213dc-2691-4624-8c3e-96b2e200e924",
   "metadata": {},
   "outputs": [],
   "source": [
    "intel_df = df_new.loc[df_new['chipset'] == 'Intel']"
   ]
  },
  {
   "cell_type": "code",
   "execution_count": 172,
   "id": "79632b09-2f7f-47a8-a72c-aed8238df553",
   "metadata": {},
   "outputs": [],
   "source": [
    "intel_df.loc[:, 'chipset_gen'] = intel_df.loc[:, 'chipset_gen'].str.extract(r'(i[3579]|Ultra [3579])', expand=False)"
   ]
  },
  {
   "cell_type": "code",
   "execution_count": 173,
   "id": "3c98957f-7567-40ad-9a27-092df8b6838f",
   "metadata": {},
   "outputs": [],
   "source": [
    "apple_df = df_new.loc[df_new['chipset'] == 'Apple']"
   ]
  },
  {
   "cell_type": "code",
   "execution_count": 174,
   "id": "23b6f7b6-e685-4428-ae45-c044128e26b6",
   "metadata": {},
   "outputs": [],
   "source": [
    "apple_df['chipset_gen'] = apple_df['chipset_gen'].str.extract(r'(M[123])', expand=False)"
   ]
  },
  {
   "cell_type": "code",
   "execution_count": 175,
   "id": "b3571fdf-9496-4215-9645-54f90bb85cbf",
   "metadata": {},
   "outputs": [],
   "source": [
    "df_new = pd.concat([amd_df, intel_df, apple_df], ignore_index=True)"
   ]
  },
  {
   "cell_type": "code",
   "execution_count": 176,
   "id": "d10d1b25-5ad2-486b-b034-d53366a7afa0",
   "metadata": {},
   "outputs": [],
   "source": [
    "mode_values = df_new.mode().iloc[0]\n",
    "df_new.fillna(mode_values, inplace=True)"
   ]
  },
  {
   "cell_type": "code",
   "execution_count": 177,
   "id": "ef6f653e-69d9-43ba-813b-6530db280567",
   "metadata": {},
   "outputs": [],
   "source": [
    "df_new.to_csv(\"hacom.csv\", encoding=\"utf-8-sig\")"
   ]
  }
 ],
 "metadata": {
  "kernelspec": {
   "display_name": "Python 3 (ipykernel)",
   "language": "python",
   "name": "python3"
  },
  "language_info": {
   "codemirror_mode": {
    "name": "ipython",
    "version": 3
   },
   "file_extension": ".py",
   "mimetype": "text/x-python",
   "name": "python",
   "nbconvert_exporter": "python",
   "pygments_lexer": "ipython3",
   "version": "3.11.0"
  }
 },
 "nbformat": 4,
 "nbformat_minor": 5
}
