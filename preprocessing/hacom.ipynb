{
 "cells": [
  {
   "cell_type": "code",
   "execution_count": 85,
   "id": "36226be0-2339-4b55-a446-ad817a4eb3e5",
   "metadata": {},
   "outputs": [],
   "source": [
    "import numpy as np \n",
    "import pandas as pd \n",
    "from matplotlib import pyplot as plt\n",
    "import plotly.express as px\n",
    "import seaborn as sns\n",
    "import re"
   ]
  },
  {
   "cell_type": "code",
   "execution_count": 86,
   "id": "36042ca4-8a42-48cc-974d-42f4de6596d7",
   "metadata": {},
   "outputs": [],
   "source": [
    "df1 = pd.read_json(\"hacom_vp.json\")\n",
    "df2 = pd.read_json(\"hacom_gm.json\")\n",
    "df = pd.concat([df1, df2], ignore_index=True)"
   ]
  },
  {
   "cell_type": "code",
   "execution_count": 87,
   "id": "62099bca-a47c-4709-84eb-f3893325ddf8",
   "metadata": {},
   "outputs": [
    {
     "data": {
      "text/html": [
       "<div>\n",
       "<style scoped>\n",
       "    .dataframe tbody tr th:only-of-type {\n",
       "        vertical-align: middle;\n",
       "    }\n",
       "\n",
       "    .dataframe tbody tr th {\n",
       "        vertical-align: top;\n",
       "    }\n",
       "\n",
       "    .dataframe thead th {\n",
       "        text-align: right;\n",
       "    }\n",
       "</style>\n",
       "<table border=\"1\" class=\"dataframe\">\n",
       "  <thead>\n",
       "    <tr style=\"text-align: right;\">\n",
       "      <th></th>\n",
       "      <th>name</th>\n",
       "      <th>url</th>\n",
       "      <th>giá gốc</th>\n",
       "      <th>giá khuyến mại</th>\n",
       "      <th>None</th>\n",
       "      <th>Hãng sản xuất</th>\n",
       "      <th>Chủng loại</th>\n",
       "      <th>Part Number</th>\n",
       "      <th>Mầu sắc</th>\n",
       "      <th>Bộ vi xử lý</th>\n",
       "      <th>...</th>\n",
       "      <th>Số khe RAM chờ</th>\n",
       "      <th>Khe mở rộng (Bao gồm cả khe đang sử dụng)</th>\n",
       "      <th>Memory Slot</th>\n",
       "      <th>Bluetooth 5.2</th>\n",
       "      <th>1x Type C USB 4 support DisplayPort™ / G-SYNC</th>\n",
       "      <th>16-inch</th>\n",
       "      <th>2.5K (2560 x 1600, WQXGA) 16:10 aspect ratio</th>\n",
       "      <th>240Hz</th>\n",
       "      <th>0.2ms</th>\n",
       "      <th>Công nghệ, bảo mật</th>\n",
       "    </tr>\n",
       "  </thead>\n",
       "  <tbody>\n",
       "    <tr>\n",
       "      <th>0</th>\n",
       "      <td>Laptop Asus VivoBook A1505VA-L1491W  (i7 13700...</td>\n",
       "      <td>https://hacom.vn/laptop-asus-vivobook-a1505va-...</td>\n",
       "      <td>20.349.000₫</td>\n",
       "      <td></td>\n",
       "      <td>NaN</td>\n",
       "      <td>NaN</td>\n",
       "      <td>NaN</td>\n",
       "      <td>NaN</td>\n",
       "      <td>NaN</td>\n",
       "      <td>NaN</td>\n",
       "      <td>...</td>\n",
       "      <td>NaN</td>\n",
       "      <td>NaN</td>\n",
       "      <td>NaN</td>\n",
       "      <td>NaN</td>\n",
       "      <td>NaN</td>\n",
       "      <td>NaN</td>\n",
       "      <td>NaN</td>\n",
       "      <td>NaN</td>\n",
       "      <td>NaN</td>\n",
       "      <td>NaN</td>\n",
       "    </tr>\n",
       "    <tr>\n",
       "      <th>1</th>\n",
       "      <td>Đồng hồ thông minh IMILAB W13 - Màu bạc</td>\n",
       "      <td>https://hacom.vn/dong-ho-thong-minh-imilab-w13...</td>\n",
       "      <td>None</td>\n",
       "      <td></td>\n",
       "      <td>None</td>\n",
       "      <td>NaN</td>\n",
       "      <td>NaN</td>\n",
       "      <td>NaN</td>\n",
       "      <td>NaN</td>\n",
       "      <td>NaN</td>\n",
       "      <td>...</td>\n",
       "      <td>NaN</td>\n",
       "      <td>NaN</td>\n",
       "      <td>NaN</td>\n",
       "      <td>NaN</td>\n",
       "      <td>NaN</td>\n",
       "      <td>NaN</td>\n",
       "      <td>NaN</td>\n",
       "      <td>NaN</td>\n",
       "      <td>NaN</td>\n",
       "      <td>NaN</td>\n",
       "    </tr>\n",
       "    <tr>\n",
       "      <th>2</th>\n",
       "      <td>Vòng đeo tay thông minh Xiaomi Redmi Band 2 - ...</td>\n",
       "      <td>https://hacom.vn/vong-deo-tay-thong-minh-xiaom...</td>\n",
       "      <td>None</td>\n",
       "      <td></td>\n",
       "      <td>Android và OS</td>\n",
       "      <td>NaN</td>\n",
       "      <td>NaN</td>\n",
       "      <td>NaN</td>\n",
       "      <td>NaN</td>\n",
       "      <td>NaN</td>\n",
       "      <td>...</td>\n",
       "      <td>NaN</td>\n",
       "      <td>NaN</td>\n",
       "      <td>NaN</td>\n",
       "      <td>NaN</td>\n",
       "      <td>NaN</td>\n",
       "      <td>NaN</td>\n",
       "      <td>NaN</td>\n",
       "      <td>NaN</td>\n",
       "      <td>NaN</td>\n",
       "      <td>NaN</td>\n",
       "    </tr>\n",
       "    <tr>\n",
       "      <th>3</th>\n",
       "      <td>Laptop Lenovo Thinkpad E16 Gen 1 (21JN00FQVN) ...</td>\n",
       "      <td>https://hacom.vn/laptop-lenovo-thinkpad-e16-ge...</td>\n",
       "      <td>27.349.000₫</td>\n",
       "      <td></td>\n",
       "      <td>NaN</td>\n",
       "      <td>Lenovo</td>\n",
       "      <td>Thinpad E16 Gen 1</td>\n",
       "      <td>21JN00FQVN</td>\n",
       "      <td>Đen</td>\n",
       "      <td>Intel® Core™ i7-13700H, 14C (6P + 8E) / 20T, P...</td>\n",
       "      <td>...</td>\n",
       "      <td>NaN</td>\n",
       "      <td>NaN</td>\n",
       "      <td>NaN</td>\n",
       "      <td>NaN</td>\n",
       "      <td>NaN</td>\n",
       "      <td>NaN</td>\n",
       "      <td>NaN</td>\n",
       "      <td>NaN</td>\n",
       "      <td>NaN</td>\n",
       "      <td>NaN</td>\n",
       "    </tr>\n",
       "    <tr>\n",
       "      <th>4</th>\n",
       "      <td>Laptop Lenovo Thinkpad L14 Gen 4 (21H1003AVA) ...</td>\n",
       "      <td>https://hacom.vn/laptop-lenovo-thinkpad-l14-ge...</td>\n",
       "      <td>25.849.000₫</td>\n",
       "      <td></td>\n",
       "      <td>NaN</td>\n",
       "      <td>Lenovo</td>\n",
       "      <td>Lenovo ThinkPad L14 Gen 4</td>\n",
       "      <td>21H1003AVA</td>\n",
       "      <td>Đen</td>\n",
       "      <td>Intel® Core™ i7-1360P, 12C (4P + 8E) / 16T, P-...</td>\n",
       "      <td>...</td>\n",
       "      <td>NaN</td>\n",
       "      <td>NaN</td>\n",
       "      <td>NaN</td>\n",
       "      <td>NaN</td>\n",
       "      <td>NaN</td>\n",
       "      <td>NaN</td>\n",
       "      <td>NaN</td>\n",
       "      <td>NaN</td>\n",
       "      <td>NaN</td>\n",
       "      <td>NaN</td>\n",
       "    </tr>\n",
       "    <tr>\n",
       "      <th>...</th>\n",
       "      <td>...</td>\n",
       "      <td>...</td>\n",
       "      <td>...</td>\n",
       "      <td>...</td>\n",
       "      <td>...</td>\n",
       "      <td>...</td>\n",
       "      <td>...</td>\n",
       "      <td>...</td>\n",
       "      <td>...</td>\n",
       "      <td>...</td>\n",
       "      <td>...</td>\n",
       "      <td>...</td>\n",
       "      <td>...</td>\n",
       "      <td>...</td>\n",
       "      <td>...</td>\n",
       "      <td>...</td>\n",
       "      <td>...</td>\n",
       "      <td>...</td>\n",
       "      <td>...</td>\n",
       "      <td>...</td>\n",
       "      <td>...</td>\n",
       "    </tr>\n",
       "    <tr>\n",
       "      <th>883</th>\n",
       "      <td>Laptop Asus Gaming TUF FA507NV-LP061W (R7 7735...</td>\n",
       "      <td>https://hacom.vn/laptop-asus-gaming-tuf-fa507n...</td>\n",
       "      <td>None</td>\n",
       "      <td></td>\n",
       "      <td>NaN</td>\n",
       "      <td>NaN</td>\n",
       "      <td>NaN</td>\n",
       "      <td>NaN</td>\n",
       "      <td>NaN</td>\n",
       "      <td>NaN</td>\n",
       "      <td>...</td>\n",
       "      <td>NaN</td>\n",
       "      <td>NaN</td>\n",
       "      <td>NaN</td>\n",
       "      <td>NaN</td>\n",
       "      <td>NaN</td>\n",
       "      <td>NaN</td>\n",
       "      <td>NaN</td>\n",
       "      <td>NaN</td>\n",
       "      <td>NaN</td>\n",
       "      <td>NaN</td>\n",
       "    </tr>\n",
       "    <tr>\n",
       "      <th>884</th>\n",
       "      <td>Laptop MSI Gaming Cyborg 15 (A12UCX-281VN) ((i...</td>\n",
       "      <td>https://hacom.vn/laptop-msi-gaming-cyborg-15-a...</td>\n",
       "      <td>17.290.000₫</td>\n",
       "      <td></td>\n",
       "      <td>NaN</td>\n",
       "      <td>MSI</td>\n",
       "      <td>Cyborg 15 A12VE</td>\n",
       "      <td>A12UCX-281VN</td>\n",
       "      <td>Đen</td>\n",
       "      <td>Intel</td>\n",
       "      <td>...</td>\n",
       "      <td>NaN</td>\n",
       "      <td>NaN</td>\n",
       "      <td>NaN</td>\n",
       "      <td>NaN</td>\n",
       "      <td>NaN</td>\n",
       "      <td>NaN</td>\n",
       "      <td>NaN</td>\n",
       "      <td>NaN</td>\n",
       "      <td>NaN</td>\n",
       "      <td>NaN</td>\n",
       "    </tr>\n",
       "    <tr>\n",
       "      <th>885</th>\n",
       "      <td>LAPTOP ACER GAMING ASPIRE 5 A515-58GM-53PZ (N...</td>\n",
       "      <td>https://hacom.vn/laptop-acer-gaming-aspire-5-a...</td>\n",
       "      <td>None</td>\n",
       "      <td></td>\n",
       "      <td>NaN</td>\n",
       "      <td>Acer</td>\n",
       "      <td>Acer Aspire 5 A515-58GM-53PZ</td>\n",
       "      <td>NX.KQ4SV.008</td>\n",
       "      <td>Xám (Steel Gray)</td>\n",
       "      <td>Intel® Core™ i5-13420H (upto 4.6 GHz)</td>\n",
       "      <td>...</td>\n",
       "      <td>NaN</td>\n",
       "      <td>NaN</td>\n",
       "      <td>NaN</td>\n",
       "      <td>NaN</td>\n",
       "      <td>NaN</td>\n",
       "      <td>NaN</td>\n",
       "      <td>NaN</td>\n",
       "      <td>NaN</td>\n",
       "      <td>NaN</td>\n",
       "      <td>NaN</td>\n",
       "    </tr>\n",
       "    <tr>\n",
       "      <th>886</th>\n",
       "      <td>Laptop Acer Nitro V ANV15-51-72VS (NH.QNASV.00...</td>\n",
       "      <td>https://hacom.vn/laptop-acer-nitro-v-anv15-51-...</td>\n",
       "      <td>25.349.000₫</td>\n",
       "      <td></td>\n",
       "      <td>NaN</td>\n",
       "      <td>Acer</td>\n",
       "      <td>Acer Nitro V ANV15-51-72VS</td>\n",
       "      <td>NH.QNASV.004</td>\n",
       "      <td>Đen (Obsidian black)</td>\n",
       "      <td>Intel® Core™ i7-13620H upto 4.90 GHz</td>\n",
       "      <td>...</td>\n",
       "      <td>NaN</td>\n",
       "      <td>NaN</td>\n",
       "      <td>NaN</td>\n",
       "      <td>NaN</td>\n",
       "      <td>NaN</td>\n",
       "      <td>NaN</td>\n",
       "      <td>NaN</td>\n",
       "      <td>NaN</td>\n",
       "      <td>NaN</td>\n",
       "      <td>NaN</td>\n",
       "    </tr>\n",
       "    <tr>\n",
       "      <th>887</th>\n",
       "      <td>Laptop Asus Gaming TUF FA507NU-LP131W (R5 7535...</td>\n",
       "      <td>https://hacom.vn/laptop-asus-gaming-tuf-fa507n...</td>\n",
       "      <td>22.799.000₫</td>\n",
       "      <td></td>\n",
       "      <td>NaN</td>\n",
       "      <td>Asus</td>\n",
       "      <td>Asus Tuf gaming</td>\n",
       "      <td>FA507NU-LP131W</td>\n",
       "      <td>Xám</td>\n",
       "      <td>AMD Ryzen™ 5 7535HS/H Mobile Processor (6-core...</td>\n",
       "      <td>...</td>\n",
       "      <td>NaN</td>\n",
       "      <td>NaN</td>\n",
       "      <td>NaN</td>\n",
       "      <td>NaN</td>\n",
       "      <td>NaN</td>\n",
       "      <td>NaN</td>\n",
       "      <td>NaN</td>\n",
       "      <td>NaN</td>\n",
       "      <td>NaN</td>\n",
       "      <td>NaN</td>\n",
       "    </tr>\n",
       "  </tbody>\n",
       "</table>\n",
       "<p>888 rows × 212 columns</p>\n",
       "</div>"
      ],
      "text/plain": [
       "                                                  name  \\\n",
       "0    Laptop Asus VivoBook A1505VA-L1491W  (i7 13700...   \n",
       "1              Đồng hồ thông minh IMILAB W13 - Màu bạc   \n",
       "2    Vòng đeo tay thông minh Xiaomi Redmi Band 2 - ...   \n",
       "3    Laptop Lenovo Thinkpad E16 Gen 1 (21JN00FQVN) ...   \n",
       "4    Laptop Lenovo Thinkpad L14 Gen 4 (21H1003AVA) ...   \n",
       "..                                                 ...   \n",
       "883  Laptop Asus Gaming TUF FA507NV-LP061W (R7 7735...   \n",
       "884  Laptop MSI Gaming Cyborg 15 (A12UCX-281VN) ((i...   \n",
       "885   LAPTOP ACER GAMING ASPIRE 5 A515-58GM-53PZ (N...   \n",
       "886  Laptop Acer Nitro V ANV15-51-72VS (NH.QNASV.00...   \n",
       "887  Laptop Asus Gaming TUF FA507NU-LP131W (R5 7535...   \n",
       "\n",
       "                                                   url      giá gốc  \\\n",
       "0    https://hacom.vn/laptop-asus-vivobook-a1505va-...  20.349.000₫   \n",
       "1    https://hacom.vn/dong-ho-thong-minh-imilab-w13...         None   \n",
       "2    https://hacom.vn/vong-deo-tay-thong-minh-xiaom...         None   \n",
       "3    https://hacom.vn/laptop-lenovo-thinkpad-e16-ge...  27.349.000₫   \n",
       "4    https://hacom.vn/laptop-lenovo-thinkpad-l14-ge...  25.849.000₫   \n",
       "..                                                 ...          ...   \n",
       "883  https://hacom.vn/laptop-asus-gaming-tuf-fa507n...         None   \n",
       "884  https://hacom.vn/laptop-msi-gaming-cyborg-15-a...  17.290.000₫   \n",
       "885  https://hacom.vn/laptop-acer-gaming-aspire-5-a...         None   \n",
       "886  https://hacom.vn/laptop-acer-nitro-v-anv15-51-...  25.349.000₫   \n",
       "887  https://hacom.vn/laptop-asus-gaming-tuf-fa507n...  22.799.000₫   \n",
       "\n",
       "    giá khuyến mại           None Hãng sản xuất                    Chủng loại  \\\n",
       "0                             NaN           NaN                           NaN   \n",
       "1                            None           NaN                           NaN   \n",
       "2                   Android và OS           NaN                           NaN   \n",
       "3                             NaN        Lenovo             Thinpad E16 Gen 1   \n",
       "4                             NaN        Lenovo     Lenovo ThinkPad L14 Gen 4   \n",
       "..             ...            ...           ...                           ...   \n",
       "883                           NaN           NaN                           NaN   \n",
       "884                           NaN           MSI               Cyborg 15 A12VE   \n",
       "885                           NaN          Acer  Acer Aspire 5 A515-58GM-53PZ   \n",
       "886                           NaN          Acer    Acer Nitro V ANV15-51-72VS   \n",
       "887                           NaN          Asus               Asus Tuf gaming   \n",
       "\n",
       "        Part Number               Mầu sắc  \\\n",
       "0               NaN                   NaN   \n",
       "1               NaN                   NaN   \n",
       "2               NaN                   NaN   \n",
       "3        21JN00FQVN                   Đen   \n",
       "4        21H1003AVA                   Đen   \n",
       "..              ...                   ...   \n",
       "883             NaN                   NaN   \n",
       "884    A12UCX-281VN                   Đen   \n",
       "885    NX.KQ4SV.008      Xám (Steel Gray)   \n",
       "886    NH.QNASV.004  Đen (Obsidian black)   \n",
       "887  FA507NU-LP131W                   Xám   \n",
       "\n",
       "                                           Bộ vi xử lý  ... Số khe RAM chờ   \\\n",
       "0                                                  NaN  ...             NaN   \n",
       "1                                                  NaN  ...             NaN   \n",
       "2                                                  NaN  ...             NaN   \n",
       "3    Intel® Core™ i7-13700H, 14C (6P + 8E) / 20T, P...  ...             NaN   \n",
       "4    Intel® Core™ i7-1360P, 12C (4P + 8E) / 16T, P-...  ...             NaN   \n",
       "..                                                 ...  ...             ...   \n",
       "883                                                NaN  ...             NaN   \n",
       "884                                              Intel  ...             NaN   \n",
       "885              Intel® Core™ i5-13420H (upto 4.6 GHz)  ...             NaN   \n",
       "886               Intel® Core™ i7-13620H upto 4.90 GHz  ...             NaN   \n",
       "887  AMD Ryzen™ 5 7535HS/H Mobile Processor (6-core...  ...             NaN   \n",
       "\n",
       "    Khe mở rộng (Bao gồm cả khe đang sử dụng) Memory Slot Bluetooth 5.2  \\\n",
       "0                                         NaN         NaN           NaN   \n",
       "1                                         NaN         NaN           NaN   \n",
       "2                                         NaN         NaN           NaN   \n",
       "3                                         NaN         NaN           NaN   \n",
       "4                                         NaN         NaN           NaN   \n",
       "..                                        ...         ...           ...   \n",
       "883                                       NaN         NaN           NaN   \n",
       "884                                       NaN         NaN           NaN   \n",
       "885                                       NaN         NaN           NaN   \n",
       "886                                       NaN         NaN           NaN   \n",
       "887                                       NaN         NaN           NaN   \n",
       "\n",
       "    1x Type C USB 4 support DisplayPort™ / G-SYNC 16-inch  \\\n",
       "0                                             NaN     NaN   \n",
       "1                                             NaN     NaN   \n",
       "2                                             NaN     NaN   \n",
       "3                                             NaN     NaN   \n",
       "4                                             NaN     NaN   \n",
       "..                                            ...     ...   \n",
       "883                                           NaN     NaN   \n",
       "884                                           NaN     NaN   \n",
       "885                                           NaN     NaN   \n",
       "886                                           NaN     NaN   \n",
       "887                                           NaN     NaN   \n",
       "\n",
       "    2.5K (2560 x 1600, WQXGA) 16:10 aspect ratio 240Hz 0.2ms  \\\n",
       "0                                            NaN   NaN   NaN   \n",
       "1                                            NaN   NaN   NaN   \n",
       "2                                            NaN   NaN   NaN   \n",
       "3                                            NaN   NaN   NaN   \n",
       "4                                            NaN   NaN   NaN   \n",
       "..                                           ...   ...   ...   \n",
       "883                                          NaN   NaN   NaN   \n",
       "884                                          NaN   NaN   NaN   \n",
       "885                                          NaN   NaN   NaN   \n",
       "886                                          NaN   NaN   NaN   \n",
       "887                                          NaN   NaN   NaN   \n",
       "\n",
       "    Công nghệ, bảo mật  \n",
       "0                  NaN  \n",
       "1                  NaN  \n",
       "2                  NaN  \n",
       "3                  NaN  \n",
       "4                  NaN  \n",
       "..                 ...  \n",
       "883                NaN  \n",
       "884                NaN  \n",
       "885                NaN  \n",
       "886                NaN  \n",
       "887                NaN  \n",
       "\n",
       "[888 rows x 212 columns]"
      ]
     },
     "execution_count": 87,
     "metadata": {},
     "output_type": "execute_result"
    }
   ],
   "source": [
    "df"
   ]
  },
  {
   "cell_type": "code",
   "execution_count": 88,
   "id": "a6bc7e02-d27d-4a27-91ff-e942e1c14dce",
   "metadata": {},
   "outputs": [
    {
     "data": {
      "text/plain": [
       "Index(['name', 'url', 'giá gốc', 'giá khuyến mại', 'None', 'Hãng sản xuất',\n",
       "       'Chủng loại', 'Part Number', 'Mầu sắc', 'Bộ vi xử lý',\n",
       "       ...\n",
       "       'Số khe RAM chờ ', 'Khe mở rộng (Bao gồm cả khe đang sử dụng)',\n",
       "       'Memory Slot', 'Bluetooth 5.2',\n",
       "       '1x Type C USB 4 support DisplayPort™ / G-SYNC', '16-inch',\n",
       "       '2.5K (2560 x 1600, WQXGA) 16:10 aspect ratio', '240Hz', '0.2ms',\n",
       "       'Công nghệ, bảo mật'],\n",
       "      dtype='object', length=212)"
      ]
     },
     "execution_count": 88,
     "metadata": {},
     "output_type": "execute_result"
    }
   ],
   "source": [
    "df.columns"
   ]
  },
  {
   "cell_type": "code",
   "execution_count": 89,
   "id": "7e9f0c76-456f-4757-98b3-49bb02cbf8ee",
   "metadata": {},
   "outputs": [],
   "source": [
    "df_new = pd.DataFrame(columns=[\n",
    " 'name',\n",
    " 'brand',\n",
    " 'chipset',\n",
    " 'chipset_gen',\n",
    " 'ram', \n",
    " 'ram_max', \n",
    " 'vga',\n",
    " 'storage_type',\n",
    " 'storage', \n",
    " 'os',\n",
    " 'screen_size',\n",
    " 'screen_revolution',\n",
    " 'battery',\n",
    " 'webcam',\n",
    " 'weight', \n",
    " 'price'\n",
    "])"
   ]
  },
  {
   "cell_type": "code",
   "execution_count": 90,
   "id": "d0c4bfe1-3ba3-4e56-9ea5-065311cf66cc",
   "metadata": {},
   "outputs": [],
   "source": [
    "df_new['name'] = df['name']"
   ]
  },
  {
   "cell_type": "code",
   "execution_count": 91,
   "id": "26a6ab69-6eaa-4136-9661-eef4b3b3d24f",
   "metadata": {},
   "outputs": [],
   "source": [
    "df_new['brand'] = df['Hãng sản xuất']"
   ]
  },
  {
   "cell_type": "code",
   "execution_count": 92,
   "id": "d43e4d2e-1bcd-4be1-8dc0-cf06331766ff",
   "metadata": {},
   "outputs": [
    {
     "data": {
      "text/plain": [
       "brand\n",
       "Dell         136\n",
       "Lenovo        83\n",
       "MSI           70\n",
       "Acer          64\n",
       "Asus          59\n",
       "Apple         54\n",
       "HP            51\n",
       "Microsoft     19\n",
       "Gigabyte      13\n",
       "LG            10\n",
       "Acer          10\n",
       "VAIO           4\n",
       "DELL           2\n",
       "LENOVO         2\n",
       "LENOVO         2\n",
       "Chuwi          1\n",
       "Lenovo         1\n",
       "Dell           1\n",
       "ASUS           1\n",
       "Name: count, dtype: int64"
      ]
     },
     "execution_count": 92,
     "metadata": {},
     "output_type": "execute_result"
    }
   ],
   "source": [
    "df_new['brand'].value_counts()"
   ]
  },
  {
   "cell_type": "code",
   "execution_count": 93,
   "id": "f1519571-5f26-475e-ba16-39ae81cd46dc",
   "metadata": {},
   "outputs": [],
   "source": [
    "df_new.loc[df_new['brand'].isin(['Asus', 'ASUS']), 'brand'] = 'Asus'"
   ]
  },
  {
   "cell_type": "code",
   "execution_count": 94,
   "id": "9203ad99-0b70-45e9-8684-b1d40c68a505",
   "metadata": {},
   "outputs": [],
   "source": [
    "df_new.loc[df_new['brand'].isin(['Acer', 'Acer ']), 'brand'] = 'Acer'"
   ]
  },
  {
   "cell_type": "code",
   "execution_count": 95,
   "id": "46582478-f3ef-436e-be16-57184c7b249c",
   "metadata": {},
   "outputs": [],
   "source": [
    "df_new.loc[df_new['brand'].isin(['Dell', 'DELL']), 'brand'] = 'Dell'"
   ]
  },
  {
   "cell_type": "code",
   "execution_count": 96,
   "id": "d820d89e-9308-404c-b3be-6ca088cae994",
   "metadata": {},
   "outputs": [],
   "source": [
    "df_new.loc[df_new['brand'].isin(['Lenovo', 'LENOVO', 'LENOVO ', 'Lenovo ']), 'brand'] = 'Lenovo'"
   ]
  },
  {
   "cell_type": "code",
   "execution_count": 97,
   "id": "6e91c526-ad09-45d9-9b06-1e977bdb36d8",
   "metadata": {},
   "outputs": [
    {
     "data": {
      "text/plain": [
       "brand\n",
       "Dell         138\n",
       "Lenovo        87\n",
       "MSI           70\n",
       "Acer          64\n",
       "Asus          60\n",
       "Apple         54\n",
       "HP            51\n",
       "Microsoft     19\n",
       "Gigabyte      13\n",
       "LG            10\n",
       "Acer          10\n",
       "VAIO           4\n",
       "Chuwi          1\n",
       "Lenovo         1\n",
       "Dell           1\n",
       "Name: count, dtype: int64"
      ]
     },
     "execution_count": 97,
     "metadata": {},
     "output_type": "execute_result"
    }
   ],
   "source": [
    "df_new['brand'].value_counts()"
   ]
  },
  {
   "cell_type": "code",
   "execution_count": 98,
   "id": "3450fc60-7e5d-404f-bc2d-27e4832ff5c3",
   "metadata": {},
   "outputs": [],
   "source": [
    "for i in range(len(df['VGA'])):\n",
    "    if type(df['VGA'][i]) == str:\n",
    "        continue\n",
    "    else:\n",
    "        df.loc[i, 'VGA'] = df.iloc[i, 68]"
   ]
  },
  {
   "cell_type": "code",
   "execution_count": 99,
   "id": "a5369c50-1f6a-4aeb-bd08-77bc982c794b",
   "metadata": {},
   "outputs": [],
   "source": [
    "df_new['vga'] = df[\"VGA\"].str.lower().str.extract(r'(intel|amd|nvidia|apple)')"
   ]
  },
  {
   "cell_type": "code",
   "execution_count": 100,
   "id": "f352f07f-3da1-4881-94ff-b8b565f9b147",
   "metadata": {},
   "outputs": [
    {
     "data": {
      "text/plain": [
       "0         NaN\n",
       "1         NaN\n",
       "2         NaN\n",
       "3         NaN\n",
       "4       intel\n",
       "        ...  \n",
       "883       NaN\n",
       "884       NaN\n",
       "885    nvidia\n",
       "886    nvidia\n",
       "887    nvidia\n",
       "Name: vga, Length: 888, dtype: object"
      ]
     },
     "execution_count": 100,
     "metadata": {},
     "output_type": "execute_result"
    }
   ],
   "source": [
    "df_new['vga']"
   ]
  },
  {
   "cell_type": "code",
   "execution_count": 101,
   "id": "afef4e37-5939-4432-a1d5-d820692414af",
   "metadata": {},
   "outputs": [
    {
     "data": {
      "text/plain": [
       "vga\n",
       "intel     272\n",
       "nvidia    160\n",
       "apple      59\n",
       "amd        22\n",
       "Name: count, dtype: int64"
      ]
     },
     "execution_count": 101,
     "metadata": {},
     "output_type": "execute_result"
    }
   ],
   "source": [
    "df_new['vga'].value_counts()"
   ]
  },
  {
   "cell_type": "code",
   "execution_count": 102,
   "id": "deaa3256-1e1c-4554-ab61-89dc9937ebf4",
   "metadata": {},
   "outputs": [],
   "source": [
    "df_new['price'] = df['giá gốc'].str.replace(\"₫\", \"\")"
   ]
  },
  {
   "cell_type": "code",
   "execution_count": 103,
   "id": "7cf4614b-51eb-454a-9fc0-e68f0d10db2c",
   "metadata": {},
   "outputs": [
    {
     "data": {
      "text/plain": [
       "0      20.349.000\n",
       "1            None\n",
       "2            None\n",
       "3      27.349.000\n",
       "4      25.849.000\n",
       "          ...    \n",
       "883          None\n",
       "884    17.290.000\n",
       "885          None\n",
       "886    25.349.000\n",
       "887    22.799.000\n",
       "Name: price, Length: 888, dtype: object"
      ]
     },
     "execution_count": 103,
     "metadata": {},
     "output_type": "execute_result"
    }
   ],
   "source": [
    "df_new['price']"
   ]
  },
  {
   "cell_type": "code",
   "execution_count": 104,
   "id": "32632a35-2038-44f1-ab40-3904cead319e",
   "metadata": {},
   "outputs": [],
   "source": [
    "df_new['price'] = df_new['price'].str.replace(\".\", \"\")"
   ]
  },
  {
   "cell_type": "code",
   "execution_count": 105,
   "id": "1df80bf2-6efa-41b0-b8ae-4613d74209af",
   "metadata": {},
   "outputs": [
    {
     "data": {
      "text/plain": [
       "307"
      ]
     },
     "execution_count": 105,
     "metadata": {},
     "output_type": "execute_result"
    }
   ],
   "source": [
    "df_new['price'].isna().sum()"
   ]
  },
  {
   "cell_type": "code",
   "execution_count": 106,
   "id": "f1c450b9-ff69-4c3e-8962-7a7873e784ea",
   "metadata": {},
   "outputs": [],
   "source": [
    "df_new = df_new.dropna(subset=['price'])"
   ]
  },
  {
   "cell_type": "code",
   "execution_count": 107,
   "id": "6261349c-12f8-40c4-9fd8-6eb23470754a",
   "metadata": {},
   "outputs": [
    {
     "data": {
      "text/plain": [
       "0"
      ]
     },
     "execution_count": 107,
     "metadata": {},
     "output_type": "execute_result"
    }
   ],
   "source": [
    "df_new['price'].isna().sum()"
   ]
  },
  {
   "cell_type": "code",
   "execution_count": 108,
   "id": "e278233b-b5c0-4788-8dcf-51e918e8650b",
   "metadata": {},
   "outputs": [],
   "source": [
    "df_new['chipset'] = df['Bộ vi xử lý'].str.extract(r'(Intel|AMD|Apple)')"
   ]
  },
  {
   "cell_type": "code",
   "execution_count": 109,
   "id": "5b09ff64-deb4-428a-b78e-13e99e531911",
   "metadata": {},
   "outputs": [
    {
     "data": {
      "text/plain": [
       "chipset\n",
       "Intel    364\n",
       "AMD       41\n",
       "Apple      1\n",
       "Name: count, dtype: int64"
      ]
     },
     "execution_count": 109,
     "metadata": {},
     "output_type": "execute_result"
    }
   ],
   "source": [
    "df_new['chipset'].value_counts()"
   ]
  },
  {
   "cell_type": "code",
   "execution_count": 110,
   "id": "0fc51b31-1245-4f25-bf7d-e8f16a2ad7dd",
   "metadata": {},
   "outputs": [],
   "source": [
    "for i in range(len(df['Bộ nhớ trong'])):\n",
    "    if type(df['Bộ nhớ trong'][i]) == str:\n",
    "        continue\n",
    "    else:\n",
    "        df.loc[i, 'Bộ nhớ trong'] = df.iloc[i, 99]"
   ]
  },
  {
   "cell_type": "code",
   "execution_count": 111,
   "id": "9d713a46-f1cf-45a1-b9d1-cfb0f9e8eab5",
   "metadata": {},
   "outputs": [],
   "source": [
    "for i in range(len(df['Bộ nhớ trong'])):\n",
    "    if type(df['Bộ nhớ trong'][i]) == str:\n",
    "        continue\n",
    "    else:\n",
    "        df.loc[i, 'Bộ nhớ trong'] = df.iloc[i, 52]"
   ]
  },
  {
   "cell_type": "code",
   "execution_count": 112,
   "id": "b4a29ad3-78af-419d-b167-9716157f6984",
   "metadata": {},
   "outputs": [],
   "source": [
    "for i in range(len(df['Bộ nhớ trong'])):\n",
    "    if type(df['Bộ nhớ trong'][i]) == str:\n",
    "        continue\n",
    "    else:\n",
    "        df.loc[i, 'Bộ nhớ trong'] = df.iloc[i, 65]"
   ]
  },
  {
   "cell_type": "code",
   "execution_count": 113,
   "id": "63ca3cd5-73e1-47af-833c-8e241fd6de87",
   "metadata": {},
   "outputs": [],
   "source": [
    "df_new['ram'] = df[\"Bộ nhớ trong\"].str.extract(r'(\\d*.GB|\\d*.G)')\n",
    "df_new['ram'] = df_new['ram'].str.replace(' ', '')\n",
    "df_new['ram'] = df_new['ram'].str.replace('G', 'GB')\n",
    "df_new['ram'] = df_new['ram'].str.replace('GBB', 'GB')\n",
    "df_new['ram'] = df_new['ram'].str.replace('GB', '')"
   ]
  },
  {
   "cell_type": "code",
   "execution_count": 114,
   "id": "29994f07-fee5-4d92-8fcc-40af0547c9ef",
   "metadata": {},
   "outputs": [],
   "source": [
    "for i in range(len(df['Dung lượng tối đa'])):\n",
    "    if type(df['Dung lượng tối đa'][i]) == str:\n",
    "        continue\n",
    "    else:\n",
    "        df.loc[i, 'Dung lượng tối đa'] = df.iloc[i, 54]"
   ]
  },
  {
   "cell_type": "code",
   "execution_count": 115,
   "id": "f7a7fbb5-d45d-4c24-90f6-688ba4e32dac",
   "metadata": {},
   "outputs": [],
   "source": [
    "for i in range(len(df['Dung lượng tối đa'])):\n",
    "    if type(df['Dung lượng tối đa'][i]) == str:\n",
    "        continue\n",
    "    else:\n",
    "        df.loc[i, 'Dung lượng tối đa'] = df.iloc[i, 102]"
   ]
  },
  {
   "cell_type": "code",
   "execution_count": 116,
   "id": "5af55456-5a9a-413a-a9d3-3ac69d8e7e4a",
   "metadata": {},
   "outputs": [],
   "source": [
    "for i in range(len(df['Dung lượng tối đa'])):\n",
    "    if type(df['Dung lượng tối đa'][i]) == str:\n",
    "        continue\n",
    "    else:\n",
    "        df.loc[i, 'Dung lượng tối đa'] = df.iloc[i, 67]"
   ]
  },
  {
   "cell_type": "code",
   "execution_count": 117,
   "id": "f29c0d8c-2ff2-44f7-83e3-56abf6bb450e",
   "metadata": {},
   "outputs": [
    {
     "data": {
      "text/plain": [
       "Audio \n",
       "•DTS® Audio, featuring optimized bass response and micro-speaker distortion prevention     1\n",
       "High Definition (HD) Audio, Realtek ALC3287 codec                                          1\n",
       "Realtek High Definition Audio (Audio by B&O)                                               1\n",
       "2x 2 Watt Speaker, Dual-Array Microphone, DTS:X® Ultra                                     1\n",
       "AI noise-canceling technology                                                              1\n",
       "High Definition (HD) Audio, Realtek® ALC3287 codec                                         1\n",
       "Name: count, dtype: int64"
      ]
     },
     "execution_count": 117,
     "metadata": {},
     "output_type": "execute_result"
    }
   ],
   "source": [
    "df.iloc[:, 67].value_counts()"
   ]
  },
  {
   "cell_type": "code",
   "execution_count": 118,
   "id": "fab0d8ee-023f-4fa1-8884-a62b64ff9d3b",
   "metadata": {},
   "outputs": [],
   "source": [
    "df_new['ram_max'] = df['Dung lượng tối đa'].str.extract(r'(\\d+)GB*')"
   ]
  },
  {
   "cell_type": "code",
   "execution_count": 119,
   "id": "7cfaa03a-f4b8-48fb-bbef-ffab3a2656f0",
   "metadata": {},
   "outputs": [
    {
     "data": {
      "text/plain": [
       "'40'"
      ]
     },
     "execution_count": 119,
     "metadata": {},
     "output_type": "execute_result"
    }
   ],
   "source": [
    "df_new['ram_max'][71]"
   ]
  },
  {
   "cell_type": "code",
   "execution_count": 120,
   "id": "64a72311-85dd-45fa-84b7-fd35e5b0e172",
   "metadata": {},
   "outputs": [],
   "source": [
    "for i in range(len(df['Ổ cứng'])):\n",
    "    if type(df['Ổ cứng'][i]) == str:\n",
    "        continue\n",
    "    else:\n",
    "        df.loc[i, 'Ổ cứng'] = df.iloc[i, 69]"
   ]
  },
  {
   "cell_type": "code",
   "execution_count": 121,
   "id": "46e9ae87-0c5f-4975-98a7-91a3a0165279",
   "metadata": {},
   "outputs": [],
   "source": [
    "for i in range(len(df['Ổ cứng'])):\n",
    "    if type(df['Ổ cứng'][i]) == str:\n",
    "        continue\n",
    "    else:\n",
    "        df.loc[i, 'Ổ cứng'] = df.iloc[i, 103]"
   ]
  },
  {
   "cell_type": "code",
   "execution_count": 122,
   "id": "7ea10a9c-64ef-4f33-9ded-c5adc06a91f7",
   "metadata": {},
   "outputs": [
    {
     "data": {
      "text/plain": [
       "Mầu sắc \n",
       "Đen       1\n",
       "Vàng     1\n",
       "Đen       1\n",
       "          1\n",
       "xám       1\n",
       "Name: count, dtype: int64"
      ]
     },
     "execution_count": 122,
     "metadata": {},
     "output_type": "execute_result"
    }
   ],
   "source": [
    "df.iloc[:, 83].value_counts()"
   ]
  },
  {
   "cell_type": "code",
   "execution_count": 123,
   "id": "344fa2bc-7201-43ec-aed5-09453d6d7b56",
   "metadata": {},
   "outputs": [],
   "source": [
    "df_new['storage_type'] = df['Ổ cứng'].str.extract(r'(SSD|HDD)')"
   ]
  },
  {
   "cell_type": "code",
   "execution_count": 124,
   "id": "30b7ece2-18d7-4fa0-8e8f-71e51cdbc3ba",
   "metadata": {},
   "outputs": [],
   "source": [
    "size_info = df['Ổ cứng'].str.extract(r'(\\d+)TB|(\\d+)GB')"
   ]
  },
  {
   "cell_type": "code",
   "execution_count": 125,
   "id": "1b2ba8f2-52e7-4e41-a980-8eb1e5c897fe",
   "metadata": {},
   "outputs": [],
   "source": [
    "df_new['storage'] = size_info.apply(lambda row: int(row[0]) * 1024 if pd.notna(row[0]) else (int(row[1]) if pd.notna(row[1]) else 512), axis=1)"
   ]
  },
  {
   "cell_type": "code",
   "execution_count": 126,
   "id": "972d8f08-84a3-4934-9e35-189efb5094d6",
   "metadata": {},
   "outputs": [],
   "source": [
    "for i in range(len(df['Hệ điều hành'])):\n",
    "    if type(df['Hệ điều hành'][i]) == str:\n",
    "        continue\n",
    "    else:\n",
    "        df.loc[i, 'Hệ điều hành'] = df.iloc[i, 83]"
   ]
  },
  {
   "cell_type": "code",
   "execution_count": 127,
   "id": "ee73c931-b3a5-4fbe-befb-6c6c90e5662c",
   "metadata": {},
   "outputs": [],
   "source": [
    "df_new['os'] = df[\"Hệ điều hành\"].str.extract(r'(Window.\\d\\d|Window. \\d\\d|Win \\d\\d|Dos|Ubuntu|Mac OS|No OS|Fedora)')"
   ]
  },
  {
   "cell_type": "code",
   "execution_count": 128,
   "id": "1df5ed66-b875-41e6-87d2-55aa20abeefc",
   "metadata": {},
   "outputs": [
    {
     "data": {
      "text/plain": [
       "os\n",
       "Windows 11    138\n",
       "Win 11        118\n",
       "Windows11      32\n",
       "Dos            26\n",
       "Ubuntu         19\n",
       "Windows 10     13\n",
       "Fedora         10\n",
       "Window 11       9\n",
       "No OS           8\n",
       "Win 10          6\n",
       "Windows10       2\n",
       "Mac OS          1\n",
       "Name: count, dtype: int64"
      ]
     },
     "execution_count": 128,
     "metadata": {},
     "output_type": "execute_result"
    }
   ],
   "source": [
    "df_new['os'].value_counts()"
   ]
  },
  {
   "cell_type": "code",
   "execution_count": 129,
   "id": "46d2a63f-20f3-423c-b63a-0bf2bd960b9c",
   "metadata": {},
   "outputs": [],
   "source": [
    "df_new.loc[df_new['os'].isin(['Windows 11', 'Win 11', 'Windows11', 'Window 11']), 'os'] = 'Windows 11'\n",
    "df_new.loc[df_new['os'].isin(['Windows10', 'Win 10']), 'os'] = 'Windows 10'"
   ]
  },
  {
   "cell_type": "code",
   "execution_count": 130,
   "id": "de326884-7de9-49ca-b88a-7248797c7c6c",
   "metadata": {},
   "outputs": [
    {
     "data": {
      "text/plain": [
       "os\n",
       "Windows 11    297\n",
       "Dos            26\n",
       "Windows 10     21\n",
       "Ubuntu         19\n",
       "Fedora         10\n",
       "No OS           8\n",
       "Mac OS          1\n",
       "Name: count, dtype: int64"
      ]
     },
     "execution_count": 130,
     "metadata": {},
     "output_type": "execute_result"
    }
   ],
   "source": [
    "df_new['os'].value_counts()"
   ]
  },
  {
   "cell_type": "code",
   "execution_count": 131,
   "id": "18df776f-23b1-4cce-96f9-ce3b413e9fcb",
   "metadata": {},
   "outputs": [],
   "source": [
    "def get_battery_capacity(string):\n",
    "    # Check if the input string is None\n",
    "    if not isinstance(string, str):\n",
    "        return None\n",
    "    \n",
    "    # Regular expression to match battery capacity\n",
    "    pattern = r'(\\d+(\\.\\d+)?)\\s*Wh?'\n",
    "    \n",
    "    # Search for the pattern in the string\n",
    "    match = re.search(pattern, string)\n",
    "    \n",
    "    if match:\n",
    "        # Extract the matched capacity\n",
    "        capacity = float(match.group(1))\n",
    "        return capacity\n",
    "    else:\n",
    "        return None"
   ]
  },
  {
   "cell_type": "code",
   "execution_count": 132,
   "id": "603136a2-20ee-4b24-80ba-4735c3fd936b",
   "metadata": {},
   "outputs": [],
   "source": [
    "df_new['battery'] = df['Pin']\n",
    "df_new['battery'] = df_new['battery'].apply(get_battery_capacity)"
   ]
  },
  {
   "cell_type": "code",
   "execution_count": 133,
   "id": "f0d2f465-98fe-4f0f-8f38-5a83d668c8be",
   "metadata": {},
   "outputs": [],
   "source": [
    "df_new['screen_size'] = df['Màn hình'].str.extract(r'(\\d*\\.*\\d+-inch|\\d*\\.*\\d+ *inch|\\d*\\.*\\d+-Inch|\\d*\\.*\\d+ *Inch|\\d*\\.*\\d+\")')\n",
    "df_new['screen_revolution'] = df['Màn hình'].str.extract(r'(FHD|2.5K|4K|WUXGA|QHD|Full HD)')\n",
    "df_new['screen_pixels'] = df['Màn hình'].str.extract(r'(\\d+ *x *\\d+|\\d+ *\\* *\\d+|\\d+ *X *\\d+)')\n",
    "\n",
    "df_new['screen_size'] = df_new['screen_size'].str.replace('-inch', '')\n",
    "df_new['screen_size'] = df_new['screen_size'].str.replace('inch', '')\n",
    "df_new['screen_size'] = df_new['screen_size'].str.replace('Inch', '')\n",
    "df_new['screen_size'] = df_new['screen_size'].str.replace('\"', '')\n",
    "df_new['screen_size'] = df_new['screen_size'].str.replace(' ', '')\n",
    "df_new['screen_revolution'] = df_new['screen_revolution'].str.replace('Full HD', 'FHD')\n",
    "df_new['screen_pixels'] = df_new['screen_pixels'].str.replace(' ', '')\n",
    "df_new['screen_pixels'] = df_new['screen_pixels'].str.replace('*', 'x')\n",
    "df_new['screen_pixels'] = df_new['screen_pixels'].str.replace('X', 'x')"
   ]
  },
  {
   "cell_type": "code",
   "execution_count": 134,
   "id": "b369ae18-21b7-49f9-811d-8b6b40b0e9c9",
   "metadata": {},
   "outputs": [],
   "source": [
    "df_new[['screen_width', 'screen_height']] = df_new['screen_pixels'].str.extract(r'(\\d+)\\s*[xX×]\\s*(\\d+)')"
   ]
  },
  {
   "cell_type": "code",
   "execution_count": 135,
   "id": "d9513717-18f9-408a-9c77-8e924feda821",
   "metadata": {},
   "outputs": [],
   "source": [
    "df_new['weight'] = df['Cân nặng'].str.extract(r'(\\d*\\.*\\d* *kg|\\d*\\.*\\d* *Kg)')\n",
    "df_new['weight'] = df_new['weight'].str.replace(\"Kg\", '')\n",
    "df_new['weight'] = df_new['weight'].str.replace(\"kg\", '')"
   ]
  },
  {
   "cell_type": "code",
   "execution_count": 136,
   "id": "9ed3f36c-7c0f-4eee-87ea-9ca202e0fe21",
   "metadata": {},
   "outputs": [],
   "source": [
    "df_new.loc[df_new['weight'] == 72, 'weight'] = 1.72"
   ]
  },
  {
   "cell_type": "code",
   "execution_count": 137,
   "id": "700b73ab-710c-4294-a4f4-86eba8970037",
   "metadata": {},
   "outputs": [],
   "source": [
    "df_new['webcam'] = df['Webcam'].notnull().astype(int)"
   ]
  },
  {
   "cell_type": "code",
   "execution_count": 138,
   "id": "cb8588dc-b13e-4a28-a2d0-86643ff32ee7",
   "metadata": {},
   "outputs": [],
   "source": [
    "df_new['chipset_gen'] = df['Bộ vi xử lý'].str.extract(r'(I\\d.\\w+|i\\d.\\w+|AMD.* *\\d* *\\w*|Apple \\w*)')"
   ]
  },
  {
   "cell_type": "code",
   "execution_count": 139,
   "id": "513bd510-e0ea-45e8-b5f4-12f9aa76b223",
   "metadata": {},
   "outputs": [
    {
     "data": {
      "text/plain": [
       "0                                                    NaN\n",
       "3                                              i7-13700H\n",
       "4                                               i7-1360P\n",
       "5                                               i5 1335U\n",
       "6                                              i7-13700H\n",
       "                             ...                        \n",
       "881                                                  NaN\n",
       "882                                                  NaN\n",
       "884                                                  NaN\n",
       "886                                            i7-13620H\n",
       "887    AMD Ryzen™ 5 7535HS/H Mobile Processor (6-core...\n",
       "Name: chipset_gen, Length: 581, dtype: object"
      ]
     },
     "execution_count": 139,
     "metadata": {},
     "output_type": "execute_result"
    }
   ],
   "source": [
    "df_new['chipset_gen']"
   ]
  },
  {
   "cell_type": "code",
   "execution_count": 140,
   "id": "7d8a0efd-5543-4715-837d-a51c1fb11846",
   "metadata": {},
   "outputs": [],
   "source": [
    "amd_df = df_new.loc[df_new['chipset'] == 'AMD']"
   ]
  },
  {
   "cell_type": "code",
   "execution_count": 141,
   "id": "4523b507-6c61-47db-a56b-1dd815980d8c",
   "metadata": {},
   "outputs": [],
   "source": [
    "amd_df.loc[:, 'chipset_gen'] = amd_df['chipset_gen'].str.extract(r'(\\d+)', expand=False)"
   ]
  },
  {
   "cell_type": "code",
   "execution_count": 142,
   "id": "c3f26e9f-d9a7-427e-a427-d37c22e2aea9",
   "metadata": {},
   "outputs": [],
   "source": [
    "amd_df.loc[:, 'chipset_gen'] = 'Ryzen ' + amd_df['chipset_gen']"
   ]
  },
  {
   "cell_type": "code",
   "execution_count": 143,
   "id": "516213dc-2691-4624-8c3e-96b2e200e924",
   "metadata": {},
   "outputs": [],
   "source": [
    "intel_df = df_new.loc[df_new['chipset'] == 'Intel']"
   ]
  },
  {
   "cell_type": "code",
   "execution_count": 144,
   "id": "79632b09-2f7f-47a8-a72c-aed8238df553",
   "metadata": {},
   "outputs": [],
   "source": [
    "intel_df.loc[:, 'chipset_gen'] = intel_df.loc[:, 'chipset_gen'].str.extract(r'(i[3579]|Ultra [3579])', expand=False)"
   ]
  },
  {
   "cell_type": "code",
   "execution_count": 145,
   "id": "3c98957f-7567-40ad-9a27-092df8b6838f",
   "metadata": {},
   "outputs": [],
   "source": [
    "apple_df = df_new.loc[df_new['chipset'] == 'Apple']"
   ]
  },
  {
   "cell_type": "code",
   "execution_count": 146,
   "id": "23b6f7b6-e685-4428-ae45-c044128e26b6",
   "metadata": {},
   "outputs": [
    {
     "name": "stderr",
     "output_type": "stream",
     "text": [
      "C:\\Users\\Dell\\AppData\\Local\\Temp\\ipykernel_21236\\973127077.py:1: SettingWithCopyWarning: \n",
      "A value is trying to be set on a copy of a slice from a DataFrame.\n",
      "Try using .loc[row_indexer,col_indexer] = value instead\n",
      "\n",
      "See the caveats in the documentation: https://pandas.pydata.org/pandas-docs/stable/user_guide/indexing.html#returning-a-view-versus-a-copy\n",
      "  apple_df['chipset_gen'] = apple_df['chipset_gen'].str.extract(r'(M[123])', expand=False)\n"
     ]
    }
   ],
   "source": [
    "apple_df['chipset_gen'] = apple_df['chipset_gen'].str.extract(r'(M[123])', expand=False)"
   ]
  },
  {
   "cell_type": "code",
   "execution_count": 147,
   "id": "b3571fdf-9496-4215-9645-54f90bb85cbf",
   "metadata": {},
   "outputs": [],
   "source": [
    "df_new = pd.concat([amd_df, intel_df, apple_df], ignore_index=True)"
   ]
  },
  {
   "cell_type": "code",
   "execution_count": 148,
   "id": "d10d1b25-5ad2-486b-b034-d53366a7afa0",
   "metadata": {},
   "outputs": [],
   "source": [
    "mode_values = df_new.mode().iloc[0]\n",
    "df_new.fillna(mode_values, inplace=True)"
   ]
  },
  {
   "cell_type": "code",
   "execution_count": 149,
   "id": "ef6f653e-69d9-43ba-813b-6530db280567",
   "metadata": {},
   "outputs": [],
   "source": [
    "df_new.to_csv(\"hacom.csv\", encoding=\"utf-8-sig\")"
   ]
  },
  {
   "cell_type": "code",
   "execution_count": null,
   "id": "f07310d8-aefa-4099-b6ed-178cfa1525e1",
   "metadata": {},
   "outputs": [],
   "source": []
  }
 ],
 "metadata": {
  "kernelspec": {
   "display_name": "Python 3 (ipykernel)",
   "language": "python",
   "name": "python3"
  },
  "language_info": {
   "codemirror_mode": {
    "name": "ipython",
    "version": 3
   },
   "file_extension": ".py",
   "mimetype": "text/x-python",
   "name": "python",
   "nbconvert_exporter": "python",
   "pygments_lexer": "ipython3",
   "version": "3.11.0"
  }
 },
 "nbformat": 4,
 "nbformat_minor": 5
}
