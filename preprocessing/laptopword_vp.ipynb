{
 "cells": [
  {
   "cell_type": "code",
   "execution_count": 68,
   "id": "519111fe-3bdb-4813-adea-f78a5a280ffb",
   "metadata": {},
   "outputs": [],
   "source": [
    "import numpy as np\n",
    "import pandas as pd\n",
    "from matplotlib import pyplot as plt\n",
    "import plotly.express as px\n",
    "import seaborn as sns\n",
    "import re"
   ]
  },
  {
   "cell_type": "code",
   "execution_count": 69,
   "id": "e1e67afe-444c-4287-beff-51692027868a",
   "metadata": {},
   "outputs": [],
   "source": [
    "df = pd.read_json(\"laptopworld_vp.json\")"
   ]
  },
  {
   "cell_type": "code",
   "execution_count": 70,
   "id": "d220d365-56d0-4f97-b69d-45ba7b3db3ae",
   "metadata": {},
   "outputs": [
    {
     "data": {
      "text/html": [
       "<div>\n",
       "<style scoped>\n",
       "    .dataframe tbody tr th:only-of-type {\n",
       "        vertical-align: middle;\n",
       "    }\n",
       "\n",
       "    .dataframe tbody tr th {\n",
       "        vertical-align: top;\n",
       "    }\n",
       "\n",
       "    .dataframe thead th {\n",
       "        text-align: right;\n",
       "    }\n",
       "</style>\n",
       "<table border=\"1\" class=\"dataframe\">\n",
       "  <thead>\n",
       "    <tr style=\"text-align: right;\">\n",
       "      <th></th>\n",
       "      <th>Hệ điều hành - Operation System</th>\n",
       "      <th>Bộ xử lý - CPU</th>\n",
       "      <th>Bo mạch chủ - Mainboard</th>\n",
       "      <th>Màn hình - Monitor</th>\n",
       "      <th>Bộ nhớ trong - Ram</th>\n",
       "      <th>Ổ đĩa cứng - HDD</th>\n",
       "      <th>Ổ đĩa quang - CD/DVD</th>\n",
       "      <th>Card đồ hoạ - Video</th>\n",
       "      <th>Card Âm thanh - Audio</th>\n",
       "      <th>Đọc thẻ - Card reader</th>\n",
       "      <th>...</th>\n",
       "      <th>ệ điều hành - Operation System</th>\n",
       "      <th>Ổ đĩa cứng</th>\n",
       "      <th>Loại sản phẩm</th>\n",
       "      <th>Chất liệu sản phẩm</th>\n",
       "      <th>Nội dung gói</th>\n",
       "      <th>Chiều dài</th>\n",
       "      <th>Độ dày</th>\n",
       "      <th>Dự định cho</th>\n",
       "      <th>Loại khóa</th>\n",
       "      <th>Đặc trưng</th>\n",
       "    </tr>\n",
       "  </thead>\n",
       "  <tbody>\n",
       "    <tr>\n",
       "      <th>0</th>\n",
       "      <td>Windows 11 Home bản quyền</td>\n",
       "      <td>Intel® Core™ Ultra 5 125H (3.60GHz up to 4.50G...</td>\n",
       "      <td>--</td>\n",
       "      <td>14.0inch 3K (2880 x 1800) Lumina OLED 16:10, 0...</td>\n",
       "      <td>16GB LPDDR5X 7467MHz on board</td>\n",
       "      <td>512GB M.2 NVMe™ PCIe® 4.0 SSD</td>\n",
       "      <td>--</td>\n",
       "      <td>Intel® Arc™ Graphics</td>\n",
       "      <td>--</td>\n",
       "      <td>--</td>\n",
       "      <td>...</td>\n",
       "      <td>NaN</td>\n",
       "      <td>NaN</td>\n",
       "      <td>NaN</td>\n",
       "      <td>NaN</td>\n",
       "      <td>NaN</td>\n",
       "      <td>NaN</td>\n",
       "      <td>NaN</td>\n",
       "      <td>NaN</td>\n",
       "      <td>NaN</td>\n",
       "      <td>NaN</td>\n",
       "    </tr>\n",
       "    <tr>\n",
       "      <th>1</th>\n",
       "      <td>Windows 11 Home</td>\n",
       "      <td>Intel® Core ™ Ultra 5 125H (1.20GHz up to 4.50...</td>\n",
       "      <td>--</td>\n",
       "      <td>14.0inch WUXGA (1920 x 1200) 16:10, OLED, 500 ...</td>\n",
       "      <td>8GB LPDDR5 on board</td>\n",
       "      <td>512GB M.2 PCIe Gen 4 NVMe SSD</td>\n",
       "      <td>--</td>\n",
       "      <td>Intel® Arc™ graphics</td>\n",
       "      <td>--</td>\n",
       "      <td>--</td>\n",
       "      <td>...</td>\n",
       "      <td>NaN</td>\n",
       "      <td>NaN</td>\n",
       "      <td>NaN</td>\n",
       "      <td>NaN</td>\n",
       "      <td>NaN</td>\n",
       "      <td>NaN</td>\n",
       "      <td>NaN</td>\n",
       "      <td>NaN</td>\n",
       "      <td>NaN</td>\n",
       "      <td>NaN</td>\n",
       "    </tr>\n",
       "    <tr>\n",
       "      <th>2</th>\n",
       "      <td>Windows 11 Home bản quyền</td>\n",
       "      <td>Intel® Core™ i5-120U (1.40GHz up to 5.00GHz, 1...</td>\n",
       "      <td>--</td>\n",
       "      <td>15.6 inch FHD (1920x1080) IPS, 300nits, 60Hz, ...</td>\n",
       "      <td>16GB LPDDR5 4800MHz (không nâng cấp được)</td>\n",
       "      <td>512GB PCIe NVMe Gen 4 SSD</td>\n",
       "      <td>--</td>\n",
       "      <td>Intel® UHD Graphics</td>\n",
       "      <td>--</td>\n",
       "      <td>--</td>\n",
       "      <td>...</td>\n",
       "      <td>NaN</td>\n",
       "      <td>NaN</td>\n",
       "      <td>NaN</td>\n",
       "      <td>NaN</td>\n",
       "      <td>NaN</td>\n",
       "      <td>NaN</td>\n",
       "      <td>NaN</td>\n",
       "      <td>NaN</td>\n",
       "      <td>NaN</td>\n",
       "      <td>NaN</td>\n",
       "    </tr>\n",
       "    <tr>\n",
       "      <th>3</th>\n",
       "      <td>Windows 11 Home bản quyền</td>\n",
       "      <td>Intel Core Ultra 7 155H (1.40GHz up to 4.80Ghz...</td>\n",
       "      <td>--</td>\n",
       "      <td>14inch 2.8K (2880 x 1800) IPS, 400nits, 100% sRGB</td>\n",
       "      <td>16GB LPDDR5X 6400MHz (không nâng cấp được)</td>\n",
       "      <td>NaN</td>\n",
       "      <td>NaN</td>\n",
       "      <td>Intel Arc Graphics</td>\n",
       "      <td>--</td>\n",
       "      <td>1 x microSD™ Card reader</td>\n",
       "      <td>...</td>\n",
       "      <td>NaN</td>\n",
       "      <td>NaN</td>\n",
       "      <td>NaN</td>\n",
       "      <td>NaN</td>\n",
       "      <td>NaN</td>\n",
       "      <td>NaN</td>\n",
       "      <td>NaN</td>\n",
       "      <td>NaN</td>\n",
       "      <td>NaN</td>\n",
       "      <td>NaN</td>\n",
       "    </tr>\n",
       "    <tr>\n",
       "      <th>4</th>\n",
       "      <td>Windows 11 Home</td>\n",
       "      <td>Intel® Core™ Ultra 7 155H (1.40GHz up to 4.80G...</td>\n",
       "      <td>--</td>\n",
       "      <td>14.0inch WUXGA (1920 x 1200) 16:10, OLED, 500 ...</td>\n",
       "      <td>16GB LPDDR5X</td>\n",
       "      <td>1TB M.2 PCIe Gen 4 NVMe SSD</td>\n",
       "      <td>--</td>\n",
       "      <td>Intel® Arc™ graphics</td>\n",
       "      <td>--</td>\n",
       "      <td>--</td>\n",
       "      <td>...</td>\n",
       "      <td>NaN</td>\n",
       "      <td>NaN</td>\n",
       "      <td>NaN</td>\n",
       "      <td>NaN</td>\n",
       "      <td>NaN</td>\n",
       "      <td>NaN</td>\n",
       "      <td>NaN</td>\n",
       "      <td>NaN</td>\n",
       "      <td>NaN</td>\n",
       "      <td>NaN</td>\n",
       "    </tr>\n",
       "    <tr>\n",
       "      <th>...</th>\n",
       "      <td>...</td>\n",
       "      <td>...</td>\n",
       "      <td>...</td>\n",
       "      <td>...</td>\n",
       "      <td>...</td>\n",
       "      <td>...</td>\n",
       "      <td>...</td>\n",
       "      <td>...</td>\n",
       "      <td>...</td>\n",
       "      <td>...</td>\n",
       "      <td>...</td>\n",
       "      <td>...</td>\n",
       "      <td>...</td>\n",
       "      <td>...</td>\n",
       "      <td>...</td>\n",
       "      <td>...</td>\n",
       "      <td>...</td>\n",
       "      <td>...</td>\n",
       "      <td>...</td>\n",
       "      <td>...</td>\n",
       "      <td>...</td>\n",
       "    </tr>\n",
       "    <tr>\n",
       "      <th>494</th>\n",
       "      <td>Windows 11 Home bản quyền</td>\n",
       "      <td>Intel® Core™ i5-13500H (2.60Hz up to 4.7GHz, 1...</td>\n",
       "      <td>--</td>\n",
       "      <td>14inch 2.8K (2880 x 1800) OLED 16:10, 0.2ms, 9...</td>\n",
       "      <td>16GB (8GB DDR4 on board + 8GB DDR4 SO-DIMM) 32...</td>\n",
       "      <td>512GB M.2 NVMe™ PCIe® 3.0 SSD</td>\n",
       "      <td>--</td>\n",
       "      <td>Intel Iris Xᵉ Graphics</td>\n",
       "      <td>--</td>\n",
       "      <td>--</td>\n",
       "      <td>...</td>\n",
       "      <td>NaN</td>\n",
       "      <td>NaN</td>\n",
       "      <td>NaN</td>\n",
       "      <td>NaN</td>\n",
       "      <td>NaN</td>\n",
       "      <td>NaN</td>\n",
       "      <td>NaN</td>\n",
       "      <td>NaN</td>\n",
       "      <td>NaN</td>\n",
       "      <td>NaN</td>\n",
       "    </tr>\n",
       "    <tr>\n",
       "      <th>495</th>\n",
       "      <td>Windows® 11 Home Single Language bản quyền</td>\n",
       "      <td>NaN</td>\n",
       "      <td>--</td>\n",
       "      <td>15.6 inch FHD (1920x1080) IPS 300nits Anti-glare</td>\n",
       "      <td>16GB Soldered LPDDR5-4800MHz (not upgradable)</td>\n",
       "      <td>1TB SSD M.2 2242 PCIe® 4.0x4 NVMe®</td>\n",
       "      <td>--</td>\n",
       "      <td>Intel® UHD Graphics</td>\n",
       "      <td>--</td>\n",
       "      <td>1 x Card reader</td>\n",
       "      <td>...</td>\n",
       "      <td>NaN</td>\n",
       "      <td>NaN</td>\n",
       "      <td>NaN</td>\n",
       "      <td>NaN</td>\n",
       "      <td>NaN</td>\n",
       "      <td>NaN</td>\n",
       "      <td>NaN</td>\n",
       "      <td>NaN</td>\n",
       "      <td>NaN</td>\n",
       "      <td>NaN</td>\n",
       "    </tr>\n",
       "    <tr>\n",
       "      <th>496</th>\n",
       "      <td>Windows® 11 Home bản quyền</td>\n",
       "      <td>NaN</td>\n",
       "      <td>--</td>\n",
       "      <td>15.6 inch FHD (1920 x 1080) IPS-Level</td>\n",
       "      <td>16GB DDR4-3200MHz</td>\n",
       "      <td>512GB NVMe PCIe Gen3 SSD</td>\n",
       "      <td>--</td>\n",
       "      <td>AMD Radeon™ Graphics</td>\n",
       "      <td>--</td>\n",
       "      <td>1 x Micro SD Card Reader</td>\n",
       "      <td>...</td>\n",
       "      <td>NaN</td>\n",
       "      <td>NaN</td>\n",
       "      <td>NaN</td>\n",
       "      <td>NaN</td>\n",
       "      <td>NaN</td>\n",
       "      <td>NaN</td>\n",
       "      <td>NaN</td>\n",
       "      <td>NaN</td>\n",
       "      <td>NaN</td>\n",
       "      <td>NaN</td>\n",
       "    </tr>\n",
       "    <tr>\n",
       "      <th>497</th>\n",
       "      <td>Windows 11 Pro bản quyền</td>\n",
       "      <td>Intel® Core™ Ultra 7 155H (1.40GHz up to 4.80G...</td>\n",
       "      <td>--</td>\n",
       "      <td>14.0inch WUXGA (1920x1200) IPS, 400nits, Anti-...</td>\n",
       "      <td>32GB LPDDR5x 7500MHz</td>\n",
       "      <td>512GB SSD M.2 2280 PCIe® 4.0x4 Performance NVM...</td>\n",
       "      <td>--</td>\n",
       "      <td>Intel® Graphics</td>\n",
       "      <td>--</td>\n",
       "      <td>--</td>\n",
       "      <td>...</td>\n",
       "      <td>NaN</td>\n",
       "      <td>NaN</td>\n",
       "      <td>NaN</td>\n",
       "      <td>NaN</td>\n",
       "      <td>NaN</td>\n",
       "      <td>NaN</td>\n",
       "      <td>NaN</td>\n",
       "      <td>NaN</td>\n",
       "      <td>NaN</td>\n",
       "      <td>NaN</td>\n",
       "    </tr>\n",
       "    <tr>\n",
       "      <th>498</th>\n",
       "      <td>Windows 11 Home + Office Home and Student 2021...</td>\n",
       "      <td>NaN</td>\n",
       "      <td>--</td>\n",
       "      <td>15.6 inch FHD (1920x1080) WVA Anti-Glare 250nits</td>\n",
       "      <td>8GB DDR4 2666MHz</td>\n",
       "      <td>256GB M.2 PCIe SSD</td>\n",
       "      <td>--</td>\n",
       "      <td>Intel UHD Graphics</td>\n",
       "      <td>--</td>\n",
       "      <td>1 x SD card slot</td>\n",
       "      <td>...</td>\n",
       "      <td>NaN</td>\n",
       "      <td>NaN</td>\n",
       "      <td>NaN</td>\n",
       "      <td>NaN</td>\n",
       "      <td>NaN</td>\n",
       "      <td>NaN</td>\n",
       "      <td>NaN</td>\n",
       "      <td>NaN</td>\n",
       "      <td>NaN</td>\n",
       "      <td>NaN</td>\n",
       "    </tr>\n",
       "  </tbody>\n",
       "</table>\n",
       "<p>499 rows × 56 columns</p>\n",
       "</div>"
      ],
      "text/plain": [
       "                       Hệ điều hành - Operation System  \\\n",
       "0                            Windows 11 Home bản quyền   \n",
       "1                                      Windows 11 Home   \n",
       "2                            Windows 11 Home bản quyền   \n",
       "3                            Windows 11 Home bản quyền   \n",
       "4                                      Windows 11 Home   \n",
       "..                                                 ...   \n",
       "494                          Windows 11 Home bản quyền   \n",
       "495         Windows® 11 Home Single Language bản quyền   \n",
       "496                         Windows® 11 Home bản quyền   \n",
       "497                           Windows 11 Pro bản quyền   \n",
       "498  Windows 11 Home + Office Home and Student 2021...   \n",
       "\n",
       "                                        Bộ xử lý - CPU  \\\n",
       "0    Intel® Core™ Ultra 5 125H (3.60GHz up to 4.50G...   \n",
       "1    Intel® Core ™ Ultra 5 125H (1.20GHz up to 4.50...   \n",
       "2    Intel® Core™ i5-120U (1.40GHz up to 5.00GHz, 1...   \n",
       "3    Intel Core Ultra 7 155H (1.40GHz up to 4.80Ghz...   \n",
       "4    Intel® Core™ Ultra 7 155H (1.40GHz up to 4.80G...   \n",
       "..                                                 ...   \n",
       "494  Intel® Core™ i5-13500H (2.60Hz up to 4.7GHz, 1...   \n",
       "495                                                NaN   \n",
       "496                                                NaN   \n",
       "497  Intel® Core™ Ultra 7 155H (1.40GHz up to 4.80G...   \n",
       "498                                                NaN   \n",
       "\n",
       "    Bo mạch chủ - Mainboard  \\\n",
       "0                        --   \n",
       "1                        --   \n",
       "2                        --   \n",
       "3                        --   \n",
       "4                        --   \n",
       "..                      ...   \n",
       "494                      --   \n",
       "495                      --   \n",
       "496                      --   \n",
       "497                      --   \n",
       "498                      --   \n",
       "\n",
       "                                    Màn hình - Monitor  \\\n",
       "0    14.0inch 3K (2880 x 1800) Lumina OLED 16:10, 0...   \n",
       "1    14.0inch WUXGA (1920 x 1200) 16:10, OLED, 500 ...   \n",
       "2    15.6 inch FHD (1920x1080) IPS, 300nits, 60Hz, ...   \n",
       "3    14inch 2.8K (2880 x 1800) IPS, 400nits, 100% sRGB   \n",
       "4    14.0inch WUXGA (1920 x 1200) 16:10, OLED, 500 ...   \n",
       "..                                                 ...   \n",
       "494  14inch 2.8K (2880 x 1800) OLED 16:10, 0.2ms, 9...   \n",
       "495   15.6 inch FHD (1920x1080) IPS 300nits Anti-glare   \n",
       "496              15.6 inch FHD (1920 x 1080) IPS-Level   \n",
       "497  14.0inch WUXGA (1920x1200) IPS, 400nits, Anti-...   \n",
       "498   15.6 inch FHD (1920x1080) WVA Anti-Glare 250nits   \n",
       "\n",
       "                                    Bộ nhớ trong - Ram  \\\n",
       "0                        16GB LPDDR5X 7467MHz on board   \n",
       "1                                  8GB LPDDR5 on board   \n",
       "2            16GB LPDDR5 4800MHz (không nâng cấp được)   \n",
       "3           16GB LPDDR5X 6400MHz (không nâng cấp được)   \n",
       "4                                         16GB LPDDR5X   \n",
       "..                                                 ...   \n",
       "494  16GB (8GB DDR4 on board + 8GB DDR4 SO-DIMM) 32...   \n",
       "495      16GB Soldered LPDDR5-4800MHz (not upgradable)   \n",
       "496                                  16GB DDR4-3200MHz   \n",
       "497                               32GB LPDDR5x 7500MHz   \n",
       "498                                   8GB DDR4 2666MHz   \n",
       "\n",
       "                                      Ổ đĩa cứng - HDD Ổ đĩa quang - CD/DVD  \\\n",
       "0                        512GB M.2 NVMe™ PCIe® 4.0 SSD                   --   \n",
       "1                        512GB M.2 PCIe Gen 4 NVMe SSD                   --   \n",
       "2                            512GB PCIe NVMe Gen 4 SSD                   --   \n",
       "3                                                  NaN                  NaN   \n",
       "4                          1TB M.2 PCIe Gen 4 NVMe SSD                   --   \n",
       "..                                                 ...                  ...   \n",
       "494                      512GB M.2 NVMe™ PCIe® 3.0 SSD                   --   \n",
       "495                 1TB SSD M.2 2242 PCIe® 4.0x4 NVMe®                   --   \n",
       "496                           512GB NVMe PCIe Gen3 SSD                   --   \n",
       "497  512GB SSD M.2 2280 PCIe® 4.0x4 Performance NVM...                   --   \n",
       "498                                 256GB M.2 PCIe SSD                   --   \n",
       "\n",
       "        Card đồ hoạ - Video Card Âm thanh - Audio     Đọc thẻ - Card reader  \\\n",
       "0      Intel® Arc™ Graphics                    --                        --   \n",
       "1      Intel® Arc™ graphics                    --                       --    \n",
       "2       Intel® UHD Graphics                    --                        --   \n",
       "3        Intel Arc Graphics                    --  1 x microSD™ Card reader   \n",
       "4      Intel® Arc™ graphics                    --                       --    \n",
       "..                      ...                   ...                       ...   \n",
       "494  Intel Iris Xᵉ Graphics                    --                       --    \n",
       "495     Intel® UHD Graphics                    --          1 x Card reader    \n",
       "496    AMD Radeon™ Graphics                    --  1 x Micro SD Card Reader   \n",
       "497         Intel® Graphics                    --                        --   \n",
       "498      Intel UHD Graphics                    --          1 x SD card slot   \n",
       "\n",
       "     ... ệ điều hành - Operation System Ổ đĩa cứng  Loại sản phẩm  \\\n",
       "0    ...                            NaN         NaN           NaN   \n",
       "1    ...                            NaN         NaN           NaN   \n",
       "2    ...                            NaN         NaN           NaN   \n",
       "3    ...                            NaN         NaN           NaN   \n",
       "4    ...                            NaN         NaN           NaN   \n",
       "..   ...                            ...         ...           ...   \n",
       "494  ...                            NaN         NaN           NaN   \n",
       "495  ...                            NaN         NaN           NaN   \n",
       "496  ...                            NaN         NaN           NaN   \n",
       "497  ...                            NaN         NaN           NaN   \n",
       "498  ...                            NaN         NaN           NaN   \n",
       "\n",
       "    Chất liệu sản phẩm Nội dung gói Chiều dài Độ dày Dự định cho Loại khóa  \\\n",
       "0                  NaN          NaN       NaN    NaN         NaN       NaN   \n",
       "1                  NaN          NaN       NaN    NaN         NaN       NaN   \n",
       "2                  NaN          NaN       NaN    NaN         NaN       NaN   \n",
       "3                  NaN          NaN       NaN    NaN         NaN       NaN   \n",
       "4                  NaN          NaN       NaN    NaN         NaN       NaN   \n",
       "..                 ...          ...       ...    ...         ...       ...   \n",
       "494                NaN          NaN       NaN    NaN         NaN       NaN   \n",
       "495                NaN          NaN       NaN    NaN         NaN       NaN   \n",
       "496                NaN          NaN       NaN    NaN         NaN       NaN   \n",
       "497                NaN          NaN       NaN    NaN         NaN       NaN   \n",
       "498                NaN          NaN       NaN    NaN         NaN       NaN   \n",
       "\n",
       "    Đặc trưng  \n",
       "0         NaN  \n",
       "1         NaN  \n",
       "2         NaN  \n",
       "3         NaN  \n",
       "4         NaN  \n",
       "..        ...  \n",
       "494       NaN  \n",
       "495       NaN  \n",
       "496       NaN  \n",
       "497       NaN  \n",
       "498       NaN  \n",
       "\n",
       "[499 rows x 56 columns]"
      ]
     },
     "execution_count": 70,
     "metadata": {},
     "output_type": "execute_result"
    }
   ],
   "source": [
    "df"
   ]
  },
  {
   "cell_type": "code",
   "execution_count": 71,
   "id": "46d8544b-3855-4597-a8bb-136fdb67e479",
   "metadata": {},
   "outputs": [],
   "source": [
    "df_new = pd.DataFrame(columns=[\n",
    " 'name',\n",
    " 'brand',\n",
    " 'chipset',\n",
    " 'chipset_gen',\n",
    " 'ram', \n",
    " 'ram_max', \n",
    " 'vga',\n",
    " 'storage_type',\n",
    " 'storage', \n",
    " 'os',\n",
    " 'screen_size',\n",
    " 'screen_width',\n",
    " 'screen_height',\n",
    " 'screen_revolution',\n",
    " 'battery',\n",
    " 'webcam',\n",
    " 'weight', \n",
    " 'price'\n",
    "])"
   ]
  },
  {
   "cell_type": "code",
   "execution_count": 72,
   "id": "4792386a-da71-49b8-98f5-95fe0c2ea5ee",
   "metadata": {},
   "outputs": [],
   "source": [
    "df_new['name'] = df['name']"
   ]
  },
  {
   "cell_type": "code",
   "execution_count": 73,
   "id": "78c79df4-9623-45c8-b411-721a1e471be7",
   "metadata": {},
   "outputs": [
    {
     "data": {
      "text/plain": [
       "0      Laptop Asus Zenbook 14 OLED UX3405MA-PP588W (I...\n",
       "1      Laptop Asus Zenbook Q415 (Core ™ Ultra 5 125H,...\n",
       "2      Laptop Acer Aspire 5 A15-51P-53T8 NX.KSCSV.004...\n",
       "3      Laptop Acer Swift Go AI 2024 Gen 2 SFG14-73-71...\n",
       "4      Laptop Asus Zenbook 14 Q425MA-U71TB (Core™ Ult...\n",
       "                             ...                        \n",
       "494    Laptop Asus Vivobook 14 OLED A1405VA-KM257W  (...\n",
       "495    Laptop Lenovo IdeaPad Slim 3 14IAH8 83EQ0009VN...\n",
       "496    MSI Modern 15 B7M 231VN (Ryzen 5-7530U | Ram 1...\n",
       "497    Laptop Lenovo ThinkPad X1 Carbon Gen 12 21KCS0...\n",
       "498    Laptop Dell Vostro 3530 80GG92 (Core i3-1305U ...\n",
       "Name: name, Length: 499, dtype: object"
      ]
     },
     "execution_count": 73,
     "metadata": {},
     "output_type": "execute_result"
    }
   ],
   "source": [
    "df_new['name']"
   ]
  },
  {
   "cell_type": "code",
   "execution_count": 74,
   "id": "3f427888-1641-4bbb-ac5b-cf95d8f28f5c",
   "metadata": {},
   "outputs": [],
   "source": [
    "df_new['brand'] = df['name'].str.extract(r'(Asus|Dell|Lenovo|HP|Acer|Apple|Acer|MSI|VAIO|LG|DELL|Chuwi|Lenovo|Microsoft|LENOVO|LENOVO|Dell|ASUS)')"
   ]
  },
  {
   "cell_type": "code",
   "execution_count": 75,
   "id": "76363988-08c4-4f77-a3df-8d84db6d151e",
   "metadata": {
    "scrolled": true
   },
   "outputs": [
    {
     "data": {
      "text/plain": [
       "brand\n",
       "Lenovo    125\n",
       "Dell      123\n",
       "HP        113\n",
       "Asus       66\n",
       "LG         20\n",
       "Acer       18\n",
       "MSI        15\n",
       "ASUS        8\n",
       "DELL        1\n",
       "Name: count, dtype: int64"
      ]
     },
     "execution_count": 75,
     "metadata": {},
     "output_type": "execute_result"
    }
   ],
   "source": [
    "df_new['brand'].value_counts()"
   ]
  },
  {
   "cell_type": "code",
   "execution_count": 76,
   "id": "065b5751-bf22-42f1-8250-f82e4b4213cb",
   "metadata": {},
   "outputs": [],
   "source": [
    "df_new.loc[df_new['brand'].isin(['Asus', 'ASUS']), 'brand'] = 'Asus'"
   ]
  },
  {
   "cell_type": "code",
   "execution_count": 77,
   "id": "90139ecf-38bb-46ca-ace2-1df63eb07011",
   "metadata": {},
   "outputs": [],
   "source": [
    "for i in range(len(df['Bộ xử lý - CPU'])):\n",
    "    if type(df['Bộ xử lý - CPU'][i]) == str:\n",
    "        continue\n",
    "    else:\n",
    "        df.loc[i, 'Bộ xử lý - CPU'] = df.iloc[i, 22]"
   ]
  },
  {
   "cell_type": "code",
   "execution_count": 78,
   "id": "4d68aa3d-16ac-4bfa-8adf-87a340b36c18",
   "metadata": {},
   "outputs": [],
   "source": [
    "df_new['chipset'] = df['Bộ xử lý - CPU'].str.extract(r'(Intel|AMD|Alder Lake|Apple)')"
   ]
  },
  {
   "cell_type": "code",
   "execution_count": 79,
   "id": "d97797e9-3a8b-419b-a50b-51e5122e3b00",
   "metadata": {},
   "outputs": [],
   "source": [
    "df_new['chipset_gen'] = df['Bộ xử lý - CPU']"
   ]
  },
  {
   "cell_type": "code",
   "execution_count": 80,
   "id": "eff8d8dd-fd33-4989-a94f-f3506bb3b119",
   "metadata": {},
   "outputs": [],
   "source": [
    "df_new['screen_size'] = df['Màn hình - Monitor'].str.extract(r'(\\d+(?:\\.\\d+)?)\\s*inch')"
   ]
  },
  {
   "cell_type": "code",
   "execution_count": 81,
   "id": "84b86850-96e3-49d1-bc9b-61d950074f8f",
   "metadata": {},
   "outputs": [],
   "source": [
    "df_new['screen_revolution'] = df['Màn hình - Monitor'].str.extract(r'(\\d+(?:\\.\\d+)?K|FHD|WUXGA|QHD|Full HD)')"
   ]
  },
  {
   "cell_type": "code",
   "execution_count": 82,
   "id": "6c690349-bcba-4229-ad40-da1b147ea61c",
   "metadata": {},
   "outputs": [],
   "source": [
    "df_new['screen_full'] = df['Màn hình - Monitor'].str.extract(r'\\((.*?)\\)')"
   ]
  },
  {
   "cell_type": "code",
   "execution_count": 83,
   "id": "7197c2c6-ccbd-4307-9e24-786b745631b9",
   "metadata": {},
   "outputs": [],
   "source": [
    "df_new[['screen_width', 'screen_height']] = df_new['screen_full'].str.extract(r'(\\d+)\\s*[xX×]\\s*(\\d+)')"
   ]
  },
  {
   "cell_type": "code",
   "execution_count": 84,
   "id": "2816ac9f-0f08-428d-8f8d-1e304dbeaadc",
   "metadata": {},
   "outputs": [],
   "source": [
    "df_new['screen_width'] = pd.to_numeric(df_new['screen_width'])\n",
    "df_new['screen_height'] = pd.to_numeric(df_new['screen_height'])"
   ]
  },
  {
   "cell_type": "code",
   "execution_count": 85,
   "id": "ca38b7f2-e1fe-4719-91ba-a07c3a7c2c11",
   "metadata": {},
   "outputs": [],
   "source": [
    "df_new['ram'] = df['Bộ nhớ trong - Ram'].str.extract(r'(\\d+)GB')"
   ]
  },
  {
   "cell_type": "code",
   "execution_count": 86,
   "id": "45d2605f-4729-4e5c-b42c-91024cf9b70a",
   "metadata": {},
   "outputs": [],
   "source": [
    "df_new['storage_type']=df['Ổ đĩa cứng - HDD'].str.extract(r'(SSD|HDD)')"
   ]
  },
  {
   "cell_type": "code",
   "execution_count": 87,
   "id": "747241ef-3b15-4e37-83d8-717f2a98f101",
   "metadata": {},
   "outputs": [
    {
     "data": {
      "text/plain": [
       "storage_type\n",
       "SSD    445\n",
       "Name: count, dtype: int64"
      ]
     },
     "execution_count": 87,
     "metadata": {},
     "output_type": "execute_result"
    }
   ],
   "source": [
    "df_new['storage_type'].value_counts()"
   ]
  },
  {
   "cell_type": "code",
   "execution_count": 88,
   "id": "a6b21392-d14a-4d6e-a8cb-68d1cafd0fec",
   "metadata": {},
   "outputs": [],
   "source": [
    "for i in range(len(df['Ổ đĩa cứng - HDD'])):\n",
    "    if type(df['Ổ đĩa cứng - HDD'][i]) == str:\n",
    "        continue\n",
    "    else:\n",
    "        df['Ổ đĩa cứng - HDD'][i] = df.iloc[:, 26][i]"
   ]
  },
  {
   "cell_type": "code",
   "execution_count": 89,
   "id": "27e47098-c162-4f80-b9af-3e4ec1af8c95",
   "metadata": {},
   "outputs": [],
   "source": [
    "for i in range(len(df['Ổ đĩa cứng - HDD'])):\n",
    "    if type(df['Ổ đĩa cứng - HDD'][i]) == str:\n",
    "        continue\n",
    "    else:\n",
    "        df['Ổ đĩa cứng - HDD'][i] = df.iloc[:, 23][i]"
   ]
  },
  {
   "cell_type": "code",
   "execution_count": 90,
   "id": "21b5fca5-2589-4573-b881-79e765d1abf2",
   "metadata": {},
   "outputs": [],
   "source": [
    "for i in range(len(df['Ổ đĩa cứng - HDD'])):\n",
    "    if type(df['Ổ đĩa cứng - HDD'][i]) == str:\n",
    "        continue\n",
    "    else:\n",
    "        df['Ổ đĩa cứng - HDD'][i] = df.iloc[:, 27][i]"
   ]
  },
  {
   "cell_type": "code",
   "execution_count": 91,
   "id": "82d7e7bd-0282-4c5c-931a-2589adfa99e1",
   "metadata": {},
   "outputs": [],
   "source": [
    "for i in range(len(df['Ổ đĩa cứng - HDD'])):\n",
    "    if type(df['Ổ đĩa cứng - HDD'][i]) == str:\n",
    "        continue\n",
    "    else:\n",
    "        df['Ổ đĩa cứng - HDD'][i] = df.iloc[:, 30][i]"
   ]
  },
  {
   "cell_type": "code",
   "execution_count": 92,
   "id": "565cda4f-e380-4109-8f14-ba1b79c009d2",
   "metadata": {},
   "outputs": [],
   "source": [
    "for i in range(len(df['Ổ đĩa cứng - HDD'])):\n",
    "    if type(df['Ổ đĩa cứng - HDD'][i]) == str:\n",
    "        continue\n",
    "    else:\n",
    "        df['Ổ đĩa cứng - HDD'][i] = df.iloc[:, 21][i]"
   ]
  },
  {
   "cell_type": "code",
   "execution_count": 93,
   "id": "f4b6666d-684c-4032-9a97-cb41ff8a4bc9",
   "metadata": {},
   "outputs": [],
   "source": [
    "for i in range(len(df['Ổ đĩa cứng - HDD'])):\n",
    "    if type(df['Ổ đĩa cứng - HDD'][i]) == str:\n",
    "        continue\n",
    "    else:\n",
    "        df['Ổ đĩa cứng - HDD'][i] = df.iloc[:, 47][i]"
   ]
  },
  {
   "cell_type": "code",
   "execution_count": 94,
   "id": "c845c233-8788-4d30-b071-49599676815d",
   "metadata": {},
   "outputs": [
    {
     "name": "stdout",
     "output_type": "stream",
     "text": [
      "Column Name: Hệ điều hành - Operation System, Column Number: 0\n",
      "Column Name: Bộ xử lý - CPU, Column Number: 1\n",
      "Column Name: Bo mạch chủ - Mainboard, Column Number: 2\n",
      "Column Name: Màn hình - Monitor, Column Number: 3\n",
      "Column Name: Bộ nhớ trong - Ram, Column Number: 4\n",
      "Column Name: Ổ đĩa cứng - HDD, Column Number: 5\n",
      "Column Name: Ổ đĩa quang - CD/DVD, Column Number: 6\n",
      "Column Name: Card đồ hoạ - Video, Column Number: 7\n",
      "Column Name: Card Âm thanh - Audio, Column Number: 8\n",
      "Column Name: Đọc thẻ - Card reader, Column Number: 9\n",
      "Column Name: Finger Print, Column Number: 10\n",
      "Column Name: Giao tiếp mạng - Communications, Column Number: 11\n",
      "Column Name: Cổng giao tiếp - Port, Column Number: 12\n",
      "Column Name: Bluetooth, Column Number: 13\n",
      "Column Name: Pin, Column Number: 14\n",
      "Column Name: Trọng lượng, Column Number: 15\n",
      "Column Name: url, Column Number: 16\n",
      "Column Name: name, Column Number: 17\n",
      "Column Name: gia goc, Column Number: 18\n",
      "Column Name: gia khuyen mai, Column Number: 19\n",
      "Column Name: Webcam, Column Number: 20\n",
      "Column Name: Ổ cứng - SSD, Column Number: 21\n",
      "Column Name: Bộ xử lý - CPU , Column Number: 22\n",
      "Column Name: Ổ cứng , Column Number: 23\n",
      "Column Name: Card đồ hoạ, Column Number: 24\n",
      "Column Name: Âm thanh - Audio, Column Number: 25\n",
      "Column Name: Ổ cứng, Column Number: 26\n",
      "Column Name: Ổ cứng - SSD, Column Number: 27\n",
      "Column Name: Kết nối HDMI/VGA, Column Number: 28\n",
      "Column Name: Card đồ hoạ , Column Number: 29\n",
      "Column Name: Ổ cứng , Column Number: 30\n",
      "Column Name: FingerPrint, Column Number: 31\n",
      "Column Name: Danh mục sản phẩm, Column Number: 32\n",
      "Column Name: Kích thước (Inch) , Column Number: 33\n",
      "Column Name: Độ phân giải, Column Number: 34\n",
      "Column Name: Nhiều tấm nền, Column Number: 35\n",
      "Column Name: Gam màu, Column Number: 36\n",
      "Column Name: Kiểu tấm nền, Column Number: 37\n",
      "Column Name: Độ sáng, Column Number: 38\n",
      "Column Name: Độ tương phản, Column Number: 39\n",
      "Column Name: USB Type C, Column Number: 40\n",
      "Column Name: Nút, Column Number: 41\n",
      "Column Name: Kích thước (mm), Column Number: 42\n",
      "Column Name: Màu sắc, Column Number: 43\n",
      "Column Name: Hệ điều hành, Column Number: 44\n",
      "Column Name: Phụ kiện, Column Number: 45\n",
      "Column Name: ệ điều hành - Operation System, Column Number: 46\n",
      "Column Name: Ổ đĩa cứng , Column Number: 47\n",
      "Column Name: Loại sản phẩm, Column Number: 48\n",
      "Column Name: Chất liệu sản phẩm, Column Number: 49\n",
      "Column Name: Nội dung gói, Column Number: 50\n",
      "Column Name: Chiều dài, Column Number: 51\n",
      "Column Name: Độ dày, Column Number: 52\n",
      "Column Name: Dự định cho, Column Number: 53\n",
      "Column Name: Loại khóa, Column Number: 54\n",
      "Column Name: Đặc trưng, Column Number: 55\n"
     ]
    }
   ],
   "source": [
    "columns_info = [(col_name, col_number) for col_number, col_name in enumerate(df.columns)]\n",
    "\n",
    "# Print the list of columns and their corresponding column numbers\n",
    "for col_name, col_number in columns_info:\n",
    "    print(f\"Column Name: {col_name}, Column Number: {col_number}\")"
   ]
  },
  {
   "cell_type": "code",
   "execution_count": 95,
   "id": "b964a684-30da-4b53-87db-914350641f54",
   "metadata": {},
   "outputs": [],
   "source": [
    "size_info = df['Ổ đĩa cứng - HDD'].str.extract(r'(\\d+)TB|(\\d+)GB')"
   ]
  },
  {
   "cell_type": "code",
   "execution_count": 96,
   "id": "8f0735d6-ccd1-4f04-b9be-fdde5b15be4b",
   "metadata": {},
   "outputs": [],
   "source": [
    "df_new['storage'] = size_info.apply(lambda row: int(row[0]) * 1024 if pd.notna(row[0]) else (int(row[1]) if pd.notna(row[1]) else 0), axis=1)"
   ]
  },
  {
   "cell_type": "code",
   "execution_count": 97,
   "id": "9eda3793-996b-4a06-8c57-49472ddc7714",
   "metadata": {},
   "outputs": [],
   "source": [
    "df_new['vga'] = df['Card đồ hoạ - Video'].str.lower().str.extract(r'(intel|amd|nvidia)')"
   ]
  },
  {
   "cell_type": "code",
   "execution_count": 98,
   "id": "7f5f6368-cc1c-434d-b439-9e7f72a4d802",
   "metadata": {},
   "outputs": [],
   "source": [
    "def get_battery_capacity(string):\n",
    "    # Check if the input string is None\n",
    "    if not isinstance(string, str):\n",
    "        return None\n",
    "    \n",
    "    # Regular expression to match battery capacity\n",
    "    pattern = r'(\\d+(\\.\\d+)?)\\s*Wh?'\n",
    "    \n",
    "    # Search for the pattern in the string\n",
    "    match = re.search(pattern, string)\n",
    "    \n",
    "    if match:\n",
    "        # Extract the matched capacity\n",
    "        capacity = float(match.group(1))\n",
    "        return capacity\n",
    "    else:\n",
    "        return None"
   ]
  },
  {
   "cell_type": "code",
   "execution_count": 99,
   "id": "94788061-f143-4ecd-8cb0-beac18fc301d",
   "metadata": {},
   "outputs": [],
   "source": [
    "df_new['battery'] = df['Pin']\n",
    "df_new['battery'] = df_new['battery'].apply(get_battery_capacity)"
   ]
  },
  {
   "cell_type": "code",
   "execution_count": 100,
   "id": "29a411e8-41b2-45e5-bfc1-1a36cfed2d3d",
   "metadata": {},
   "outputs": [],
   "source": [
    "def get_number_from_string(s):\n",
    "    if not isinstance(s, str):\n",
    "        return None\n",
    "    # Regular expression to match any floating point number\n",
    "    pattern = r\"[-+]?\\d*\\.\\d+|\\d+\"\n",
    "    # Find all matches of the pattern in the string\n",
    "    matches = re.findall(pattern, s)\n",
    "    # Convert the first match to a float and return\n",
    "    return float(matches[0]) if matches else None"
   ]
  },
  {
   "cell_type": "code",
   "execution_count": 101,
   "id": "4224b76e-8701-4283-96cc-40991ed64760",
   "metadata": {},
   "outputs": [],
   "source": [
    "get_number_from_string(\" \")"
   ]
  },
  {
   "cell_type": "code",
   "execution_count": 102,
   "id": "f9b5d294-fdfd-4bfb-8d29-49a52c494090",
   "metadata": {},
   "outputs": [],
   "source": [
    "df_new['weight'] = df['Trọng lượng']"
   ]
  },
  {
   "cell_type": "code",
   "execution_count": 103,
   "id": "77a8a817-b04c-4ef6-854a-79eadcefaa68",
   "metadata": {},
   "outputs": [],
   "source": [
    "df_new['weight'] = df_new['weight'].apply(get_number_from_string)"
   ]
  },
  {
   "cell_type": "code",
   "execution_count": 104,
   "id": "532e9b78-07c4-4c97-b400-c7367819de13",
   "metadata": {},
   "outputs": [],
   "source": [
    "df_new.loc[df_new['weight'] > 100, 'weight'] *= 0.001"
   ]
  },
  {
   "cell_type": "code",
   "execution_count": 105,
   "id": "3aed4a28-f3d5-4c42-94e2-0f6968e64bc2",
   "metadata": {},
   "outputs": [
    {
     "data": {
      "text/plain": [
       "34"
      ]
     },
     "execution_count": 105,
     "metadata": {},
     "output_type": "execute_result"
    }
   ],
   "source": [
    "df_new['weight'].isna().sum()"
   ]
  },
  {
   "cell_type": "code",
   "execution_count": 106,
   "id": "fa072279-49bd-43c1-8e71-e50c6e425ce1",
   "metadata": {},
   "outputs": [
    {
     "data": {
      "text/plain": [
       "0      1.20\n",
       "1      1.28\n",
       "2      1.78\n",
       "3      1.32\n",
       "4      1.28\n",
       "       ... \n",
       "494    1.60\n",
       "495    1.37\n",
       "496    1.75\n",
       "497    1.08\n",
       "498    1.66\n",
       "Name: weight, Length: 499, dtype: float64"
      ]
     },
     "execution_count": 106,
     "metadata": {},
     "output_type": "execute_result"
    }
   ],
   "source": [
    "df_new['weight']"
   ]
  },
  {
   "cell_type": "code",
   "execution_count": 107,
   "id": "ffcc1ae2-7120-4e04-920a-6d418d49d3bf",
   "metadata": {},
   "outputs": [],
   "source": [
    "df_new['price'] = df['gia goc'].str.replace(r'[^\\d]', '', regex=True)\n",
    "df_new['price'] = pd.to_numeric(df_new['price'], errors='coerce')"
   ]
  },
  {
   "cell_type": "code",
   "execution_count": 108,
   "id": "76071568-7e4d-4e17-bb24-0bc04ee0fc24",
   "metadata": {},
   "outputs": [],
   "source": [
    "df_new['ram'] = pd.to_numeric(df_new['ram'].str.extract('(\\d+)')[0])"
   ]
  },
  {
   "cell_type": "code",
   "execution_count": 109,
   "id": "2a8fd47d-25e9-4a7b-b0b5-299cdd1b00fa",
   "metadata": {},
   "outputs": [],
   "source": [
    "def get_ram_max(s):\n",
    "    if not isinstance(s, str):\n",
    "        return None\n",
    "    match = re.search(r'(?:up to|tối đa)\\s+(\\d+)', s, re.IGNORECASE)\n",
    "    if match:\n",
    "        return int(match.group(1))\n",
    "    else:\n",
    "        return None"
   ]
  },
  {
   "cell_type": "code",
   "execution_count": 110,
   "id": "5c71cc4c-50ee-4d03-a7eb-913716b96b34",
   "metadata": {},
   "outputs": [],
   "source": [
    "df_new['ram_max'] = df['Bộ nhớ trong - Ram'].apply(get_ram_max)"
   ]
  },
  {
   "cell_type": "code",
   "execution_count": 111,
   "id": "f490c014-0bc3-43c6-aaa4-b0e335496915",
   "metadata": {},
   "outputs": [],
   "source": [
    "df_new['ram_max'] = df_new['ram_max'].fillna(df_new['ram'] * 1.5).infer_objects(copy=False)"
   ]
  },
  {
   "cell_type": "code",
   "execution_count": 112,
   "id": "f323a1dc-27c5-4c24-a1af-8e7ac14c8917",
   "metadata": {},
   "outputs": [],
   "source": [
    "df_new['webcam'] = df['Webcam'].notnull().astype(int)"
   ]
  },
  {
   "cell_type": "code",
   "execution_count": 113,
   "id": "5271d3f4-b84f-4fb9-88a7-4d929a87e4e2",
   "metadata": {},
   "outputs": [
    {
     "data": {
      "text/plain": [
       "webcam\n",
       "1    455\n",
       "0     44\n",
       "Name: count, dtype: int64"
      ]
     },
     "execution_count": 113,
     "metadata": {},
     "output_type": "execute_result"
    }
   ],
   "source": [
    "df_new['webcam'].value_counts()"
   ]
  },
  {
   "cell_type": "code",
   "execution_count": 114,
   "id": "dd53bd1b-d663-4529-b281-c25b86314403",
   "metadata": {},
   "outputs": [],
   "source": [
    "for i in range(len(df['Hệ điều hành - Operation System'])):\n",
    "    if type(df['Hệ điều hành - Operation System'][i]) == str:\n",
    "        continue\n",
    "    else:\n",
    "        df.loc[i, 'Hệ điều hành - Operation System'] = df.iloc[i, 46]"
   ]
  },
  {
   "cell_type": "code",
   "execution_count": 115,
   "id": "27431b51-9348-4278-a1a7-bda3fe5773cb",
   "metadata": {},
   "outputs": [],
   "source": [
    "# for i in range(len(df['Hệ điều hành - Operation System'])):\n",
    "#     if type(df['Hệ điều hành - Operation System'][i]) != str:\n",
    "#         continue  \n",
    "#     if len(df['Hệ điều hành - Operation System'][i]) >=2:\n",
    "#         continue\n",
    "#     else:\n",
    "#         df.loc[i, 'Hệ điều hành - Operation System'] = df.loc[i, 'name']"
   ]
  },
  {
   "cell_type": "code",
   "execution_count": 116,
   "id": "e353858c-9560-43de-989c-133f1cdf7b6a",
   "metadata": {},
   "outputs": [],
   "source": [
    "df_new['os'] = df['Hệ điều hành - Operation System'].str.extract(r'(Window. \\d\\d|Windows. \\d\\d|Win \\d\\d|Windows 11|Dos|Ubuntu|Mac OS|No OS|Fedora|NoOS|MAC|Windows® 11|Non OS|Window 11|Windows 11)')"
   ]
  },
  {
   "cell_type": "code",
   "execution_count": 117,
   "id": "943bbb00-6f19-49d9-82d6-d598f9fea244",
   "metadata": {},
   "outputs": [
    {
     "data": {
      "text/plain": [
       "os\n",
       "Windows 11     212\n",
       "Windows 11     132\n",
       "Windows® 11     54\n",
       "No OS           42\n",
       "Ubuntu          12\n",
       "Windows® 11      4\n",
       "Fedora           4\n",
       "Windows 10       3\n",
       "Non OS           2\n",
       "Window 11        1\n",
       "Name: count, dtype: int64"
      ]
     },
     "execution_count": 117,
     "metadata": {},
     "output_type": "execute_result"
    }
   ],
   "source": [
    "df_new['os'].value_counts()"
   ]
  },
  {
   "cell_type": "code",
   "execution_count": 118,
   "id": "14400a26-0280-4d56-b131-f61a33063695",
   "metadata": {},
   "outputs": [],
   "source": [
    "df_new = df_new.dropna(subset=['os'])"
   ]
  },
  {
   "cell_type": "code",
   "execution_count": 119,
   "id": "1cd71224-9ad0-4ef3-a10d-1da738829534",
   "metadata": {},
   "outputs": [],
   "source": [
    "df_new.loc[df_new['os'].isin(['Windows® 11', 'Window 11', 'Windows 11', 'Windows 11', 'Windows® 11']), 'os'] = 'Windows 11'\n",
    "df_new.loc[df_new['os'].isin(['Non OS', 'No OS']), 'os'] = 'NoOS'"
   ]
  },
  {
   "cell_type": "code",
   "execution_count": 120,
   "id": "6efacfd7-cfe0-4d07-b5db-8680d47635be",
   "metadata": {},
   "outputs": [],
   "source": [
    "df_new.loc[df_new['os'].isin(['Windows 11', 'Windows 11', 'Windows® 11 ']), 'os'] = 'Windows 11'"
   ]
  },
  {
   "cell_type": "code",
   "execution_count": 121,
   "id": "9bd9caa1-716f-4e56-bc9f-912bde738930",
   "metadata": {},
   "outputs": [],
   "source": [
    "df_new.loc[df_new['os'].isin(['Windows® 11', 'Window 11', 'Windows 11', 'Windows 11', 'Windows® 11 ', 'Windows 11']), 'os'] = 'Windows 11'\n",
    "df_new.loc[df_new['os'].isin(['Non OS', 'No OS']), 'os'] = 'NoOS'"
   ]
  },
  {
   "cell_type": "code",
   "execution_count": 122,
   "id": "93f593f0-2b98-4ead-aa10-4feac7cca6d1",
   "metadata": {},
   "outputs": [
    {
     "data": {
      "text/plain": [
       "os\n",
       "Windows 11     399\n",
       "NoOS            44\n",
       "Ubuntu          12\n",
       "Windows® 11      4\n",
       "Fedora           4\n",
       "Windows 10       3\n",
       "Name: count, dtype: int64"
      ]
     },
     "execution_count": 122,
     "metadata": {},
     "output_type": "execute_result"
    }
   ],
   "source": [
    "df_new['os'].value_counts()"
   ]
  },
  {
   "cell_type": "code",
   "execution_count": 123,
   "id": "9c7bfa36-0aee-413b-9a2c-cb6080427e14",
   "metadata": {},
   "outputs": [
    {
     "data": {
      "text/plain": [
       "Index([], dtype='int64')"
      ]
     },
     "execution_count": 123,
     "metadata": {},
     "output_type": "execute_result"
    }
   ],
   "source": [
    "mask = df.isin(['Windows® 11'])\n",
    "indices = df.loc[mask.any(axis=1)].index\n",
    "indices"
   ]
  },
  {
   "cell_type": "code",
   "execution_count": 242,
   "id": "f3308554-ee8b-440e-9bb7-01f7faa87c4d",
   "metadata": {},
   "outputs": [],
   "source": [
    "amd_df = df_new.loc[df_new['chipset'] == 'AMD']"
   ]
  },
  {
   "cell_type": "code",
   "execution_count": 243,
   "id": "24966dad-c2b6-4300-af71-a327f401ff13",
   "metadata": {
    "scrolled": true
   },
   "outputs": [],
   "source": [
    "amd_df.loc[:, 'chipset_gen'] = amd_df['chipset_gen'].str.extract(r'(\\d+)',expand=False)"
   ]
  },
  {
   "cell_type": "code",
   "execution_count": 244,
   "id": "28572577-f8f6-4a0e-b6b9-4bdf0c105df9",
   "metadata": {
    "scrolled": true
   },
   "outputs": [],
   "source": [
    "amd_df.loc[:, 'chipset_gen'] = 'Ryzen ' + amd_df['chipset_gen']"
   ]
  },
  {
   "cell_type": "code",
   "execution_count": 245,
   "id": "7d21ea5f-9af1-42b6-ad6b-01dec58c8687",
   "metadata": {},
   "outputs": [],
   "source": [
    "intel_df = df_new.loc[df_new['chipset'] == 'Intel']"
   ]
  },
  {
   "cell_type": "code",
   "execution_count": 246,
   "id": "08584b53-5ae2-4b9a-b70c-79db5cb7e445",
   "metadata": {},
   "outputs": [],
   "source": [
    "intel_df.loc[:, 'chipset_gen'] = intel_df['chipset_gen'].str.extract(r'(i[3579]|Ultra [3579])',expand=False)"
   ]
  },
  {
   "cell_type": "code",
   "execution_count": 247,
   "id": "22875ef7-7914-4277-b302-27f26a0e6a98",
   "metadata": {},
   "outputs": [
    {
     "data": {
      "text/plain": [
       "chipset_gen\n",
       "i5         186\n",
       "i7         167\n",
       "i3          44\n",
       "Ultra 7     19\n",
       "i9          12\n",
       "Ultra 5      9\n",
       "Ultra 9      3\n",
       "Name: count, dtype: int64"
      ]
     },
     "execution_count": 247,
     "metadata": {},
     "output_type": "execute_result"
    }
   ],
   "source": [
    "intel_df['chipset_gen'].value_counts()"
   ]
  },
  {
   "cell_type": "code",
   "execution_count": 248,
   "id": "2488c6cf-f9ee-4a05-9354-aa7cae6c50eb",
   "metadata": {},
   "outputs": [],
   "source": [
    "df_new = pd.concat([amd_df, intel_df], ignore_index=True)"
   ]
  },
  {
   "cell_type": "code",
   "execution_count": 249,
   "id": "aae4b610-e0f8-4d0f-8e59-7354b5fb80ca",
   "metadata": {},
   "outputs": [],
   "source": [
    "df_new['chipset_gen'] = df_new['chipset_gen'].fillna('i5')"
   ]
  },
  {
   "cell_type": "code",
   "execution_count": 250,
   "id": "64409fdf-1945-413b-97e1-7c8d2ac8aa76",
   "metadata": {},
   "outputs": [],
   "source": [
    "mode_values = df_new.mode().iloc[0]\n",
    "df_new.fillna(mode_values, inplace=True)"
   ]
  },
  {
   "cell_type": "code",
   "execution_count": 251,
   "id": "4066a926-3e5e-49db-a615-0dd50bafeabe",
   "metadata": {},
   "outputs": [],
   "source": [
    "df_new.to_csv(\"laptopworld_vp.csv\", encoding=\"utf-8-sig\")"
   ]
  }
 ],
 "metadata": {
  "kernelspec": {
   "display_name": "Python 3 (ipykernel)",
   "language": "python",
   "name": "python3"
  },
  "language_info": {
   "codemirror_mode": {
    "name": "ipython",
    "version": 3
   },
   "file_extension": ".py",
   "mimetype": "text/x-python",
   "name": "python",
   "nbconvert_exporter": "python",
   "pygments_lexer": "ipython3",
   "version": "3.11.0"
  }
 },
 "nbformat": 4,
 "nbformat_minor": 5
}
