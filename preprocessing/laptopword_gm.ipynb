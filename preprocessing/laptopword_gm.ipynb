{
 "cells": [
  {
   "cell_type": "code",
   "execution_count": 56,
   "id": "519111fe-3bdb-4813-adea-f78a5a280ffb",
   "metadata": {},
   "outputs": [],
   "source": [
    "import numpy as np\n",
    "import pandas as pd\n",
    "from matplotlib import pyplot as plt\n",
    "import plotly.express as px\n",
    "import seaborn as sns\n",
    "import re"
   ]
  },
  {
   "cell_type": "code",
   "execution_count": 57,
   "id": "e1e67afe-444c-4287-beff-51692027868a",
   "metadata": {},
   "outputs": [],
   "source": [
    "df = pd.read_json(\"laptopworld_gaming.json\")"
   ]
  },
  {
   "cell_type": "code",
   "execution_count": 58,
   "id": "d220d365-56d0-4f97-b69d-45ba7b3db3ae",
   "metadata": {},
   "outputs": [
    {
     "data": {
      "text/html": [
       "<div>\n",
       "<style scoped>\n",
       "    .dataframe tbody tr th:only-of-type {\n",
       "        vertical-align: middle;\n",
       "    }\n",
       "\n",
       "    .dataframe tbody tr th {\n",
       "        vertical-align: top;\n",
       "    }\n",
       "\n",
       "    .dataframe thead th {\n",
       "        text-align: right;\n",
       "    }\n",
       "</style>\n",
       "<table border=\"1\" class=\"dataframe\">\n",
       "  <thead>\n",
       "    <tr style=\"text-align: right;\">\n",
       "      <th></th>\n",
       "      <th>Hệ điều hành - Operation System</th>\n",
       "      <th>Bộ xử lý - CPU</th>\n",
       "      <th>Bo mạch chủ - Mainboard</th>\n",
       "      <th>Màn hình - Monitor</th>\n",
       "      <th>Bộ nhớ trong - Ram</th>\n",
       "      <th>Ổ đĩa cứng - HDD</th>\n",
       "      <th>Ổ đĩa quang - CD/DVD</th>\n",
       "      <th>Card đồ hoạ - Video</th>\n",
       "      <th>Card Âm thanh - Audio</th>\n",
       "      <th>Đọc thẻ - Card reader</th>\n",
       "      <th>...</th>\n",
       "      <th>Power Supply</th>\n",
       "      <th>Dimensions</th>\n",
       "      <th>Weight</th>\n",
       "      <th>Graphics Card Support</th>\n",
       "      <th>Accessories</th>\n",
       "      <th>Model Support</th>\n",
       "      <th>Bộ nguồn</th>\n",
       "      <th>Kết nối mạng</th>\n",
       "      <th>Cổng kết nối</th>\n",
       "      <th>Hệ thống điều khiển</th>\n",
       "    </tr>\n",
       "  </thead>\n",
       "  <tbody>\n",
       "    <tr>\n",
       "      <th>0</th>\n",
       "      <td>Windows 11 Home bản quyền</td>\n",
       "      <td>Intel® Core™ i5-12450H (2.00GHz up to 4.40GHz,...</td>\n",
       "      <td>--</td>\n",
       "      <td>15.6inch FHD (1920x1080), 144Hz 45%NTSC IPS-Level</td>\n",
       "      <td>8GB DDR5 4800MHz (nâng cấp được Ram)</td>\n",
       "      <td>512GB NVMe PCIe SSD Gen4x4 w/o DRAM</td>\n",
       "      <td>--</td>\n",
       "      <td>NVIDIA GeForce RTX 4050 6GB GDDR6</td>\n",
       "      <td>--</td>\n",
       "      <td></td>\n",
       "      <td>...</td>\n",
       "      <td>NaN</td>\n",
       "      <td>NaN</td>\n",
       "      <td>NaN</td>\n",
       "      <td>NaN</td>\n",
       "      <td>NaN</td>\n",
       "      <td>NaN</td>\n",
       "      <td>NaN</td>\n",
       "      <td>NaN</td>\n",
       "      <td>NaN</td>\n",
       "      <td>NaN</td>\n",
       "    </tr>\n",
       "    <tr>\n",
       "      <th>1</th>\n",
       "      <td>Windows® 11 Home Single Language bản quyền</td>\n",
       "      <td>Intel® Core™ i9-14900HX (2.20GHz up to 5.80GHz...</td>\n",
       "      <td>--</td>\n",
       "      <td>16inch 3.2K (3200x2000) IPS 430nits Anti-glare...</td>\n",
       "      <td>32GB (2x16GB) DDR5 5600MHz (2 slots, up to 32GB)</td>\n",
       "      <td>1TB SSD M.2 2280 PCIe® 4.0x4 NVMe®</td>\n",
       "      <td>--</td>\n",
       "      <td>NVIDIA® GeForce RTX™ 4070 8GB GDDR6</td>\n",
       "      <td>--</td>\n",
       "      <td>1 x SD Card Reader</td>\n",
       "      <td>...</td>\n",
       "      <td>NaN</td>\n",
       "      <td>NaN</td>\n",
       "      <td>NaN</td>\n",
       "      <td>NaN</td>\n",
       "      <td>NaN</td>\n",
       "      <td>NaN</td>\n",
       "      <td>NaN</td>\n",
       "      <td>NaN</td>\n",
       "      <td>NaN</td>\n",
       "      <td>NaN</td>\n",
       "    </tr>\n",
       "    <tr>\n",
       "      <th>2</th>\n",
       "      <td>Windows 11 Home bản quyền</td>\n",
       "      <td>AMD Ryzen™ 7-7840HS (3.80GHz up to 5.10GHz, 16...</td>\n",
       "      <td>--</td>\n",
       "      <td>15.6 inch FHD(1920x1080) 165Hz, Non-Touch, 100...</td>\n",
       "      <td>16GB DDR5 4800MHz</td>\n",
       "      <td>512GB M.2 PCIe NVMe SSD</td>\n",
       "      <td>--</td>\n",
       "      <td>NVIDIA GeForce RTX 4060 8GB GDDR6</td>\n",
       "      <td>--</td>\n",
       "      <td>--</td>\n",
       "      <td>...</td>\n",
       "      <td>NaN</td>\n",
       "      <td>NaN</td>\n",
       "      <td>NaN</td>\n",
       "      <td>NaN</td>\n",
       "      <td>NaN</td>\n",
       "      <td>NaN</td>\n",
       "      <td>NaN</td>\n",
       "      <td>NaN</td>\n",
       "      <td>NaN</td>\n",
       "      <td>NaN</td>\n",
       "    </tr>\n",
       "    <tr>\n",
       "      <th>3</th>\n",
       "      <td>Windows® 11 Home Single Language bản quyền</td>\n",
       "      <td>Intel® Core™ i9-14900HX (2.20GHz up to 5.80GHz...</td>\n",
       "      <td>--</td>\n",
       "      <td>16inch 3.2K (3200x2000) IPS 430nits Anti-glare...</td>\n",
       "      <td>32GB (2x16GB) DDR5 5600MHz (2 slots, up to 32GB)</td>\n",
       "      <td>1TB SSD M.2 2280 PCIe® 4.0x4 NVMe®</td>\n",
       "      <td>--</td>\n",
       "      <td>NVIDIA® GeForce RTX™ 4070 8GB GDDR6</td>\n",
       "      <td>--</td>\n",
       "      <td>1 x SD Card Reader</td>\n",
       "      <td>...</td>\n",
       "      <td>NaN</td>\n",
       "      <td>NaN</td>\n",
       "      <td>NaN</td>\n",
       "      <td>NaN</td>\n",
       "      <td>NaN</td>\n",
       "      <td>NaN</td>\n",
       "      <td>NaN</td>\n",
       "      <td>NaN</td>\n",
       "      <td>NaN</td>\n",
       "      <td>NaN</td>\n",
       "    </tr>\n",
       "    <tr>\n",
       "      <th>4</th>\n",
       "      <td>Windows 11 Home bản quyền</td>\n",
       "      <td>Intel® Core™ i5-12450H (2.00GHz up to 4.40GHz,...</td>\n",
       "      <td>--</td>\n",
       "      <td>15.6Inch FHD(1920 x 1080) IPS 144Hz 45%NTSC</td>\n",
       "      <td>16GB DDR4 3200MHz (2 Khe, tối đa 64GB)</td>\n",
       "      <td>NaN</td>\n",
       "      <td>NaN</td>\n",
       "      <td>NVIDIA GeForce RTX 3050 4GB GDDR6</td>\n",
       "      <td>NaN</td>\n",
       "      <td>--</td>\n",
       "      <td>...</td>\n",
       "      <td>NaN</td>\n",
       "      <td>NaN</td>\n",
       "      <td>NaN</td>\n",
       "      <td>NaN</td>\n",
       "      <td>NaN</td>\n",
       "      <td>NaN</td>\n",
       "      <td>NaN</td>\n",
       "      <td>NaN</td>\n",
       "      <td>NaN</td>\n",
       "      <td>NaN</td>\n",
       "    </tr>\n",
       "    <tr>\n",
       "      <th>...</th>\n",
       "      <td>...</td>\n",
       "      <td>...</td>\n",
       "      <td>...</td>\n",
       "      <td>...</td>\n",
       "      <td>...</td>\n",
       "      <td>...</td>\n",
       "      <td>...</td>\n",
       "      <td>...</td>\n",
       "      <td>...</td>\n",
       "      <td>...</td>\n",
       "      <td>...</td>\n",
       "      <td>...</td>\n",
       "      <td>...</td>\n",
       "      <td>...</td>\n",
       "      <td>...</td>\n",
       "      <td>...</td>\n",
       "      <td>...</td>\n",
       "      <td>...</td>\n",
       "      <td>...</td>\n",
       "      <td>...</td>\n",
       "      <td>...</td>\n",
       "    </tr>\n",
       "    <tr>\n",
       "      <th>289</th>\n",
       "      <td>Windows® 11 Home bản quyền</td>\n",
       "      <td>Intel® Core™ i7-13650HX (2.60GHz up to 4.90GHz...</td>\n",
       "      <td>--</td>\n",
       "      <td>16 inch WQXGA (2560x1600) IPS, 350nits, Anti-g...</td>\n",
       "      <td>16GB(16GBx1) DDR5 4800MHz (2 SO-DIMM slots, up...</td>\n",
       "      <td>512GB M.2 2280 PCIe® 4.0x4 NVMe® SSD</td>\n",
       "      <td>--</td>\n",
       "      <td>NVIDIA® GeForce RTX™ 4060 8GB GDDR6</td>\n",
       "      <td>--</td>\n",
       "      <td>1 x Card reader</td>\n",
       "      <td>...</td>\n",
       "      <td>NaN</td>\n",
       "      <td>NaN</td>\n",
       "      <td>NaN</td>\n",
       "      <td>NaN</td>\n",
       "      <td>NaN</td>\n",
       "      <td>NaN</td>\n",
       "      <td>NaN</td>\n",
       "      <td>NaN</td>\n",
       "      <td>NaN</td>\n",
       "      <td>NaN</td>\n",
       "    </tr>\n",
       "    <tr>\n",
       "      <th>290</th>\n",
       "      <td>Windows® 11 Home Single Language bản quyền</td>\n",
       "      <td>AMD Ryzen™ 7-8845HS (3.80GHz up to 5.10GHz, 16...</td>\n",
       "      <td>--</td>\n",
       "      <td>16inch WQXGA (2560x1600) IPS 300nits Anti-glar...</td>\n",
       "      <td>16GB (1x 16GB) SO-DIMM DDR5-5600MHz (2 SO-DIMM...</td>\n",
       "      <td>NaN</td>\n",
       "      <td>NaN</td>\n",
       "      <td>NVIDIA® GeForce RTX™ 4060 8GB GDDR6</td>\n",
       "      <td>NaN</td>\n",
       "      <td>1 x SD Card Reader</td>\n",
       "      <td>...</td>\n",
       "      <td>NaN</td>\n",
       "      <td>NaN</td>\n",
       "      <td>NaN</td>\n",
       "      <td>NaN</td>\n",
       "      <td>NaN</td>\n",
       "      <td>NaN</td>\n",
       "      <td>NaN</td>\n",
       "      <td>NaN</td>\n",
       "      <td>NaN</td>\n",
       "      <td>NaN</td>\n",
       "    </tr>\n",
       "    <tr>\n",
       "      <th>291</th>\n",
       "      <td>Windows 11 Home bản quyền</td>\n",
       "      <td>AMD Ryzen 7-8845HS  (3.30GHz up to 5.10GHz, 16...</td>\n",
       "      <td>--</td>\n",
       "      <td>15.6inch FHD (1920 x 1080), 144Hz, 45%NTSC, IP...</td>\n",
       "      <td>16GB (8GBx2) DDR5 5600MHz (2 slots, up to 64GB)</td>\n",
       "      <td>512GB NVMe PCIe SSD Gen4x4 w/o DRAM</td>\n",
       "      <td>--</td>\n",
       "      <td>NVIDIA GeForce RTX 4050 6GB GDDR6</td>\n",
       "      <td>--</td>\n",
       "      <td></td>\n",
       "      <td>...</td>\n",
       "      <td>NaN</td>\n",
       "      <td>NaN</td>\n",
       "      <td>NaN</td>\n",
       "      <td>NaN</td>\n",
       "      <td>NaN</td>\n",
       "      <td>NaN</td>\n",
       "      <td>NaN</td>\n",
       "      <td>NaN</td>\n",
       "      <td>NaN</td>\n",
       "      <td>NaN</td>\n",
       "    </tr>\n",
       "    <tr>\n",
       "      <th>292</th>\n",
       "      <td>Windows® 11 Home Single Language bản quyền</td>\n",
       "      <td>Intel® Core™ i5-12450HX (2.40GHz up to 4.40GHz...</td>\n",
       "      <td>--</td>\n",
       "      <td>15.6inch FHD (1920x1080) IPS, 300nits, Anti-gl...</td>\n",
       "      <td>16GB (1x 16GB) SO-DIMM DDR5 4800MHz (2 slots, ...</td>\n",
       "      <td>512GB SSD M.2 2242 PCIe® 4.0x4 NVMe®</td>\n",
       "      <td>--</td>\n",
       "      <td>Intel® Arc™ A530M 4GB GDDR6</td>\n",
       "      <td>--</td>\n",
       "      <td>--</td>\n",
       "      <td>...</td>\n",
       "      <td>NaN</td>\n",
       "      <td>NaN</td>\n",
       "      <td>NaN</td>\n",
       "      <td>NaN</td>\n",
       "      <td>NaN</td>\n",
       "      <td>NaN</td>\n",
       "      <td>NaN</td>\n",
       "      <td>NaN</td>\n",
       "      <td>NaN</td>\n",
       "      <td>NaN</td>\n",
       "    </tr>\n",
       "    <tr>\n",
       "      <th>293</th>\n",
       "      <td>Windows 11 Home SL bản quyền</td>\n",
       "      <td>Intel® Core™ Ultra 9 185H (2.50GHz up to 5.10G...</td>\n",
       "      <td>--</td>\n",
       "      <td>16inch 2.5K (2560 x 1600, WQXGA) 16:10, OLED, ...</td>\n",
       "      <td>32GB LPDDR5X 7467MHz</td>\n",
       "      <td>1TB SSD NVMe M.2 PCIe Gen4x4</td>\n",
       "      <td>--</td>\n",
       "      <td>NVIDIA® GeForce RTX 4070 8GB GDDR6</td>\n",
       "      <td>--</td>\n",
       "      <td>1 x card reader (SD) (UHS-II, 312MB/s)</td>\n",
       "      <td>...</td>\n",
       "      <td>NaN</td>\n",
       "      <td>NaN</td>\n",
       "      <td>NaN</td>\n",
       "      <td>NaN</td>\n",
       "      <td>NaN</td>\n",
       "      <td>NaN</td>\n",
       "      <td>NaN</td>\n",
       "      <td>NaN</td>\n",
       "      <td>NaN</td>\n",
       "      <td>NaN</td>\n",
       "    </tr>\n",
       "  </tbody>\n",
       "</table>\n",
       "<p>294 rows × 55 columns</p>\n",
       "</div>"
      ],
      "text/plain": [
       "                Hệ điều hành - Operation System  \\\n",
       "0                     Windows 11 Home bản quyền   \n",
       "1    Windows® 11 Home Single Language bản quyền   \n",
       "2                     Windows 11 Home bản quyền   \n",
       "3    Windows® 11 Home Single Language bản quyền   \n",
       "4                    Windows 11 Home bản quyền    \n",
       "..                                          ...   \n",
       "289                  Windows® 11 Home bản quyền   \n",
       "290  Windows® 11 Home Single Language bản quyền   \n",
       "291                   Windows 11 Home bản quyền   \n",
       "292  Windows® 11 Home Single Language bản quyền   \n",
       "293                Windows 11 Home SL bản quyền   \n",
       "\n",
       "                                        Bộ xử lý - CPU  \\\n",
       "0    Intel® Core™ i5-12450H (2.00GHz up to 4.40GHz,...   \n",
       "1    Intel® Core™ i9-14900HX (2.20GHz up to 5.80GHz...   \n",
       "2    AMD Ryzen™ 7-7840HS (3.80GHz up to 5.10GHz, 16...   \n",
       "3    Intel® Core™ i9-14900HX (2.20GHz up to 5.80GHz...   \n",
       "4    Intel® Core™ i5-12450H (2.00GHz up to 4.40GHz,...   \n",
       "..                                                 ...   \n",
       "289  Intel® Core™ i7-13650HX (2.60GHz up to 4.90GHz...   \n",
       "290  AMD Ryzen™ 7-8845HS (3.80GHz up to 5.10GHz, 16...   \n",
       "291  AMD Ryzen 7-8845HS  (3.30GHz up to 5.10GHz, 16...   \n",
       "292  Intel® Core™ i5-12450HX (2.40GHz up to 4.40GHz...   \n",
       "293  Intel® Core™ Ultra 9 185H (2.50GHz up to 5.10G...   \n",
       "\n",
       "    Bo mạch chủ - Mainboard  \\\n",
       "0                        --   \n",
       "1                        --   \n",
       "2                        --   \n",
       "3                        --   \n",
       "4                        --   \n",
       "..                      ...   \n",
       "289                      --   \n",
       "290                      --   \n",
       "291                      --   \n",
       "292                      --   \n",
       "293                      --   \n",
       "\n",
       "                                    Màn hình - Monitor  \\\n",
       "0    15.6inch FHD (1920x1080), 144Hz 45%NTSC IPS-Level   \n",
       "1    16inch 3.2K (3200x2000) IPS 430nits Anti-glare...   \n",
       "2    15.6 inch FHD(1920x1080) 165Hz, Non-Touch, 100...   \n",
       "3    16inch 3.2K (3200x2000) IPS 430nits Anti-glare...   \n",
       "4          15.6Inch FHD(1920 x 1080) IPS 144Hz 45%NTSC   \n",
       "..                                                 ...   \n",
       "289  16 inch WQXGA (2560x1600) IPS, 350nits, Anti-g...   \n",
       "290  16inch WQXGA (2560x1600) IPS 300nits Anti-glar...   \n",
       "291  15.6inch FHD (1920 x 1080), 144Hz, 45%NTSC, IP...   \n",
       "292  15.6inch FHD (1920x1080) IPS, 300nits, Anti-gl...   \n",
       "293  16inch 2.5K (2560 x 1600, WQXGA) 16:10, OLED, ...   \n",
       "\n",
       "                                    Bộ nhớ trong - Ram  \\\n",
       "0                 8GB DDR5 4800MHz (nâng cấp được Ram)   \n",
       "1     32GB (2x16GB) DDR5 5600MHz (2 slots, up to 32GB)   \n",
       "2                                    16GB DDR5 4800MHz   \n",
       "3     32GB (2x16GB) DDR5 5600MHz (2 slots, up to 32GB)   \n",
       "4               16GB DDR4 3200MHz (2 Khe, tối đa 64GB)   \n",
       "..                                                 ...   \n",
       "289  16GB(16GBx1) DDR5 4800MHz (2 SO-DIMM slots, up...   \n",
       "290  16GB (1x 16GB) SO-DIMM DDR5-5600MHz (2 SO-DIMM...   \n",
       "291    16GB (8GBx2) DDR5 5600MHz (2 slots, up to 64GB)   \n",
       "292  16GB (1x 16GB) SO-DIMM DDR5 4800MHz (2 slots, ...   \n",
       "293                               32GB LPDDR5X 7467MHz   \n",
       "\n",
       "                         Ổ đĩa cứng - HDD Ổ đĩa quang - CD/DVD  \\\n",
       "0     512GB NVMe PCIe SSD Gen4x4 w/o DRAM                   --   \n",
       "1      1TB SSD M.2 2280 PCIe® 4.0x4 NVMe®                   --   \n",
       "2                 512GB M.2 PCIe NVMe SSD                   --   \n",
       "3      1TB SSD M.2 2280 PCIe® 4.0x4 NVMe®                   --   \n",
       "4                                     NaN                  NaN   \n",
       "..                                    ...                  ...   \n",
       "289  512GB M.2 2280 PCIe® 4.0x4 NVMe® SSD                   --   \n",
       "290                                   NaN                  NaN   \n",
       "291   512GB NVMe PCIe SSD Gen4x4 w/o DRAM                   --   \n",
       "292  512GB SSD M.2 2242 PCIe® 4.0x4 NVMe®                   --   \n",
       "293          1TB SSD NVMe M.2 PCIe Gen4x4                   --   \n",
       "\n",
       "                     Card đồ hoạ - Video Card Âm thanh - Audio  \\\n",
       "0      NVIDIA GeForce RTX 4050 6GB GDDR6                    --   \n",
       "1    NVIDIA® GeForce RTX™ 4070 8GB GDDR6                    --   \n",
       "2      NVIDIA GeForce RTX 4060 8GB GDDR6                    --   \n",
       "3    NVIDIA® GeForce RTX™ 4070 8GB GDDR6                    --   \n",
       "4      NVIDIA GeForce RTX 3050 4GB GDDR6                   NaN   \n",
       "..                                   ...                   ...   \n",
       "289  NVIDIA® GeForce RTX™ 4060 8GB GDDR6                    --   \n",
       "290  NVIDIA® GeForce RTX™ 4060 8GB GDDR6                   NaN   \n",
       "291    NVIDIA GeForce RTX 4050 6GB GDDR6                    --   \n",
       "292          Intel® Arc™ A530M 4GB GDDR6                    --   \n",
       "293   NVIDIA® GeForce RTX 4070 8GB GDDR6                    --   \n",
       "\n",
       "                      Đọc thẻ - Card reader  ... Power Supply Dimensions  \\\n",
       "0                                            ...          NaN        NaN   \n",
       "1                        1 x SD Card Reader  ...          NaN        NaN   \n",
       "2                                        --  ...          NaN        NaN   \n",
       "3                        1 x SD Card Reader  ...          NaN        NaN   \n",
       "4                                        --  ...          NaN        NaN   \n",
       "..                                      ...  ...          ...        ...   \n",
       "289                         1 x Card reader  ...          NaN        NaN   \n",
       "290                      1 x SD Card Reader  ...          NaN        NaN   \n",
       "291                                          ...          NaN        NaN   \n",
       "292                                      --  ...          NaN        NaN   \n",
       "293  1 x card reader (SD) (UHS-II, 312MB/s)  ...          NaN        NaN   \n",
       "\n",
       "    Weight Graphics Card Support Accessories Model Support Bộ nguồn  \\\n",
       "0      NaN                   NaN         NaN           NaN      NaN   \n",
       "1      NaN                   NaN         NaN           NaN      NaN   \n",
       "2      NaN                   NaN         NaN           NaN      NaN   \n",
       "3      NaN                   NaN         NaN           NaN      NaN   \n",
       "4      NaN                   NaN         NaN           NaN      NaN   \n",
       "..     ...                   ...         ...           ...      ...   \n",
       "289    NaN                   NaN         NaN           NaN      NaN   \n",
       "290    NaN                   NaN         NaN           NaN      NaN   \n",
       "291    NaN                   NaN         NaN           NaN      NaN   \n",
       "292    NaN                   NaN         NaN           NaN      NaN   \n",
       "293    NaN                   NaN         NaN           NaN      NaN   \n",
       "\n",
       "    Kết nối mạng Cổng kết nối Hệ thống điều khiển  \n",
       "0            NaN          NaN                 NaN  \n",
       "1            NaN          NaN                 NaN  \n",
       "2            NaN          NaN                 NaN  \n",
       "3            NaN          NaN                 NaN  \n",
       "4            NaN          NaN                 NaN  \n",
       "..           ...          ...                 ...  \n",
       "289          NaN          NaN                 NaN  \n",
       "290          NaN          NaN                 NaN  \n",
       "291          NaN          NaN                 NaN  \n",
       "292          NaN          NaN                 NaN  \n",
       "293          NaN          NaN                 NaN  \n",
       "\n",
       "[294 rows x 55 columns]"
      ]
     },
     "execution_count": 58,
     "metadata": {},
     "output_type": "execute_result"
    }
   ],
   "source": [
    "df"
   ]
  },
  {
   "cell_type": "code",
   "execution_count": 59,
   "id": "46d8544b-3855-4597-a8bb-136fdb67e479",
   "metadata": {},
   "outputs": [],
   "source": [
    "df_new = pd.DataFrame(columns=[\n",
    " 'name',\n",
    " 'brand',\n",
    " 'chipset',\n",
    " 'chipset_gen',\n",
    " 'ram', \n",
    " 'ram_max', \n",
    " 'vga',\n",
    " 'storage_type',\n",
    " 'storage', \n",
    " 'os',\n",
    " 'screen_size',\n",
    " 'screen_width',\n",
    " 'screen_height',\n",
    " 'screen_revolution',\n",
    " 'battery',\n",
    " 'webcam',\n",
    " 'weight', \n",
    " 'price'\n",
    "])"
   ]
  },
  {
   "cell_type": "code",
   "execution_count": 60,
   "id": "4792386a-da71-49b8-98f5-95fe0c2ea5ee",
   "metadata": {},
   "outputs": [],
   "source": [
    "df_new['name'] = df['name']"
   ]
  },
  {
   "cell_type": "code",
   "execution_count": 61,
   "id": "78c79df4-9623-45c8-b411-721a1e471be7",
   "metadata": {},
   "outputs": [
    {
     "data": {
      "text/plain": [
       "0      Laptop MSI Cyborg 15 A12VE 412VN (Core™ i5-124...\n",
       "1      Laptop Lenovo Legion 7 16IRX9 83FD006JVN (Core...\n",
       "2      Laptop Dell Gaming G15 5535  (Ryzen™ 7-7840HS,...\n",
       "3      Laptop Lenovo Legion 7 16IRX9 83FD004MVN (Core...\n",
       "4      Laptop MSI Thin GF63 12UC 1006VN (Core i5-1245...\n",
       "                             ...                        \n",
       "289    Laptop Lenovo Legion 5 16IRX9 83DG004XVN (Core...\n",
       "290    Laptop Lenovo Legion Slim 5 16AHP9 83DH003AVN ...\n",
       "291    Laptop MSI Katana A15 AI B8VE 402VN (AMD Ryzen...\n",
       "292    Laptop Lenovo LOQ 15IAX9I 83FQ0005VN (Core i5-...\n",
       "293    Laptop Asus ROG Zephyrus G16 GU605MI-QR116W (I...\n",
       "Name: name, Length: 294, dtype: object"
      ]
     },
     "execution_count": 61,
     "metadata": {},
     "output_type": "execute_result"
    }
   ],
   "source": [
    "df_new['name']"
   ]
  },
  {
   "cell_type": "code",
   "execution_count": 62,
   "id": "3f427888-1641-4bbb-ac5b-cf95d8f28f5c",
   "metadata": {},
   "outputs": [],
   "source": [
    "df_new['brand'] = df['name'].str.extract(r'(Asus|Dell|Lenovo|HP|Acer|Apple|Acer|MSI|VAIO|LG|DELL|Chuwi|Lenovo|Microsoft|LENOVO|LENOVO|Dell|ASUS)')"
   ]
  },
  {
   "cell_type": "code",
   "execution_count": 63,
   "id": "76363988-08c4-4f77-a3df-8d84db6d151e",
   "metadata": {
    "scrolled": true
   },
   "outputs": [
    {
     "data": {
      "text/plain": [
       "brand\n",
       "Dell      60\n",
       "MSI       54\n",
       "Lenovo    54\n",
       "Asus      50\n",
       "Acer      24\n",
       "HP        17\n",
       "Name: count, dtype: int64"
      ]
     },
     "execution_count": 63,
     "metadata": {},
     "output_type": "execute_result"
    }
   ],
   "source": [
    "df_new['brand'].value_counts()"
   ]
  },
  {
   "cell_type": "code",
   "execution_count": 64,
   "id": "90139ecf-38bb-46ca-ace2-1df63eb07011",
   "metadata": {},
   "outputs": [],
   "source": [
    "for i in range(len(df['Bộ xử lý - CPU'])):\n",
    "    if type(df.loc[i, 'Bộ xử lý - CPU']) == str:\n",
    "        continue\n",
    "    else:\n",
    "        df.loc[i, 'Bộ xử lý - CPU'] = df.iloc[:, 22][i]"
   ]
  },
  {
   "cell_type": "code",
   "execution_count": 65,
   "id": "4d68aa3d-16ac-4bfa-8adf-87a340b36c18",
   "metadata": {},
   "outputs": [],
   "source": [
    "df_new['chipset'] = df['Bộ xử lý - CPU'].str.extract(r'(Intel|AMD|Alder Lake|Apple)')"
   ]
  },
  {
   "cell_type": "code",
   "execution_count": 66,
   "id": "d97797e9-3a8b-419b-a50b-51e5122e3b00",
   "metadata": {},
   "outputs": [],
   "source": [
    "df_new['chipset_gen'] = df['Bộ xử lý - CPU']"
   ]
  },
  {
   "cell_type": "code",
   "execution_count": 67,
   "id": "eff8d8dd-fd33-4989-a94f-f3506bb3b119",
   "metadata": {},
   "outputs": [],
   "source": [
    "df_new['screen_size'] = df['Màn hình - Monitor'].str.extract(r'(\\d+(?:\\.\\d+)?)\\s*inch')"
   ]
  },
  {
   "cell_type": "code",
   "execution_count": 68,
   "id": "84b86850-96e3-49d1-bc9b-61d950074f8f",
   "metadata": {},
   "outputs": [],
   "source": [
    "df_new['screen_revolution'] = df['Màn hình - Monitor'].str.extract(r'(\\d+(?:\\.\\d+)?K|FHD|WUXGA|QHD|Full HD)')"
   ]
  },
  {
   "cell_type": "code",
   "execution_count": 69,
   "id": "6c690349-bcba-4229-ad40-da1b147ea61c",
   "metadata": {},
   "outputs": [],
   "source": [
    "df_new['screen_full'] = df['Màn hình - Monitor'].str.extract(r'\\((.*?)\\)')"
   ]
  },
  {
   "cell_type": "code",
   "execution_count": 70,
   "id": "7197c2c6-ccbd-4307-9e24-786b745631b9",
   "metadata": {},
   "outputs": [],
   "source": [
    "df_new[['screen_width', 'screen_height']] = df_new['screen_full'].str.extract(r'(\\d+)\\s*[xX×]\\s*(\\d+)')"
   ]
  },
  {
   "cell_type": "code",
   "execution_count": 71,
   "id": "2816ac9f-0f08-428d-8f8d-1e304dbeaadc",
   "metadata": {},
   "outputs": [],
   "source": [
    "df_new['screen_width'] = pd.to_numeric(df_new['screen_width'])\n",
    "df_new['screen_height'] = pd.to_numeric(df_new['screen_height'])"
   ]
  },
  {
   "cell_type": "code",
   "execution_count": 72,
   "id": "ca38b7f2-e1fe-4719-91ba-a07c3a7c2c11",
   "metadata": {},
   "outputs": [],
   "source": [
    "df_new['ram'] = df['Bộ nhớ trong - Ram'].str.extract(r'(\\d+)GB')"
   ]
  },
  {
   "cell_type": "code",
   "execution_count": 73,
   "id": "45d2605f-4729-4e5c-b42c-91024cf9b70a",
   "metadata": {},
   "outputs": [],
   "source": [
    "df_new['storage_type']=df['Ổ đĩa cứng - HDD'].str.extract(r'(SSD|HDD)')"
   ]
  },
  {
   "cell_type": "code",
   "execution_count": 74,
   "id": "747241ef-3b15-4e37-83d8-717f2a98f101",
   "metadata": {},
   "outputs": [
    {
     "data": {
      "text/plain": [
       "storage_type\n",
       "SSD    257\n",
       "Name: count, dtype: int64"
      ]
     },
     "execution_count": 74,
     "metadata": {},
     "output_type": "execute_result"
    }
   ],
   "source": [
    "df_new['storage_type'].value_counts()"
   ]
  },
  {
   "cell_type": "code",
   "execution_count": 75,
   "id": "a190d98a-4e15-41ba-8020-12db7efcbdb4",
   "metadata": {},
   "outputs": [],
   "source": [
    "for i in range(len(df['Ổ đĩa cứng - HDD'])):\n",
    "    if type(df.loc[i,'Ổ đĩa cứng - HDD']) == str:\n",
    "        continue\n",
    "    else:\n",
    "        df.loc[i,'Ổ đĩa cứng - HDD'] = df['Ổ cứng'][i]"
   ]
  },
  {
   "cell_type": "code",
   "execution_count": 76,
   "id": "b42abe28-8e4b-4584-8b44-59ef60d440d3",
   "metadata": {},
   "outputs": [],
   "source": [
    "for i in range(len(df['Ổ đĩa cứng - HDD'])):\n",
    "    if type(df.loc[i,'Ổ đĩa cứng - HDD']) == str:\n",
    "        continue\n",
    "    else:\n",
    "        df.loc[i,'Ổ đĩa cứng - HDD'] = df.iloc[:, 21][i]"
   ]
  },
  {
   "cell_type": "code",
   "execution_count": 77,
   "id": "b964a684-30da-4b53-87db-914350641f54",
   "metadata": {},
   "outputs": [],
   "source": [
    "size_info = df['Ổ đĩa cứng - HDD'].str.extract(r'(\\d+)TB|(\\d+)GB')"
   ]
  },
  {
   "cell_type": "code",
   "execution_count": 78,
   "id": "8f0735d6-ccd1-4f04-b9be-fdde5b15be4b",
   "metadata": {},
   "outputs": [],
   "source": [
    "df_new['storage'] = size_info.apply(lambda row: int(row[0]) * 1024 if pd.notna(row[0]) else (int(row[1]) if pd.notna(row[1]) else 0), axis=1)"
   ]
  },
  {
   "cell_type": "code",
   "execution_count": 79,
   "id": "9eda3793-996b-4a06-8c57-49472ddc7714",
   "metadata": {},
   "outputs": [],
   "source": [
    "df_new['vga'] = df['Card đồ hoạ - Video'].str.lower().str.extract(r'(intel|amd|nvidia)')"
   ]
  },
  {
   "cell_type": "code",
   "execution_count": 80,
   "id": "a8a39703-2163-423f-a8d8-77938c7c0bb2",
   "metadata": {},
   "outputs": [
    {
     "name": "stdout",
     "output_type": "stream",
     "text": [
      "52.5\n",
      "80.0\n",
      "90.0\n"
     ]
    }
   ],
   "source": [
    "def get_battery_capacity(string):\n",
    "    # Check if the input string is None\n",
    "    if not isinstance(string, str):\n",
    "        return None\n",
    "    \n",
    "    # Regular expression to match battery capacity\n",
    "    pattern = r'(\\d+(\\.\\d+)?)\\s*Wh?'\n",
    "    \n",
    "    # Search for the pattern in the string\n",
    "    match = re.search(pattern, string)\n",
    "    \n",
    "    if match:\n",
    "        # Extract the matched capacity\n",
    "        capacity = float(match.group(1))\n",
    "        return capacity\n",
    "    else:\n",
    "        return None\n",
    "\n",
    "# Test cases\n",
    "print(get_battery_capacity(\"3Cell 52.5WHrs\"))  # Output: 52.5\n",
    "print(get_battery_capacity(\"4Cell 80WH\"))     # Output: 80\n",
    "print(get_battery_capacity(\"4Cell, 90Wh\"))    # Output: 90"
   ]
  },
  {
   "cell_type": "code",
   "execution_count": 81,
   "id": "94788061-f143-4ecd-8cb0-beac18fc301d",
   "metadata": {},
   "outputs": [],
   "source": [
    "df_new['battery'] = df['Pin']\n",
    "df_new['battery'] = df_new['battery'].apply(get_battery_capacity)"
   ]
  },
  {
   "cell_type": "code",
   "execution_count": 82,
   "id": "78fe3f90-f21c-4541-8191-190bce11e253",
   "metadata": {},
   "outputs": [
    {
     "data": {
      "text/plain": [
       "14"
      ]
     },
     "execution_count": 82,
     "metadata": {},
     "output_type": "execute_result"
    }
   ],
   "source": [
    "df_new['battery'].isna().sum()"
   ]
  },
  {
   "cell_type": "code",
   "execution_count": 83,
   "id": "25bcaa7a-def8-46ac-9636-a457572a49c1",
   "metadata": {},
   "outputs": [
    {
     "data": {
      "text/plain": [
       "[34, 36, 83, 84, 149, 172, 175, 194, 196, 197, 198, 199, 252, 261]"
      ]
     },
     "execution_count": 83,
     "metadata": {},
     "output_type": "execute_result"
    }
   ],
   "source": [
    "df_new['battery'].index[df_new['battery'].isna()].tolist()"
   ]
  },
  {
   "cell_type": "code",
   "execution_count": 84,
   "id": "29a411e8-41b2-45e5-bfc1-1a36cfed2d3d",
   "metadata": {},
   "outputs": [],
   "source": [
    "def get_number_from_string(s):\n",
    "    if not isinstance(s, str):\n",
    "        return None\n",
    "    # Regular expression to match any floating point number\n",
    "    pattern = r\"[-+]?\\d*\\.\\d+|\\d+\"\n",
    "    # Find all matches of the pattern in the string\n",
    "    matches = re.findall(pattern, s)\n",
    "    # Convert the first match to a float and return\n",
    "    return float(matches[0]) if matches else None"
   ]
  },
  {
   "cell_type": "code",
   "execution_count": 85,
   "id": "4224b76e-8701-4283-96cc-40991ed64760",
   "metadata": {},
   "outputs": [],
   "source": [
    "get_number_from_string(\" \")"
   ]
  },
  {
   "cell_type": "code",
   "execution_count": 86,
   "id": "f9b5d294-fdfd-4bfb-8d29-49a52c494090",
   "metadata": {},
   "outputs": [],
   "source": [
    "df_new['weight'] = df['Trọng lượng']"
   ]
  },
  {
   "cell_type": "code",
   "execution_count": 87,
   "id": "77a8a817-b04c-4ef6-854a-79eadcefaa68",
   "metadata": {},
   "outputs": [],
   "source": [
    "df_new['weight'] = df_new['weight'].apply(get_number_from_string)"
   ]
  },
  {
   "cell_type": "code",
   "execution_count": 88,
   "id": "3aed4a28-f3d5-4c42-94e2-0f6968e64bc2",
   "metadata": {},
   "outputs": [
    {
     "data": {
      "text/plain": [
       "12"
      ]
     },
     "execution_count": 88,
     "metadata": {},
     "output_type": "execute_result"
    }
   ],
   "source": [
    "df_new['weight'].isna().sum()"
   ]
  },
  {
   "cell_type": "code",
   "execution_count": 89,
   "id": "fa072279-49bd-43c1-8e71-e50c6e425ce1",
   "metadata": {},
   "outputs": [
    {
     "data": {
      "text/plain": [
       "weight\n",
       "2.40    29\n",
       "2.20    20\n",
       "2.50    14\n",
       "2.67    12\n",
       "2.25    10\n",
       "        ..\n",
       "2.56     1\n",
       "1.39     1\n",
       "2.75     1\n",
       "2.59     1\n",
       "2.97     1\n",
       "Name: count, Length: 61, dtype: int64"
      ]
     },
     "execution_count": 89,
     "metadata": {},
     "output_type": "execute_result"
    }
   ],
   "source": [
    "df_new['weight'].value_counts()"
   ]
  },
  {
   "cell_type": "code",
   "execution_count": 90,
   "id": "93b251d0-ea3f-4e32-927c-dd5cf22004a3",
   "metadata": {},
   "outputs": [],
   "source": [
    "df_new.loc[df_new['weight'] > 100, 'weight'] *= 0.001"
   ]
  },
  {
   "cell_type": "code",
   "execution_count": 91,
   "id": "ffcc1ae2-7120-4e04-920a-6d418d49d3bf",
   "metadata": {},
   "outputs": [],
   "source": [
    "df_new['price'] = df['gia_chinh_hang'].str.replace(r'[^\\d]', '', regex=True)\n",
    "df_new['price'] = pd.to_numeric(df_new['price'], errors='coerce')"
   ]
  },
  {
   "cell_type": "code",
   "execution_count": 92,
   "id": "76071568-7e4d-4e17-bb24-0bc04ee0fc24",
   "metadata": {},
   "outputs": [],
   "source": [
    "df_new['ram'] = pd.to_numeric(df_new['ram'].str.extract('(\\d+)')[0])"
   ]
  },
  {
   "cell_type": "code",
   "execution_count": 93,
   "id": "8308ed14-a326-4f10-ad02-ee3ce436632f",
   "metadata": {},
   "outputs": [],
   "source": [
    "def get_ram_max(s):\n",
    "    if not isinstance(s, str):\n",
    "        return None\n",
    "    match = re.search(r'(?:up to|tối đa)\\s+(\\d+)', s, re.IGNORECASE)\n",
    "    if match:\n",
    "        return int(match.group(1))\n",
    "    else:\n",
    "        return None"
   ]
  },
  {
   "cell_type": "code",
   "execution_count": 94,
   "id": "2a8fd47d-25e9-4a7b-b0b5-299cdd1b00fa",
   "metadata": {},
   "outputs": [],
   "source": [
    "df_new['ram_max'] = df['Bộ nhớ trong - Ram'].apply(get_ram_max)"
   ]
  },
  {
   "cell_type": "code",
   "execution_count": 95,
   "id": "ba8f7b4f-4639-4927-a6d2-40fb8b386653",
   "metadata": {},
   "outputs": [],
   "source": [
    "df_new['ram_max'] = df_new['ram_max'].fillna(df_new['ram'] * 1.5).infer_objects(copy=False)"
   ]
  },
  {
   "cell_type": "code",
   "execution_count": 96,
   "id": "f323a1dc-27c5-4c24-a1af-8e7ac14c8917",
   "metadata": {},
   "outputs": [],
   "source": [
    "df_new['webcam'] = df['Webcam'].notnull().astype(int)"
   ]
  },
  {
   "cell_type": "code",
   "execution_count": 97,
   "id": "5271d3f4-b84f-4fb9-88a7-4d929a87e4e2",
   "metadata": {},
   "outputs": [
    {
     "data": {
      "text/plain": [
       "webcam\n",
       "1    279\n",
       "0     15\n",
       "Name: count, dtype: int64"
      ]
     },
     "execution_count": 97,
     "metadata": {},
     "output_type": "execute_result"
    }
   ],
   "source": [
    "df_new['webcam'].value_counts()"
   ]
  },
  {
   "cell_type": "code",
   "execution_count": 98,
   "id": "dd53bd1b-d663-4529-b281-c25b86314403",
   "metadata": {},
   "outputs": [],
   "source": [
    "for i in range(len(df['Hệ điều hành - Operation System'])):\n",
    "    if type(df.loc[i,'Hệ điều hành - Operation System']) == str:\n",
    "        continue\n",
    "    else:\n",
    "        df.loc[i,'Hệ điều hành - Operation System'] = df.iloc[:, 30][i]"
   ]
  },
  {
   "cell_type": "code",
   "execution_count": 99,
   "id": "27431b51-9348-4278-a1a7-bda3fe5773cb",
   "metadata": {},
   "outputs": [],
   "source": [
    "for i in range(len(df['Hệ điều hành - Operation System'])):\n",
    "    if type(df['Hệ điều hành - Operation System'][i]) != str:\n",
    "        continue  \n",
    "    if len(df['Hệ điều hành - Operation System'][i]) >=2:\n",
    "        continue\n",
    "    else:\n",
    "        df['Hệ điều hành - Operation System'][i] = df['name'][i]"
   ]
  },
  {
   "cell_type": "code",
   "execution_count": 100,
   "id": "e353858c-9560-43de-989c-133f1cdf7b6a",
   "metadata": {},
   "outputs": [],
   "source": [
    "df_new['os'] = df['Hệ điều hành - Operation System'].str.extract(r'(Window. \\d\\d|Windows. \\d\\d|Win \\d\\d|Windows 11|Dos|Ubuntu|Mac OS|No OS|Fedora|NoOS|MAC|Windows® 11|Non OS|Window 11|Windows 11)')"
   ]
  },
  {
   "cell_type": "code",
   "execution_count": 101,
   "id": "943bbb00-6f19-49d9-82d6-d598f9fea244",
   "metadata": {},
   "outputs": [
    {
     "data": {
      "text/plain": [
       "os\n",
       "Windows 11     183\n",
       "Windows 11      43\n",
       "Windows® 11     40\n",
       "Ubuntu          11\n",
       "Windows 10       5\n",
       "Name: count, dtype: int64"
      ]
     },
     "execution_count": 101,
     "metadata": {},
     "output_type": "execute_result"
    }
   ],
   "source": [
    "df_new['os'].value_counts()"
   ]
  },
  {
   "cell_type": "code",
   "execution_count": 102,
   "id": "14400a26-0280-4d56-b131-f61a33063695",
   "metadata": {},
   "outputs": [],
   "source": [
    "df_new = df_new.dropna(subset=['os'])"
   ]
  },
  {
   "cell_type": "code",
   "execution_count": 103,
   "id": "1cd71224-9ad0-4ef3-a10d-1da738829534",
   "metadata": {},
   "outputs": [],
   "source": [
    "df_new.loc[df_new['os'].isin(['Windows® 11', 'Window 11', 'Windows 11', 'Windows 11', 'Windows® 11']), 'os'] = 'Windows 11'\n",
    "df_new.loc[df_new['os'].isin(['Non OS', 'No OS']), 'os'] = 'NoOS'"
   ]
  },
  {
   "cell_type": "code",
   "execution_count": 104,
   "id": "93f593f0-2b98-4ead-aa10-4feac7cca6d1",
   "metadata": {},
   "outputs": [
    {
     "data": {
      "text/plain": [
       "os\n",
       "Windows 11    223\n",
       "Windows 11     43\n",
       "Ubuntu         11\n",
       "Windows 10      5\n",
       "Name: count, dtype: int64"
      ]
     },
     "execution_count": 104,
     "metadata": {},
     "output_type": "execute_result"
    }
   ],
   "source": [
    "df_new['os'].value_counts()"
   ]
  },
  {
   "cell_type": "code",
   "execution_count": 105,
   "id": "f3308554-ee8b-440e-9bb7-01f7faa87c4d",
   "metadata": {},
   "outputs": [],
   "source": [
    "amd_df = df_new.loc[df_new['chipset'] == 'AMD']"
   ]
  },
  {
   "cell_type": "code",
   "execution_count": 106,
   "id": "24966dad-c2b6-4300-af71-a327f401ff13",
   "metadata": {
    "scrolled": true
   },
   "outputs": [],
   "source": [
    "amd_df.loc[:, 'chipset_gen'] = amd_df['chipset_gen'].str.extract(r'(\\d+)',expand=False)"
   ]
  },
  {
   "cell_type": "code",
   "execution_count": 107,
   "id": "28572577-f8f6-4a0e-b6b9-4bdf0c105df9",
   "metadata": {
    "scrolled": true
   },
   "outputs": [],
   "source": [
    "amd_df.loc[:, 'chipset_gen'] = 'Ryzen ' + amd_df['chipset_gen']"
   ]
  },
  {
   "cell_type": "code",
   "execution_count": 108,
   "id": "7d21ea5f-9af1-42b6-ad6b-01dec58c8687",
   "metadata": {},
   "outputs": [],
   "source": [
    "intel_df = df_new.loc[df_new['chipset'] == 'Intel']"
   ]
  },
  {
   "cell_type": "code",
   "execution_count": 109,
   "id": "08584b53-5ae2-4b9a-b70c-79db5cb7e445",
   "metadata": {},
   "outputs": [],
   "source": [
    "intel_df.loc[:, 'chipset_gen'] = intel_df['chipset_gen'].str.extract(r'(i[3579]|Ultra [3579])',expand=False)"
   ]
  },
  {
   "cell_type": "code",
   "execution_count": 110,
   "id": "2488c6cf-f9ee-4a05-9354-aa7cae6c50eb",
   "metadata": {},
   "outputs": [],
   "source": [
    "df_new = pd.concat([amd_df, intel_df], ignore_index=True)"
   ]
  },
  {
   "cell_type": "code",
   "execution_count": 111,
   "id": "af6b5b02-a9c4-47a0-b784-50b7ff44d3ce",
   "metadata": {},
   "outputs": [],
   "source": [
    "df_new['chipset_gen'] = df_new['chipset_gen'].fillna('i7')"
   ]
  },
  {
   "cell_type": "code",
   "execution_count": 112,
   "id": "6baf07ef-2616-43e8-b91c-5ac03481cedb",
   "metadata": {},
   "outputs": [],
   "source": [
    "mode_values = df_new.mode().iloc[0]\n",
    "df_new.fillna(mode_values, inplace=True)"
   ]
  },
  {
   "cell_type": "code",
   "execution_count": 113,
   "id": "4066a926-3e5e-49db-a615-0dd50bafeabe",
   "metadata": {},
   "outputs": [],
   "source": [
    "df_new.to_csv(\"laptopworld_gaming.csv\", encoding=\"utf-8-sig\")"
   ]
  },
  {
   "cell_type": "code",
   "execution_count": null,
   "id": "1b928456-c1a1-4b7a-865a-626ee8c83fb4",
   "metadata": {},
   "outputs": [],
   "source": []
  }
 ],
 "metadata": {
  "kernelspec": {
   "display_name": "Python 3 (ipykernel)",
   "language": "python",
   "name": "python3"
  },
  "language_info": {
   "codemirror_mode": {
    "name": "ipython",
    "version": 3
   },
   "file_extension": ".py",
   "mimetype": "text/x-python",
   "name": "python",
   "nbconvert_exporter": "python",
   "pygments_lexer": "ipython3",
   "version": "3.11.0"
  }
 },
 "nbformat": 4,
 "nbformat_minor": 5
}
